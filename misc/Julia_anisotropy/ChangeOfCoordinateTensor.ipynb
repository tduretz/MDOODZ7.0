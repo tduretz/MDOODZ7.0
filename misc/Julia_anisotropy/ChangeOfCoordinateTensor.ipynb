{
 "cells": [
  {
   "cell_type": "markdown",
   "metadata": {},
   "source": [
    "#### Tensor change of coordinate system"
   ]
  },
  {
   "cell_type": "code",
   "execution_count": 9,
   "metadata": {},
   "outputs": [],
   "source": [
    "from IPython.display import display\n",
    "from sympy import *\n",
    "init_printing()  # LaTeX-like pretty printing for IPython"
   ]
  },
  {
   "cell_type": "code",
   "execution_count": 10,
   "metadata": {},
   "outputs": [
    {
     "data": {
      "text/latex": [
       "$\\displaystyle \\left[\\begin{matrix}exxd & exz\\\\ezx & ezzd\\end{matrix}\\right]$"
      ],
      "text/plain": [
       "⎡exxd  exz ⎤\n",
       "⎢          ⎥\n",
       "⎣ezx   ezzd⎦"
      ]
     },
     "metadata": {},
     "output_type": "display_data"
    },
    {
     "data": {
      "text/latex": [
       "$\\displaystyle \\left[\\begin{matrix}n_{x}\\\\n_{z}\\end{matrix}\\right]$"
      ],
      "text/plain": [
       "⎡nₓ ⎤\n",
       "⎢   ⎥\n",
       "⎣n_z⎦"
      ]
     },
     "metadata": {},
     "output_type": "display_data"
    }
   ],
   "source": [
    "#exxd = symbols('varepsilon_xxd', real = True)\n",
    "#ezzd = symbols('varepsilon_zzd', real = True)\n",
    "#exz  = symbols('varepsilon_xz' , real = True)\n",
    "#ezx  = symbols('varepsilon_zx' , real = True)\n",
    "exxd = symbols('exxd', real = True)\n",
    "ezzd = symbols('ezzd', real = True)\n",
    "exz  = symbols('exz' , real = True)\n",
    "ezx  = symbols('ezx' , real = True)\n",
    "Strain_xz = Matrix([[exxd, exz],[ezx, ezzd]])\n",
    "display(Strain_xz)\n",
    "\n",
    "nx = symbols('n_x', real = True)\n",
    "nz = symbols('n_z', real = True)\n",
    "n = Matrix([nx,nz])\n",
    "display(n)\n",
    "\n",
    "Strain_xzp = Function('Strain_xzp')"
   ]
  },
  {
   "cell_type": "code",
   "execution_count": 11,
   "metadata": {},
   "outputs": [
    {
     "data": {
      "image/png": "[encoded data removed]",
      "text/latex": [
       "$\\displaystyle \\phi$"
      ],
      "text/plain": [
       "φ"
      ]
     },
     "metadata": {},
     "output_type": "display_data"
    },
    {
     "data": {
      "text/latex": [
       "$\\displaystyle \\left[\\begin{matrix}\\cos{\\left(\\phi \\right)} & \\sin{\\left(\\phi \\right)}\\\\- \\sin{\\left(\\phi \\right)} & \\cos{\\left(\\phi \\right)}\\end{matrix}\\right]$"
      ],
      "text/plain": [
       "⎡cos(φ)   sin(φ)⎤\n",
       "⎢               ⎥\n",
       "⎣-sin(φ)  cos(φ)⎦"
      ]
     },
     "metadata": {},
     "output_type": "display_data"
    }
   ],
   "source": [
    "phi = symbols('phi', real = True)\n",
    "display(phi)\n",
    "#R11,R22,R12,R21 = symbols('R_11,R_22,R_12,R_21')\n",
    "#R = Matrix([[R11,R12],[R21,R22]])\n",
    "Q = Matrix([[cos(phi),sin(phi)],[-sin(phi),cos(phi)]])\n",
    "display(Q)"
   ]
  },
  {
   "cell_type": "code",
   "execution_count": 12,
   "metadata": {},
   "outputs": [
    {
     "data": {
      "text/latex": [
       "$\\displaystyle \\left[\\begin{matrix}\\left(exxd \\cos{\\left(\\phi \\right)} + ezx \\sin{\\left(\\phi \\right)}\\right) \\cos{\\left(\\phi \\right)} + \\left(exz \\cos{\\left(\\phi \\right)} + ezzd \\sin{\\left(\\phi \\right)}\\right) \\sin{\\left(\\phi \\right)} & - \\left(exxd \\cos{\\left(\\phi \\right)} + ezx \\sin{\\left(\\phi \\right)}\\right) \\sin{\\left(\\phi \\right)} + \\left(exz \\cos{\\left(\\phi \\right)} + ezzd \\sin{\\left(\\phi \\right)}\\right) \\cos{\\left(\\phi \\right)}\\\\\\left(- exxd \\sin{\\left(\\phi \\right)} + ezx \\cos{\\left(\\phi \\right)}\\right) \\cos{\\left(\\phi \\right)} + \\left(- exz \\sin{\\left(\\phi \\right)} + ezzd \\cos{\\left(\\phi \\right)}\\right) \\sin{\\left(\\phi \\right)} & - \\left(- exxd \\sin{\\left(\\phi \\right)} + ezx \\cos{\\left(\\phi \\right)}\\right) \\sin{\\left(\\phi \\right)} + \\left(- exz \\sin{\\left(\\phi \\right)} + ezzd \\cos{\\left(\\phi \\right)}\\right) \\cos{\\left(\\phi \\right)}\\end{matrix}\\right]$"
      ],
      "text/plain": [
       "⎡ (exxd⋅cos(φ) + ezx⋅sin(φ))⋅cos(φ) + (exz⋅cos(φ) + ezzd⋅sin(φ))⋅sin(φ)    -(e\n",
       "⎢                                                                             \n",
       "⎣(-exxd⋅sin(φ) + ezx⋅cos(φ))⋅cos(φ) + (-exz⋅sin(φ) + ezzd⋅cos(φ))⋅sin(φ)  -(-e\n",
       "\n",
       "xxd⋅cos(φ) + ezx⋅sin(φ))⋅sin(φ) + (exz⋅cos(φ) + ezzd⋅sin(φ))⋅cos(φ) ⎤\n",
       "                                                                    ⎥\n",
       "xxd⋅sin(φ) + ezx⋅cos(φ))⋅sin(φ) + (-exz⋅sin(φ) + ezzd⋅cos(φ))⋅cos(φ)⎦"
      ]
     },
     "metadata": {},
     "output_type": "display_data"
    }
   ],
   "source": [
    "Strain_xzp = Q * Strain_xz * Q.transpose()\n",
    "display(Strain_xzp)"
   ]
  },
  {
   "cell_type": "code",
   "execution_count": 13,
   "metadata": {},
   "outputs": [
    {
     "name": "stdout",
     "output_type": "stream",
     "text": [
      "exxdp:  (exxd.*cos(phi) + ezx.*sin(phi)).*cos(phi) + (exz.*cos(phi) + ezzd.*sin(phi)).*sin(phi)\n",
      "ezzdp:  -(-exxd.*sin(phi) + ezx.*cos(phi)).*sin(phi) + (-exz.*sin(phi) + ezzd.*cos(phi)).*cos(phi)\n",
      "exzdp:  -(exxd.*cos(phi) + ezx.*sin(phi)).*sin(phi) + (exz.*cos(phi) + ezzd.*sin(phi)).*cos(phi)\n",
      "ezxdp:  (-exxd.*sin(phi) + ezx.*cos(phi)).*cos(phi) + (-exz.*sin(phi) + ezzd.*cos(phi)).*sin(phi)\n"
     ]
    }
   ],
   "source": [
    "print('exxdp: ', julia_code(Strain_xzp[0,0]))\n",
    "print('ezzdp: ', julia_code(Strain_xzp[1,1]))\n",
    "print('exzdp: ', julia_code(Strain_xzp[0,1]))\n",
    "print('ezxdp: ', julia_code(Strain_xzp[1,0]))"
   ]
  },
  {
   "cell_type": "code",
   "execution_count": 14,
   "metadata": {},
   "outputs": [
    {
     "data": {
      "text/latex": [
       "$\\displaystyle \\left[\\begin{matrix}\\left(exxd \\cos{\\left(\\frac{n_{x}}{\\sqrt{n_{x}^{2} + n_{z}^{2}}} \\right)} - ezx \\sin{\\left(\\frac{n_{x}}{\\sqrt{n_{x}^{2} + n_{z}^{2}}} \\right)}\\right) \\cos{\\left(\\frac{n_{x}}{\\sqrt{n_{x}^{2} + n_{z}^{2}}} \\right)} - \\left(exz \\cos{\\left(\\frac{n_{x}}{\\sqrt{n_{x}^{2} + n_{z}^{2}}} \\right)} - ezzd \\sin{\\left(\\frac{n_{x}}{\\sqrt{n_{x}^{2} + n_{z}^{2}}} \\right)}\\right) \\sin{\\left(\\frac{n_{x}}{\\sqrt{n_{x}^{2} + n_{z}^{2}}} \\right)} & \\left(exxd \\cos{\\left(\\frac{n_{x}}{\\sqrt{n_{x}^{2} + n_{z}^{2}}} \\right)} - ezx \\sin{\\left(\\frac{n_{x}}{\\sqrt{n_{x}^{2} + n_{z}^{2}}} \\right)}\\right) \\sin{\\left(\\frac{n_{x}}{\\sqrt{n_{x}^{2} + n_{z}^{2}}} \\right)} + \\left(exz \\cos{\\left(\\frac{n_{x}}{\\sqrt{n_{x}^{2} + n_{z}^{2}}} \\right)} - ezzd \\sin{\\left(\\frac{n_{x}}{\\sqrt{n_{x}^{2} + n_{z}^{2}}} \\right)}\\right) \\cos{\\left(\\frac{n_{x}}{\\sqrt{n_{x}^{2} + n_{z}^{2}}} \\right)}\\\\\\left(exxd \\sin{\\left(\\frac{n_{x}}{\\sqrt{n_{x}^{2} + n_{z}^{2}}} \\right)} + ezx \\cos{\\left(\\frac{n_{x}}{\\sqrt{n_{x}^{2} + n_{z}^{2}}} \\right)}\\right) \\cos{\\left(\\frac{n_{x}}{\\sqrt{n_{x}^{2} + n_{z}^{2}}} \\right)} - \\left(exz \\sin{\\left(\\frac{n_{x}}{\\sqrt{n_{x}^{2} + n_{z}^{2}}} \\right)} + ezzd \\cos{\\left(\\frac{n_{x}}{\\sqrt{n_{x}^{2} + n_{z}^{2}}} \\right)}\\right) \\sin{\\left(\\frac{n_{x}}{\\sqrt{n_{x}^{2} + n_{z}^{2}}} \\right)} & \\left(exxd \\sin{\\left(\\frac{n_{x}}{\\sqrt{n_{x}^{2} + n_{z}^{2}}} \\right)} + ezx \\cos{\\left(\\frac{n_{x}}{\\sqrt{n_{x}^{2} + n_{z}^{2}}} \\right)}\\right) \\sin{\\left(\\frac{n_{x}}{\\sqrt{n_{x}^{2} + n_{z}^{2}}} \\right)} + \\left(exz \\sin{\\left(\\frac{n_{x}}{\\sqrt{n_{x}^{2} + n_{z}^{2}}} \\right)} + ezzd \\cos{\\left(\\frac{n_{x}}{\\sqrt{n_{x}^{2} + n_{z}^{2}}} \\right)}\\right) \\cos{\\left(\\frac{n_{x}}{\\sqrt{n_{x}^{2} + n_{z}^{2}}} \\right)}\\end{matrix}\\right]$"
      ],
      "text/plain": [
       "⎡⎛        ⎛       nₓ      ⎞          ⎛       nₓ      ⎞⎞    ⎛       nₓ      ⎞  \n",
       "⎢⎜exxd⋅cos⎜───────────────⎟ - ezx⋅sin⎜───────────────⎟⎟⋅cos⎜───────────────⎟ -\n",
       "⎢⎜        ⎜   ____________⎟          ⎜   ____________⎟⎟    ⎜   ____________⎟  \n",
       "⎢⎜        ⎜  ╱   2      2 ⎟          ⎜  ╱   2      2 ⎟⎟    ⎜  ╱   2      2 ⎟  \n",
       "⎢⎝        ⎝╲╱  nₓ  + n_z  ⎠          ⎝╲╱  nₓ  + n_z  ⎠⎠    ⎝╲╱  nₓ  + n_z  ⎠  \n",
       "⎢                                                                             \n",
       "⎢⎛        ⎛       nₓ      ⎞          ⎛       nₓ      ⎞⎞    ⎛       nₓ      ⎞  \n",
       "⎢⎜exxd⋅sin⎜───────────────⎟ + ezx⋅cos⎜───────────────⎟⎟⋅cos⎜───────────────⎟ -\n",
       "⎢⎜        ⎜   ____________⎟          ⎜   ____________⎟⎟    ⎜   ____________⎟  \n",
       "⎢⎜        ⎜  ╱   2      2 ⎟          ⎜  ╱   2      2 ⎟⎟    ⎜  ╱   2      2 ⎟  \n",
       "⎣⎝        ⎝╲╱  nₓ  + n_z  ⎠          ⎝╲╱  nₓ  + n_z  ⎠⎠    ⎝╲╱  nₓ  + n_z  ⎠  \n",
       "\n",
       " ⎛       ⎛       nₓ      ⎞           ⎛       nₓ      ⎞⎞    ⎛       nₓ      ⎞  \n",
       " ⎜exz⋅cos⎜───────────────⎟ - ezzd⋅sin⎜───────────────⎟⎟⋅sin⎜───────────────⎟  \n",
       " ⎜       ⎜   ____________⎟           ⎜   ____________⎟⎟    ⎜   ____________⎟  \n",
       " ⎜       ⎜  ╱   2      2 ⎟           ⎜  ╱   2      2 ⎟⎟    ⎜  ╱   2      2 ⎟  \n",
       " ⎝       ⎝╲╱  nₓ  + n_z  ⎠           ⎝╲╱  nₓ  + n_z  ⎠⎠    ⎝╲╱  nₓ  + n_z  ⎠  \n",
       "                                                                              \n",
       " ⎛       ⎛       nₓ      ⎞           ⎛       nₓ      ⎞⎞    ⎛       nₓ      ⎞  \n",
       " ⎜exz⋅sin⎜───────────────⎟ + ezzd⋅cos⎜───────────────⎟⎟⋅sin⎜───────────────⎟  \n",
       " ⎜       ⎜   ____________⎟           ⎜   ____________⎟⎟    ⎜   ____________⎟  \n",
       " ⎜       ⎜  ╱   2      2 ⎟           ⎜  ╱   2      2 ⎟⎟    ⎜  ╱   2      2 ⎟  \n",
       " ⎝       ⎝╲╱  nₓ  + n_z  ⎠           ⎝╲╱  nₓ  + n_z  ⎠⎠    ⎝╲╱  nₓ  + n_z  ⎠  \n",
       "\n",
       "⎛        ⎛       nₓ      ⎞          ⎛       nₓ      ⎞⎞    ⎛       nₓ      ⎞   \n",
       "⎜exxd⋅cos⎜───────────────⎟ - ezx⋅sin⎜───────────────⎟⎟⋅sin⎜───────────────⎟ + \n",
       "⎜        ⎜   ____________⎟          ⎜   ____________⎟⎟    ⎜   ____________⎟   \n",
       "⎜        ⎜  ╱   2      2 ⎟          ⎜  ╱   2      2 ⎟⎟    ⎜  ╱   2      2 ⎟   \n",
       "⎝        ⎝╲╱  nₓ  + n_z  ⎠          ⎝╲╱  nₓ  + n_z  ⎠⎠    ⎝╲╱  nₓ  + n_z  ⎠   \n",
       "                                                                              \n",
       "⎛        ⎛       nₓ      ⎞          ⎛       nₓ      ⎞⎞    ⎛       nₓ      ⎞   \n",
       "⎜exxd⋅sin⎜───────────────⎟ + ezx⋅cos⎜───────────────⎟⎟⋅sin⎜───────────────⎟ + \n",
       "⎜        ⎜   ____________⎟          ⎜   ____________⎟⎟    ⎜   ____________⎟   \n",
       "⎜        ⎜  ╱   2      2 ⎟          ⎜  ╱   2      2 ⎟⎟    ⎜  ╱   2      2 ⎟   \n",
       "⎝        ⎝╲╱  nₓ  + n_z  ⎠          ⎝╲╱  nₓ  + n_z  ⎠⎠    ⎝╲╱  nₓ  + n_z  ⎠   \n",
       "\n",
       "⎛       ⎛       nₓ      ⎞           ⎛       nₓ      ⎞⎞    ⎛       nₓ      ⎞⎤\n",
       "⎜exz⋅cos⎜───────────────⎟ - ezzd⋅sin⎜───────────────⎟⎟⋅cos⎜───────────────⎟⎥\n",
       "⎜       ⎜   ____________⎟           ⎜   ____________⎟⎟    ⎜   ____________⎟⎥\n",
       "⎜       ⎜  ╱   2      2 ⎟           ⎜  ╱   2      2 ⎟⎟    ⎜  ╱   2      2 ⎟⎥\n",
       "⎝       ⎝╲╱  nₓ  + n_z  ⎠           ⎝╲╱  nₓ  + n_z  ⎠⎠    ⎝╲╱  nₓ  + n_z  ⎠⎥\n",
       "                                                                           ⎥\n",
       "⎛       ⎛       nₓ      ⎞           ⎛       nₓ      ⎞⎞    ⎛       nₓ      ⎞⎥\n",
       "⎜exz⋅sin⎜───────────────⎟ + ezzd⋅cos⎜───────────────⎟⎟⋅cos⎜───────────────⎟⎥\n",
       "⎜       ⎜   ____________⎟           ⎜   ____________⎟⎟    ⎜   ____________⎟⎥\n",
       "⎜       ⎜  ╱   2      2 ⎟           ⎜  ╱   2      2 ⎟⎟    ⎜  ╱   2      2 ⎟⎥\n",
       "⎝       ⎝╲╱  nₓ  + n_z  ⎠           ⎝╲╱  nₓ  + n_z  ⎠⎠    ⎝╲╱  nₓ  + n_z  ⎠⎦"
      ]
     },
     "metadata": {},
     "output_type": "display_data"
    }
   ],
   "source": [
    "Strain_xzp = Strain_xzp.subs(phi,-nx/sqrt(nx**2 + nz**2))\n",
    "display(Strain_xzp)"
   ]
  },
  {
   "cell_type": "code",
   "execution_count": 15,
   "metadata": {},
   "outputs": [
    {
     "data": {
      "text/latex": [
       "$\\displaystyle \\left[\\begin{matrix}\\frac{exxd \\cos{\\left(\\frac{2 n_{x}}{\\sqrt{n_{x}^{2} + n_{z}^{2}}} \\right)}}{2} + \\frac{exxd}{2} - \\frac{exz \\sin{\\left(\\frac{2 n_{x}}{\\sqrt{n_{x}^{2} + n_{z}^{2}}} \\right)}}{2} - \\frac{ezx \\sin{\\left(\\frac{2 n_{x}}{\\sqrt{n_{x}^{2} + n_{z}^{2}}} \\right)}}{2} - \\frac{ezzd \\cos{\\left(\\frac{2 n_{x}}{\\sqrt{n_{x}^{2} + n_{z}^{2}}} \\right)}}{2} + \\frac{ezzd}{2} & \\frac{exxd \\sin{\\left(\\frac{2 n_{x}}{\\sqrt{n_{x}^{2} + n_{z}^{2}}} \\right)}}{2} + \\frac{exz \\cos{\\left(\\frac{2 n_{x}}{\\sqrt{n_{x}^{2} + n_{z}^{2}}} \\right)}}{2} + \\frac{exz}{2} + \\frac{ezx \\cos{\\left(\\frac{2 n_{x}}{\\sqrt{n_{x}^{2} + n_{z}^{2}}} \\right)}}{2} - \\frac{ezx}{2} - \\frac{ezzd \\sin{\\left(\\frac{2 n_{x}}{\\sqrt{n_{x}^{2} + n_{z}^{2}}} \\right)}}{2}\\\\\\frac{exxd \\sin{\\left(\\frac{2 n_{x}}{\\sqrt{n_{x}^{2} + n_{z}^{2}}} \\right)}}{2} + \\frac{exz \\cos{\\left(\\frac{2 n_{x}}{\\sqrt{n_{x}^{2} + n_{z}^{2}}} \\right)}}{2} - \\frac{exz}{2} + \\frac{ezx \\cos{\\left(\\frac{2 n_{x}}{\\sqrt{n_{x}^{2} + n_{z}^{2}}} \\right)}}{2} + \\frac{ezx}{2} - \\frac{ezzd \\sin{\\left(\\frac{2 n_{x}}{\\sqrt{n_{x}^{2} + n_{z}^{2}}} \\right)}}{2} & - \\frac{exxd \\cos{\\left(\\frac{2 n_{x}}{\\sqrt{n_{x}^{2} + n_{z}^{2}}} \\right)}}{2} + \\frac{exxd}{2} + \\frac{exz \\sin{\\left(\\frac{2 n_{x}}{\\sqrt{n_{x}^{2} + n_{z}^{2}}} \\right)}}{2} + \\frac{ezx \\sin{\\left(\\frac{2 n_{x}}{\\sqrt{n_{x}^{2} + n_{z}^{2}}} \\right)}}{2} + \\frac{ezzd \\cos{\\left(\\frac{2 n_{x}}{\\sqrt{n_{x}^{2} + n_{z}^{2}}} \\right)}}{2} + \\frac{ezzd}{2}\\end{matrix}\\right]$"
      ],
      "text/plain": [
       "⎡        ⎛      2⋅nₓ     ⎞                 ⎛      2⋅nₓ     ⎞          ⎛      2\n",
       "⎢exxd⋅cos⎜───────────────⎟          exz⋅sin⎜───────────────⎟   ezx⋅sin⎜───────\n",
       "⎢        ⎜   ____________⎟                 ⎜   ____________⎟          ⎜   ____\n",
       "⎢        ⎜  ╱   2      2 ⎟                 ⎜  ╱   2      2 ⎟          ⎜  ╱   2\n",
       "⎢        ⎝╲╱  nₓ  + n_z  ⎠   exxd          ⎝╲╱  nₓ  + n_z  ⎠          ⎝╲╱  nₓ \n",
       "⎢───────────────────────── + ──── - ──────────────────────── - ───────────────\n",
       "⎢            2                2                2                          2   \n",
       "⎢                                                                             \n",
       "⎢         ⎛      2⋅nₓ     ⎞          ⎛      2⋅nₓ     ⎞                ⎛      2\n",
       "⎢ exxd⋅sin⎜───────────────⎟   exz⋅cos⎜───────────────⎟         ezx⋅cos⎜───────\n",
       "⎢         ⎜   ____________⎟          ⎜   ____________⎟                ⎜   ____\n",
       "⎢         ⎜  ╱   2      2 ⎟          ⎜  ╱   2      2 ⎟                ⎜  ╱   2\n",
       "⎢         ⎝╲╱  nₓ  + n_z  ⎠          ⎝╲╱  nₓ  + n_z  ⎠   exz          ⎝╲╱  nₓ \n",
       "⎢ ───────────────────────── + ──────────────────────── - ─── + ───────────────\n",
       "⎣             2                          2                2               2   \n",
       "\n",
       "⋅nₓ     ⎞           ⎛      2⋅nₓ     ⎞                   ⎛      2⋅nₓ     ⎞     \n",
       "────────⎟   ezzd⋅cos⎜───────────────⎟           exxd⋅sin⎜───────────────⎟   ex\n",
       "________⎟           ⎜   ____________⎟                   ⎜   ____________⎟     \n",
       "      2 ⎟           ⎜  ╱   2      2 ⎟                   ⎜  ╱   2      2 ⎟     \n",
       " + n_z  ⎠           ⎝╲╱  nₓ  + n_z  ⎠   ezzd            ⎝╲╱  nₓ  + n_z  ⎠     \n",
       "───────── - ───────────────────────── + ────    ───────────────────────── + ──\n",
       "                        2                2                  2                 \n",
       "                                                                              \n",
       "⋅nₓ     ⎞                 ⎛      2⋅nₓ     ⎞             ⎛      2⋅nₓ     ⎞     \n",
       "────────⎟         ezzd⋅sin⎜───────────────⎟     exxd⋅cos⎜───────────────⎟     \n",
       "________⎟                 ⎜   ____________⎟             ⎜   ____________⎟     \n",
       "      2 ⎟                 ⎜  ╱   2      2 ⎟             ⎜  ╱   2      2 ⎟     \n",
       " + n_z  ⎠   ezx           ⎝╲╱  nₓ  + n_z  ⎠             ⎝╲╱  nₓ  + n_z  ⎠   ex\n",
       "───────── + ─── - ─────────────────────────   - ───────────────────────── + ──\n",
       "             2                2                             2                2\n",
       "\n",
       "     ⎛      2⋅nₓ     ⎞                ⎛      2⋅nₓ     ⎞                 ⎛     \n",
       "z⋅cos⎜───────────────⎟         ezx⋅cos⎜───────────────⎟         ezzd⋅sin⎜─────\n",
       "     ⎜   ____________⎟                ⎜   ____________⎟                 ⎜   __\n",
       "     ⎜  ╱   2      2 ⎟                ⎜  ╱   2      2 ⎟                 ⎜  ╱  \n",
       "     ⎝╲╱  nₓ  + n_z  ⎠   exz          ⎝╲╱  nₓ  + n_z  ⎠   ezx           ⎝╲╱  n\n",
       "────────────────────── + ─── + ──────────────────────── - ─── - ──────────────\n",
       "         2                2               2                2                2 \n",
       "                                                                              \n",
       "            ⎛      2⋅nₓ     ⎞          ⎛      2⋅nₓ     ⎞           ⎛      2⋅nₓ\n",
       "     exz⋅sin⎜───────────────⎟   ezx⋅sin⎜───────────────⎟   ezzd⋅cos⎜──────────\n",
       "            ⎜   ____________⎟          ⎜   ____________⎟           ⎜   _______\n",
       "            ⎜  ╱   2      2 ⎟          ⎜  ╱   2      2 ⎟           ⎜  ╱   2   \n",
       "xd          ⎝╲╱  nₓ  + n_z  ⎠          ⎝╲╱  nₓ  + n_z  ⎠           ⎝╲╱  nₓ  + \n",
       "── + ──────────────────────── + ──────────────────────── + ───────────────────\n",
       "                2                          2                           2      \n",
       "\n",
       " 2⋅nₓ     ⎞  ⎤\n",
       "──────────⎟  ⎥\n",
       "__________⎟  ⎥\n",
       " 2      2 ⎟  ⎥\n",
       "ₓ  + n_z  ⎠  ⎥\n",
       "───────────  ⎥\n",
       "             ⎥\n",
       "             ⎥\n",
       "     ⎞       ⎥\n",
       "─────⎟       ⎥\n",
       "_____⎟       ⎥\n",
       "   2 ⎟       ⎥\n",
       "n_z  ⎠   ezzd⎥\n",
       "────── + ────⎥\n",
       "          2  ⎦"
      ]
     },
     "metadata": {},
     "output_type": "display_data"
    }
   ],
   "source": [
    "Strain_xzp = trigsimp(Strain_xzp)\n",
    "display(Strain_xzp)"
   ]
  },
  {
   "cell_type": "code",
   "execution_count": 16,
   "metadata": {},
   "outputs": [
    {
     "data": {
      "text/latex": [
       "$\\displaystyle \\left[\\begin{matrix}\\frac{exxd \\cos{\\left(\\frac{2 n_{x}}{\\sqrt{n_{x}^{2} + n_{z}^{2}}} \\right)}}{2} + \\frac{exxd}{2} - \\frac{exz \\sin{\\left(\\frac{2 n_{x}}{\\sqrt{n_{x}^{2} + n_{z}^{2}}} \\right)}}{2} - \\frac{ezx \\sin{\\left(\\frac{2 n_{x}}{\\sqrt{n_{x}^{2} + n_{z}^{2}}} \\right)}}{2} - \\frac{ezzd \\cos{\\left(\\frac{2 n_{x}}{\\sqrt{n_{x}^{2} + n_{z}^{2}}} \\right)}}{2} + \\frac{ezzd}{2} & \\frac{exxd \\sin{\\left(\\frac{2 n_{x}}{\\sqrt{n_{x}^{2} + n_{z}^{2}}} \\right)}}{2} + \\frac{exz \\cos{\\left(\\frac{2 n_{x}}{\\sqrt{n_{x}^{2} + n_{z}^{2}}} \\right)}}{2} + \\frac{exz}{2} + \\frac{ezx \\cos{\\left(\\frac{2 n_{x}}{\\sqrt{n_{x}^{2} + n_{z}^{2}}} \\right)}}{2} - \\frac{ezx}{2} - \\frac{ezzd \\sin{\\left(\\frac{2 n_{x}}{\\sqrt{n_{x}^{2} + n_{z}^{2}}} \\right)}}{2}\\\\\\frac{exxd \\sin{\\left(\\frac{2 n_{x}}{\\sqrt{n_{x}^{2} + n_{z}^{2}}} \\right)}}{2} + \\frac{exz \\cos{\\left(\\frac{2 n_{x}}{\\sqrt{n_{x}^{2} + n_{z}^{2}}} \\right)}}{2} - \\frac{exz}{2} + \\frac{ezx \\cos{\\left(\\frac{2 n_{x}}{\\sqrt{n_{x}^{2} + n_{z}^{2}}} \\right)}}{2} + \\frac{ezx}{2} - \\frac{ezzd \\sin{\\left(\\frac{2 n_{x}}{\\sqrt{n_{x}^{2} + n_{z}^{2}}} \\right)}}{2} & - \\frac{exxd \\cos{\\left(\\frac{2 n_{x}}{\\sqrt{n_{x}^{2} + n_{z}^{2}}} \\right)}}{2} + \\frac{exxd}{2} + \\frac{exz \\sin{\\left(\\frac{2 n_{x}}{\\sqrt{n_{x}^{2} + n_{z}^{2}}} \\right)}}{2} + \\frac{ezx \\sin{\\left(\\frac{2 n_{x}}{\\sqrt{n_{x}^{2} + n_{z}^{2}}} \\right)}}{2} + \\frac{ezzd \\cos{\\left(\\frac{2 n_{x}}{\\sqrt{n_{x}^{2} + n_{z}^{2}}} \\right)}}{2} + \\frac{ezzd}{2}\\end{matrix}\\right]$"
      ],
      "text/plain": [
       "⎡        ⎛      2⋅nₓ     ⎞                 ⎛      2⋅nₓ     ⎞          ⎛      2\n",
       "⎢exxd⋅cos⎜───────────────⎟          exz⋅sin⎜───────────────⎟   ezx⋅sin⎜───────\n",
       "⎢        ⎜   ____________⎟                 ⎜   ____________⎟          ⎜   ____\n",
       "⎢        ⎜  ╱   2      2 ⎟                 ⎜  ╱   2      2 ⎟          ⎜  ╱   2\n",
       "⎢        ⎝╲╱  nₓ  + n_z  ⎠   exxd          ⎝╲╱  nₓ  + n_z  ⎠          ⎝╲╱  nₓ \n",
       "⎢───────────────────────── + ──── - ──────────────────────── - ───────────────\n",
       "⎢            2                2                2                          2   \n",
       "⎢                                                                             \n",
       "⎢         ⎛      2⋅nₓ     ⎞          ⎛      2⋅nₓ     ⎞                ⎛      2\n",
       "⎢ exxd⋅sin⎜───────────────⎟   exz⋅cos⎜───────────────⎟         ezx⋅cos⎜───────\n",
       "⎢         ⎜   ____________⎟          ⎜   ____________⎟                ⎜   ____\n",
       "⎢         ⎜  ╱   2      2 ⎟          ⎜  ╱   2      2 ⎟                ⎜  ╱   2\n",
       "⎢         ⎝╲╱  nₓ  + n_z  ⎠          ⎝╲╱  nₓ  + n_z  ⎠   exz          ⎝╲╱  nₓ \n",
       "⎢ ───────────────────────── + ──────────────────────── - ─── + ───────────────\n",
       "⎣             2                          2                2               2   \n",
       "\n",
       "⋅nₓ     ⎞           ⎛      2⋅nₓ     ⎞                   ⎛      2⋅nₓ     ⎞     \n",
       "────────⎟   ezzd⋅cos⎜───────────────⎟           exxd⋅sin⎜───────────────⎟   ex\n",
       "________⎟           ⎜   ____________⎟                   ⎜   ____________⎟     \n",
       "      2 ⎟           ⎜  ╱   2      2 ⎟                   ⎜  ╱   2      2 ⎟     \n",
       " + n_z  ⎠           ⎝╲╱  nₓ  + n_z  ⎠   ezzd            ⎝╲╱  nₓ  + n_z  ⎠     \n",
       "───────── - ───────────────────────── + ────    ───────────────────────── + ──\n",
       "                        2                2                  2                 \n",
       "                                                                              \n",
       "⋅nₓ     ⎞                 ⎛      2⋅nₓ     ⎞             ⎛      2⋅nₓ     ⎞     \n",
       "────────⎟         ezzd⋅sin⎜───────────────⎟     exxd⋅cos⎜───────────────⎟     \n",
       "________⎟                 ⎜   ____________⎟             ⎜   ____________⎟     \n",
       "      2 ⎟                 ⎜  ╱   2      2 ⎟             ⎜  ╱   2      2 ⎟     \n",
       " + n_z  ⎠   ezx           ⎝╲╱  nₓ  + n_z  ⎠             ⎝╲╱  nₓ  + n_z  ⎠   ex\n",
       "───────── + ─── - ─────────────────────────   - ───────────────────────── + ──\n",
       "             2                2                             2                2\n",
       "\n",
       "     ⎛      2⋅nₓ     ⎞                ⎛      2⋅nₓ     ⎞                 ⎛     \n",
       "z⋅cos⎜───────────────⎟         ezx⋅cos⎜───────────────⎟         ezzd⋅sin⎜─────\n",
       "     ⎜   ____________⎟                ⎜   ____________⎟                 ⎜   __\n",
       "     ⎜  ╱   2      2 ⎟                ⎜  ╱   2      2 ⎟                 ⎜  ╱  \n",
       "     ⎝╲╱  nₓ  + n_z  ⎠   exz          ⎝╲╱  nₓ  + n_z  ⎠   ezx           ⎝╲╱  n\n",
       "────────────────────── + ─── + ──────────────────────── - ─── - ──────────────\n",
       "         2                2               2                2                2 \n",
       "                                                                              \n",
       "            ⎛      2⋅nₓ     ⎞          ⎛      2⋅nₓ     ⎞           ⎛      2⋅nₓ\n",
       "     exz⋅sin⎜───────────────⎟   ezx⋅sin⎜───────────────⎟   ezzd⋅cos⎜──────────\n",
       "            ⎜   ____________⎟          ⎜   ____________⎟           ⎜   _______\n",
       "            ⎜  ╱   2      2 ⎟          ⎜  ╱   2      2 ⎟           ⎜  ╱   2   \n",
       "xd          ⎝╲╱  nₓ  + n_z  ⎠          ⎝╲╱  nₓ  + n_z  ⎠           ⎝╲╱  nₓ  + \n",
       "── + ──────────────────────── + ──────────────────────── + ───────────────────\n",
       "                2                          2                           2      \n",
       "\n",
       " 2⋅nₓ     ⎞  ⎤\n",
       "──────────⎟  ⎥\n",
       "__________⎟  ⎥\n",
       " 2      2 ⎟  ⎥\n",
       "ₓ  + n_z  ⎠  ⎥\n",
       "───────────  ⎥\n",
       "             ⎥\n",
       "             ⎥\n",
       "     ⎞       ⎥\n",
       "─────⎟       ⎥\n",
       "_____⎟       ⎥\n",
       "   2 ⎟       ⎥\n",
       "n_z  ⎠   ezzd⎥\n",
       "────── + ────⎥\n",
       "          2  ⎦"
      ]
     },
     "metadata": {},
     "output_type": "display_data"
    }
   ],
   "source": [
    "Strain_xzp = simplify(Strain_xzp)\n",
    "display(Strain_xzp)"
   ]
  }
 ],
 "metadata": {
  "kernelspec": {
   "display_name": "Python 3",
   "language": "python",
   "name": "python3"
  },
  "language_info": {
   "codemirror_mode": {
    "name": "ipython",
    "version": 3
   },
   "file_extension": ".py",
   "mimetype": "text/x-python",
   "name": "python",
   "nbconvert_exporter": "python",
   "pygments_lexer": "ipython3",
   "version": "3.0.0"
  }
 },
 "nbformat": 4,
 "nbformat_minor": 2
}
