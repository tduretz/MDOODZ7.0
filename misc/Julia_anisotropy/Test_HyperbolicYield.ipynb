{
 "cells": [
  {
   "cell_type": "code",
   "execution_count": 21,
   "metadata": {},
   "outputs": [],
   "source": [
    "from sympy import *\n",
    "tau, P = symbols('tau, P')\n",
    "C, phi, sigma_t = symbols('C, phi, sigma_t')\n",
    "Pd, sigma_d = symbols('Pd, sigma_d')\n",
    "c = Function('c')(P)"
   ]
  },
  {
   "cell_type": "code",
   "execution_count": 22,
   "metadata": {},
   "outputs": [
    {
     "data": {
      "text/latex": [
       "$\\displaystyle \\frac{\\tau}{\\sqrt{\\tau^{2} + \\left(C \\cos{\\left(\\phi \\right)} - \\sigma_{t} \\sin{\\left(\\phi \\right)}\\right)^{2}}}$"
      ],
      "text/plain": [
       "tau/sqrt(tau**2 + (C*cos(phi) - sigma_t*sin(phi))**2)"
      ]
     },
     "metadata": {},
     "output_type": "display_data"
    },
    {
     "data": {
      "text/latex": [
       "$\\displaystyle - P \\sin{\\left(\\phi \\right)} \\frac{d}{d P} c{\\left(P \\right)} - c{\\left(P \\right)} \\sin{\\left(\\phi \\right)}$"
      ],
      "text/plain": [
       "-P*sin(phi)*Derivative(c(P), P) - c(P)*sin(phi)"
      ]
     },
     "metadata": {},
     "output_type": "display_data"
    }
   ],
   "source": [
    "# Hyperbolic yield function and its derivatives\n",
    "Qhy = sqrt( tau**2+ (C*cos(phi)-sigma_t*sin(phi))**2 ) - (C*cos(phi)+c*P*sin(phi))\n",
    "display(Qhy.diff(tau))\n",
    "display(Qhy.diff(P))"
   ]
  },
  {
   "cell_type": "code",
   "execution_count": 23,
   "metadata": {},
   "outputs": [
    {
     "data": {
      "text/latex": [
       "$\\displaystyle - \\frac{1.0 e^{- \\frac{\\left(P - Pd\\right)^{2}}{\\sigma_{d}^{2}}}}{\\sqrt{\\pi} \\sigma_{d}}$"
      ],
      "text/plain": [
       "-1.0*exp(-(P - Pd)**2/sigma_d**2)/(sqrt(pi)*sigma_d)"
      ]
     },
     "execution_count": 23,
     "metadata": {},
     "output_type": "execute_result"
    }
   ],
   "source": [
    "# Function that controls dilatancy with pressure\n",
    "c      = 0.5*erfc( (P-Pd)/sigma_d )\n",
    "c.diff(P).simplify()"
   ]
  },
  {
   "cell_type": "code",
   "execution_count": 24,
   "metadata": {},
   "outputs": [
    {
     "data": {
      "text/latex": [
       "$\\displaystyle K_{ve} dQdP \\sin{\\left(\\phi \\right)} - \\frac{dQdtau \\eta_{ve} \\tau_{c}}{\\sqrt{\\tau_{c}^{2} + \\left(C \\cos{\\left(\\phi \\right)} - \\sigma_{t} \\sin{\\left(\\phi \\right)}\\right)^{2}}}$"
      ],
      "text/plain": [
       "K_ve*dQdP*sin(phi) - dQdtau*eta_ve*tau_c/sqrt(tau_c**2 + (C*cos(phi) - sigma_t*sin(phi))**2)"
      ]
     },
     "metadata": {},
     "output_type": "display_data"
    }
   ],
   "source": [
    "# SINGLE EQUATION: Jacobian for local Newton return mapping\n",
    "dQdtau, dQdP, lambda_p = symbols('dQdtau, dQdP, lambda_p')\n",
    "eta_ve, K_ve, cdil = symbols('eta_ve, K_ve, cdil')\n",
    "tauc = tau - eta_ve*lambda_p*dQdtau\n",
    "Pc   = P   -   K_ve*lambda_p*dQdP\n",
    "Fhy  = sqrt( tauc**2 + (C*cos(phi)-sigma_t*sin(phi))**2 ) - (C*cos(phi)+Pc*sin(phi))\n",
    "display(Fhy.diff(lambda_p).subs(tauc, 'tau_c'))\n"
   ]
  },
  {
   "cell_type": "code",
   "execution_count": null,
   "metadata": {},
   "outputs": [],
   "source": []
  }
 ],
 "metadata": {
  "kernelspec": {
   "display_name": "base",
   "language": "python",
   "name": "python3"
  },
  "language_info": {
   "codemirror_mode": {
    "name": "ipython",
    "version": 3
   },
   "file_extension": ".py",
   "mimetype": "text/x-python",
   "name": "python",
   "nbconvert_exporter": "python",
   "pygments_lexer": "ipython3",
   "version": "3.9.5"
  },
  "orig_nbformat": 4,
  "vscode": {
   "interpreter": {
    "hash": "309baa410e37084482bcba9b39a5b9e635e78b91cd7553c4b48a2d89780d0f88"
   }
  }
 },
 "nbformat": 4,
 "nbformat_minor": 2
}
