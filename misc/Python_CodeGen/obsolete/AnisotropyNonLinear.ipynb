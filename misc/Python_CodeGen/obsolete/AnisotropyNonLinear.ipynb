{
 "cells": [
  {
   "cell_type": "code",
   "execution_count": 24,
   "source": [
    "from sympy import *\n",
    "d0, d1, ani = symbols('d0, d1, ani')\n",
    "eta_pwl, G  = symbols('eta_pwl, G')\n",
    "\n",
    "Dani = Matrix([[2.0 - 2.0*ani*d0, 2.0*ani*d0, 2.0*ani*d1], \n",
    "[2.0*ani*d0, 2.0 - 2.0*ani*d0, -2.0*ani*d1],\n",
    "[2.0*ani*d1, -2.0*ani*d1, 1+2.0*ani*(d0 - 0.5)]])\n",
    "\n",
    "iDani  = Dani.inv()\n",
    "\n",
    "Dv     = eta_pwl * Dani\n",
    " \n",
    "iDv1   = Dv.inv()\n",
    "iDv2   = 1.0/eta_pwl * iDani\n",
    "iDe2   = 1.0/G       * iDani\n",
    "iDve2  = (1.0/eta_pwl + 1.0/G) * iDani\n",
    "Dve    = 1.0/(1.0/eta_pwl + 1.0/G) * Dani\n",
    "\n",
    "# Dve1  = iDve2.inv()\n",
    "\n",
    "display(Dv)"
   ],
   "outputs": [
    {
     "output_type": "display_data",
     "data": {
      "text/latex": [
       "$\\displaystyle \\left[\\begin{matrix}\\eta_{pwl} \\left(- 2.0 ani d_{0} + 2.0\\right) & 2.0 ani d_{0} \\eta_{pwl} & 2.0 ani d_{1} \\eta_{pwl}\\\\2.0 ani d_{0} \\eta_{pwl} & \\eta_{pwl} \\left(- 2.0 ani d_{0} + 2.0\\right) & - 2.0 ani d_{1} \\eta_{pwl}\\\\2.0 ani d_{1} \\eta_{pwl} & - 2.0 ani d_{1} \\eta_{pwl} & \\eta_{pwl} \\left(2.0 ani \\left(d_{0} - 0.5\\right) + 1\\right)\\end{matrix}\\right]$"
      ],
      "text/plain": [
       "Matrix([\n",
       "[eta_pwl*(-2.0*ani*d0 + 2.0),          2.0*ani*d0*eta_pwl,               2.0*ani*d1*eta_pwl],\n",
       "[         2.0*ani*d0*eta_pwl, eta_pwl*(-2.0*ani*d0 + 2.0),              -2.0*ani*d1*eta_pwl],\n",
       "[         2.0*ani*d1*eta_pwl,         -2.0*ani*d1*eta_pwl, eta_pwl*(2.0*ani*(d0 - 0.5) + 1)]])"
      ]
     },
     "metadata": {}
    }
   ],
   "metadata": {}
  },
  {
   "cell_type": "code",
   "execution_count": 6,
   "source": [
    "display((iDv2-iDv1).simplify())\n"
   ],
   "outputs": [
    {
     "output_type": "display_data",
     "data": {
      "text/plain": [
       "None"
      ]
     },
     "metadata": {}
    }
   ],
   "metadata": {}
  },
  {
   "cell_type": "code",
   "execution_count": 7,
   "source": [
    "Txx0, exx, Tyy0, eyy  = symbols('Txx0, exx, Tyy0, eyy')\n",
    "etae, etave = symbols('etae, etave')\n",
    "Exx  = exx + Txx0/2/etae\n",
    "Txx  = 2*etave*Exx\n",
    "exxe = (Txx -Txx0 )/2/etae\n",
    "Eyy  = eyy + Tyy0/2/etae\n",
    "Tyy  = 2*etave*Eyy\n",
    "eyye = (Tyy -Tyy0 ) /etae\n",
    "eiie = sqrt(1/2*(exxe**2 + eyye**2))\n",
    "Tii  = sqrt(1/2*( Txx**2 +  Tyy**2))\n",
    "Eii  = sqrt(1/2*( Exx**2 +  Eyy**2))\n",
    "exxe1= eiie*Txx/Tii\n",
    "\n",
    "display(exxe)\n",
    "display(eyye)\n",
    "display(Eii)\n",
    "display( (exxe1-exxe).simplify())"
   ],
   "outputs": [
    {
     "output_type": "display_data",
     "data": {
      "text/latex": [
       "$\\displaystyle \\frac{- \\frac{Txx_{0}}{2} + etave \\left(\\frac{Txx_{0}}{2 etae} + exx\\right)}{etae}$"
      ],
      "text/plain": [
       "(-Txx0/2 + etave*(Txx0/(2*etae) + exx))/etae"
      ]
     },
     "metadata": {}
    },
    {
     "output_type": "display_data",
     "data": {
      "text/latex": [
       "$\\displaystyle \\frac{- Tyy_{0} + 2 etave \\left(\\frac{Tyy_{0}}{2 etae} + eyy\\right)}{etae}$"
      ],
      "text/plain": [
       "(-Tyy0 + 2*etave*(Tyy0/(2*etae) + eyy))/etae"
      ]
     },
     "metadata": {}
    },
    {
     "output_type": "display_data",
     "data": {
      "text/latex": [
       "$\\displaystyle 0.707106781186548 \\sqrt{\\left(\\frac{Txx_{0}}{2 etae} + exx\\right)^{2} + \\left(\\frac{Tyy_{0}}{2 etae} + eyy\\right)^{2}}$"
      ],
      "text/plain": [
       "0.707106781186548*sqrt((Txx0/(2*etae) + exx)**2 + (Tyy0/(2*etae) + eyy)**2)"
      ]
     },
     "metadata": {}
    },
    {
     "output_type": "display_data",
     "data": {
      "text/latex": [
       "$\\displaystyle \\frac{etae etave \\sqrt{\\frac{\\left(Txx_{0} etae - etave \\left(Txx_{0} + 2 etae exx\\right)\\right)^{2} + 4 \\left(Tyy_{0} etae - etave \\left(Tyy_{0} + 2 etae eyy\\right)\\right)^{2}}{etae^{4}}} \\left(Txx_{0} + 2 etae exx\\right) + \\sqrt{\\frac{etave^{2} \\left(\\left(Txx_{0} + 2 etae exx\\right)^{2} + \\left(Tyy_{0} + 2 etae eyy\\right)^{2}\\right)}{etae^{2}}} \\left(Txx_{0} etae - etave \\left(Txx_{0} + 2 etae exx\\right)\\right)}{2 etae^{2} \\sqrt{\\frac{etave^{2} \\left(\\left(Txx_{0} + 2 etae exx\\right)^{2} + \\left(Tyy_{0} + 2 etae eyy\\right)^{2}\\right)}{etae^{2}}}}$"
      ],
      "text/plain": [
       "(etae*etave*sqrt(((Txx0*etae - etave*(Txx0 + 2*etae*exx))**2 + 4*(Tyy0*etae - etave*(Tyy0 + 2*etae*eyy))**2)/etae**4)*(Txx0 + 2*etae*exx) + sqrt(etave**2*((Txx0 + 2*etae*exx)**2 + (Tyy0 + 2*etae*eyy)**2)/etae**2)*(Txx0*etae - etave*(Txx0 + 2*etae*exx)))/(2*etae**2*sqrt(etave**2*((Txx0 + 2*etae*exx)**2 + (Tyy0 + 2*etae*eyy)**2)/etae**2))"
      ]
     },
     "metadata": {}
    }
   ],
   "metadata": {}
  },
  {
   "cell_type": "code",
   "execution_count": 9,
   "source": [
    "exx, eyy, exy = symbols('exx, eyy, exy')\n",
    "eta = symbols('eta')\n",
    "I2      =       1/2*(exx**2 + eyy**2) + exy**2\n",
    "###################################\n",
    "Txx = 2*eta*exx\n",
    "Tyy = 2*eta*eyy\n",
    "Txy = 2*eta*exy\n",
    "\n",
    "eii = sqrt( 1/2*(exx**2 + eyy**2) + exy**2)\n",
    "Tii = sqrt( 1/2*(Txx**2 + Tyy**2) + Txy**2)\n",
    "eta_eff = Tii/2/eii\n",
    "eta_eff = eta_eff.subs(I2,'I2')\n",
    "display(  eta_eff )\n",
    "\n",
    "################################################\n",
    "\n",
    "d11,d22,d33,d12,d13,d23 = symbols('d11,d22,d33,d12,d13,d23')\n",
    "Exx_ani = d11*exx + d12*eyy + d13*exy\n",
    "Eyy_ani = d12*exx + d22*eyy + d23*exy\n",
    "Exy_ani = d13*exx + d23*eyy + d33*exy\n",
    "Txx     = 2* eta * Exx_ani\n",
    "Tyy     = 2* eta * Eyy_ani\n",
    "Txy     = 2* eta * Exy_ani\n",
    "\n",
    "I2      =       1/2*(exx**2 + eyy**2) + exy**2\n",
    "I2_ani  =       1/2*(Exx_ani**2 + Eyy_ani**2) + Exy_ani**2\n",
    "eii = sqrt( I2 )\n",
    "Tii = sqrt( 1/2*(Txx**2 + Tyy**2) + Txy**2)\n",
    "eta_eff = Tii/eii/2\n",
    "eta_eff = eta_eff.subs(I2,'I2').subs(I2_ani,'I2_ani')\n",
    "display(  eta_eff.simplify() )\n",
    "\n",
    "\n",
    "\n"
   ],
   "outputs": [
    {
     "output_type": "display_data",
     "data": {
      "text/latex": [
       "$\\displaystyle \\frac{\\sqrt{0.5 \\eta^{2} exx^{2} + \\eta^{2} exy^{2} + 0.5 \\eta^{2} eyy^{2}}}{\\sqrt{I_{2}}}$"
      ],
      "text/plain": [
       "sqrt(0.5*eta**2*exx**2 + eta**2*exy**2 + 0.5*eta**2*eyy**2)/sqrt(I2)"
      ]
     },
     "metadata": {}
    },
    {
     "output_type": "display_data",
     "data": {
      "text/latex": [
       "$\\displaystyle \\frac{\\sqrt{\\eta^{2} \\left(0.5 \\left(d_{11} exx + d_{12} eyy + d_{13} exy\\right)^{2} + 0.5 \\left(d_{12} exx + d_{22} eyy + d_{23} exy\\right)^{2} + \\left(d_{13} exx + d_{23} eyy + d_{33} exy\\right)^{2}\\right)}}{\\sqrt{I_{2}}}$"
      ],
      "text/plain": [
       "sqrt(eta**2*(0.5*(d11*exx + d12*eyy + d13*exy)**2 + 0.5*(d12*exx + d22*eyy + d23*exy)**2 + (d13*exx + d23*eyy + d33*exy)**2))/sqrt(I2)"
      ]
     },
     "metadata": {}
    }
   ],
   "metadata": {}
  },
  {
   "cell_type": "code",
   "execution_count": 10,
   "source": [
    "display(Txx/2/exx)"
   ],
   "outputs": [
    {
     "output_type": "display_data",
     "data": {
      "text/latex": [
       "$\\displaystyle \\frac{\\eta \\left(d_{11} exx + d_{12} eyy + d_{13} exy\\right)}{exx}$"
      ],
      "text/plain": [
       "eta*(d11*exx + d12*eyy + d13*exy)/exx"
      ]
     },
     "metadata": {}
    }
   ],
   "metadata": {}
  },
  {
   "cell_type": "code",
   "execution_count": 19,
   "source": [
    "C_pwl, npwl, eta_ve = symbols('C_pwl, npwl, eta_ve')\n",
    "Gxx, Exx, Gyy, Gzz, Gxy, Eyy, Ezz, Exy, f_ani, Tii = symbols('Gxx, Exx, Gyy, Gzz, Gxy, Eyy, Ezz, Exy, f_ani, Tii')\n",
    "# Tii     = 2*eta*Eii\n",
    "\n",
    "Eii_pwl = C_pwl * Tii**(npwl) \n",
    "display(Eii_pwl.diff(eta).subs(Eii_pwl, 'Eii_pwl'))\n",
    "\n",
    "# Dislocation work\n",
    "exx_pwl = Exx/Gxx*f_ani * Txx/Tii * Eii_pwl\n",
    "eyy_pwl = Eyy/Gyy*f_ani * Tyy/Tii * Eii_pwl\n",
    "# exx_pwl = Txx/Tii * Eii_pwl\n",
    "# eyy_pwl = Tyy/Tii * Eii_pwl\n",
    "Wdis    = exx_pwl*Txx + eyy_pwl*Tyy\n",
    "display(Wdis.subs(Eii_pwl, 'Eii_pwl').subs(Eii,'Eii').subs(exx_pwl,'exx_pwl').subs(Txx, 'Txx').subs(Tyy, 'Tyy').subs(Tii, 'Tii').simplify())\n",
    "display(Eii)\n",
    "\n"
   ],
   "outputs": [
    {
     "output_type": "display_data",
     "data": {
      "text/latex": [
       "$\\displaystyle 0$"
      ],
      "text/plain": [
       "0"
      ]
     },
     "metadata": {}
    },
    {
     "output_type": "display_data",
     "data": {
      "text/latex": [
       "$\\displaystyle \\frac{4.0 Eii_{pwl} \\eta_{ve}^{2} \\left(Exx Gxx + Eyy Gyy\\right)}{Tii f_{ani}}$"
      ],
      "text/plain": [
       "4.0*Eii_pwl*eta_ve**2*(Exx*Gxx + Eyy*Gyy)/(Tii*f_ani)"
      ]
     },
     "metadata": {}
    },
    {
     "output_type": "display_data",
     "data": {
      "text/latex": [
       "$\\displaystyle 0.707106781186548 \\sqrt{\\left(\\frac{Txx_{0}}{2 etae} + exx\\right)^{2} + \\left(\\frac{Tyy_{0}}{2 etae} + eyy\\right)^{2}}$"
      ],
      "text/plain": [
       "0.707106781186548*sqrt((Txx0/(2*etae) + exx)**2 + (Tyy0/(2*etae) + eyy)**2)"
      ]
     },
     "metadata": {}
    }
   ],
   "metadata": {}
  },
  {
   "cell_type": "code",
   "execution_count": 23,
   "source": [
    "d, p = symbols('d,p')\n",
    "\n",
    "# Jacobian for coupled power-law and GSE\n",
    "Tii       = 2*eta_ve*Eii\n",
    "Txx       = Tii/f_ani/Eii*Gxx\n",
    "Tyy       = Tii/f_ani/Eii*Gyy\n",
    "Tzz       = -Txx-Tyy\n",
    "Txy       = Tii/f_ani/Eii*Gxy\n",
    "\n",
    "\n",
    "Wpwl      = f_ani*Eii_pwl/Tii*( Exx/Gxx*Txx**2 + Eyy/Gyy*Tyy**2 + Ezz/Gzz*Tzz**2 + 2*Exy/Gxy*Txy**2)\n",
    "\n",
    "# Ared = lam/c/gam\n",
    "# Agro = Kg*fH20*exp(-(Eg+P*Vg)/R/T)*p^(-1)\n",
    "Ared, Agro   = symbols('Ared, Agro')\n",
    "dred         =-Ared*Wpwl*d**2\n",
    "dgro         = Agro*d**(1-p)"
   ],
   "outputs": [],
   "metadata": {}
  },
  {
   "cell_type": "code",
   "execution_count": null,
   "source": [],
   "outputs": [],
   "metadata": {}
  }
 ],
 "metadata": {
  "interpreter": {
   "hash": "f5b7cce56284682b6aee5be2a447c9e3f7bb889dcafa82873661e6020909e6d4"
  },
  "kernelspec": {
   "name": "python3",
   "display_name": "Python 3.7.3 64-bit ('base': conda)"
  },
  "language_info": {
   "codemirror_mode": {
    "name": "ipython",
    "version": 3
   },
   "file_extension": ".py",
   "mimetype": "text/x-python",
   "name": "python",
   "nbconvert_exporter": "python",
   "pygments_lexer": "ipython3",
   "version": "3.7.3"
  },
  "orig_nbformat": 4
 },
 "nbformat": 4,
 "nbformat_minor": 2
}