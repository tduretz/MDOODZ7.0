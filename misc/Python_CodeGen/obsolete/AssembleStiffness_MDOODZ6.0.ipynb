{
 "cells": [
  {
   "cell_type": "code",
   "execution_count": 111,
   "metadata": {},
   "outputs": [
    {
     "name": "stdout",
     "output_type": "stream",
     "text": [
      "Txx = 2*Exx*eta;\n",
      "Tzz = 2*Ezz*eta;\n",
      "Txz = Gxz*eta;\n"
     ]
    }
   ],
   "source": [
    "from sympy import *\n",
    "import numpy as np \n",
    "init_printing()\n",
    "\n",
    "# Definitions\n",
    "eta, dx, dz = symbols( 'eta, dx, dz' )\n",
    "D11, D12, D13, D21, D22, D23 ,D31, D32, D33 = symbols('D11, D12, D13, D21, D22, D23 ,D31, D32, D33')\n",
    "Exx, Ezz, Gxz = symbols('Exx, Ezz, Gxz')\n",
    "stress_labels = ['Txx', 'Tzz', 'Txz']\n",
    "\n",
    "D11 = 2*eta; D12 = 0*eta; D13 = 0*eta;\n",
    "D21 = 0*eta; D22 = 2*eta; D23 = 0*eta;\n",
    "D31 = 0*eta; D32 = 0*eta; D33 = 1*eta;\n",
    "\n",
    "Dv = Matrix( [ [D11, D12, D13], [D21, D22, D23], [D31, D32, D33]  ] )\n",
    "Ed = Matrix( [ [Exx], [Ezz], [Gxz] ] )\n",
    "T  = Dv*Ed;\n",
    "for i in range(len(stress_labels)):\n",
    "    print(stress_labels[i] + ' = ' + ccode( T[i]) + ';' )\n"
   ]
  },
  {
   "cell_type": "code",
   "execution_count": 107,
   "metadata": {},
   "outputs": [
    {
     "name": "stdout",
     "output_type": "stream",
     "text": [
      "uW = -2*etaW/pow(dx, 2);\n",
      "uC = -(-etaN/dz - etaS/dz)/dz - (-2*etaE/dx - 2*etaW/dx)/dx;\n",
      "uE = -2*etaE/pow(dx, 2);\n",
      "uS = -etaS/pow(dz, 2);\n",
      "uN = -etaN/pow(dz, 2);\n",
      "vSW = -etaS/(dx*dz);\n",
      "vSE = etaS/(dx*dz);\n",
      "vNW = etaN/(dx*dz);\n",
      "vNE = -etaN/(dx*dz);\n"
     ]
    }
   ],
   "source": [
    "# Stencil x\n",
    "uW,uC,uE,uS,uN,vSW,vSE,vNW,vNE = symbols('uW,uC,uE,uS,uN,vSW,vSE,vNW,vNE')\n",
    "\n",
    "dofs = Matrix([uW,uC,uE,uS,uN,vSW,vSE,vNW,vNE])\n",
    "#----------------------------------------#\n",
    "ExxW = 1/dx*(uC-uW);\n",
    "EzzW = 0;\n",
    "GxzW = 0\n",
    "EdW  = Matrix([[ExxW], [EzzW], [GxzW]])\n",
    "TW   = Dv*EdW\n",
    "TxxW = TW[0].subs(eta,'etaW')\n",
    "#TxxW = 2* etaW* ExxW\n",
    "#----------------------------------------#\n",
    "ExxE = 1/dx*(uE-uC)\n",
    "EzzE = 0;\n",
    "GxzE = 0\n",
    "EdE  = Matrix([[ExxE], [EzzE], [GxzE]])\n",
    "TE   = Dv*EdE\n",
    "TxxE = TE[0].subs(eta,'etaE')\n",
    "#----------------------------------------#\n",
    "ExxS = 0\n",
    "EzzS = 0\n",
    "GxzS = 1/dz*(uC-uS) + 1/dx*(vSE-vSW)\n",
    "EdS  = Matrix([[ExxS], [EzzS], [GxzS]])\n",
    "TS   = Dv*EdS\n",
    "TxzS = TS[2].subs(eta,'etaS')\n",
    "#----------------------------------------#\n",
    "ExxN = 0\n",
    "EzzN = 0\n",
    "GxzN = 1/dz*(uN-uC) + 1/dx*(vNE-vNW)\n",
    "EdN  = Matrix([[ExxN], [EzzN], [GxzN]])\n",
    "TN   = Dv*EdN\n",
    "TxzN = TN[2].subs(eta,'etaN')\n",
    "#----------------------------------------#\n",
    "Fx = 1/dx*(TxxE - TxxW) + 1/dz*(TxzN - TxzS)  \n",
    "Fx = -Fx\n",
    "for i in range(len(dofs)):\n",
    "    cUc = Fx.diff(dofs[i])\n",
    "    print(str(dofs[i]) + ' = ' +  ccode(cUc) + ';')"
   ]
  },
  {
   "cell_type": "code",
   "execution_count": 90,
   "metadata": {},
   "outputs": [
    {
     "name": "stdout",
     "output_type": "stream",
     "text": [
      "vW = -etaW/pow(dx, 2);\n",
      "vC = -(-2*etaN/dz - 2*etaS/dz)/dz - (-etaE/dx - etaW/dx)/dx;\n",
      "vE = -etaE/pow(dx, 2);\n",
      "vS = -2*etaS/pow(dz, 2);\n",
      "vN = -2*etaN/pow(dz, 2);\n",
      "uSW = -etaW/(dx*dz);\n",
      "uSE = etaE/(dx*dz);\n",
      "uNW = etaW/(dx*dz);\n",
      "uNE = -etaE/(dx*dz);\n"
     ]
    }
   ],
   "source": [
    "# Stencil z\n",
    "vW,vC,vE,vS,vN,uSW,uSE,uNW,uNE = symbols('vW,vC,vE,vS,vN,uSW,uSE,uNW,uNE')\n",
    "dofs = Matrix([vW,vC,vE,vS,vN,uSW,uSE,uNW,uNE])\n",
    "#----------------------------------------#\n",
    "ExxS = 0\n",
    "EzzS = 1/dz*(vC-vS);\n",
    "GxzS = 0\n",
    "EdS  = Matrix([[ExxS], [EzzS], [GxzS]])\n",
    "TS   = Dv*EdS\n",
    "TzzS = TS[1].subs(eta,'etaS')\n",
    "#----------------------------------------#\n",
    "ExxN = 0\n",
    "EzzN = 1/dz*(vN-vC);\n",
    "GxzN = 0\n",
    "EdN  = Matrix([[ExxN], [EzzN], [GxzN]])\n",
    "TN   = Dv*EdN\n",
    "TzzN = TN[1].subs(eta,'etaN')\n",
    "#----------------------------------------#\n",
    "ExxW = 0\n",
    "EzzW = 0\n",
    "GxzW = 1/dz*(uNW-uSW) + 1/dx*(vC-vW)\n",
    "EdW  = Matrix([[ExxW], [EzzW], [GxzW]])\n",
    "TW   = Dv*EdW\n",
    "TxzW = TW[2].subs(eta,'etaW')\n",
    "# #----------------------------------------#\n",
    "ExxE = 0\n",
    "EzzE = 0\n",
    "GxzE = 1/dz*(uNE-uSE) + 1/dx*(vE-vC)\n",
    "EdE  = Matrix([[ExxE], [EzzE], [GxzE]])\n",
    "TE   = Dv*EdE\n",
    "TxzE = TE[2].subs(eta,'etaE')\n",
    "#----------------------------------------#\n",
    "Fz = 1/dz*(TzzN - TzzS) + 1/dx*(TxzE - TxzW)  \n",
    "Fz = -Fz\n",
    "for i in range(9):\n",
    "    cVc = Fz.diff(dofs[i])\n",
    "    print(str(dofs[i]) + ' = ' +  ccode(cVc) + ';') #print(cUc)"
   ]
  },
  {
   "cell_type": "code",
   "execution_count": null,
   "metadata": {
    "collapsed": true
   },
   "outputs": [],
   "source": []
  }
 ],
 "metadata": {
  "kernelspec": {
   "display_name": "Python 3",
   "language": "python",
   "name": "python3"
  },
  "language_info": {
   "codemirror_mode": {
    "name": "ipython",
    "version": 3
   },
   "file_extension": ".py",
   "mimetype": "text/x-python",
   "name": "python",
   "nbconvert_exporter": "python",
   "pygments_lexer": "ipython3",
   "version": "3.6.3"
  }
 },
 "nbformat": 4,
 "nbformat_minor": 2
}
