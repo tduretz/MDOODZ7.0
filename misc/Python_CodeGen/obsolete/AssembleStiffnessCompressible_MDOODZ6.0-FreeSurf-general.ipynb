{
 "cells": [
  {
   "cell_type": "code",
   "execution_count": 2,
   "metadata": {},
   "outputs": [
    {
     "name": "stdout",
     "output_type": "stream",
     "text": [
      "Txx = D11*(0.66666666666666674*Exx - 0.33333333333333331*Ezz) + D12*(-0.33333333333333331*Exx + 0.66666666666666674*Ezz) + D13*Gxz;\n",
      "Tzz = D21*(0.66666666666666674*Exx - 0.33333333333333331*Ezz) + D22*(-0.33333333333333331*Exx + 0.66666666666666674*Ezz) + D23*Gxz;\n",
      "Txz = D31*(0.66666666666666674*Exx - 0.33333333333333331*Ezz) + D32*(-0.33333333333333331*Exx + 0.66666666666666674*Ezz) + D33*Gxz;\n"
     ]
    }
   ],
   "source": [
    "from sympy import *\n",
    "import numpy as np \n",
    "init_printing()\n",
    "\n",
    "# Definitions\n",
    "eta, dx, dz = symbols( 'eta, dx, dz' )\n",
    "D11, D12, D13, D21, D22, D23 ,D31, D32, D33 = symbols('D11, D12, D13, D21, D22, D23 ,D31, D32, D33')\n",
    "Exx, Ezz, Gxz = symbols('Exx, Ezz, Gxz')\n",
    "stress_labels = ['Txx', 'Tzz', 'Txz']\n",
    "\n",
    "#D11 = 2*eta; D12 = 0*eta; D13 = 0*eta;\n",
    "#D21 = 0*eta; D22 = 2*eta; D23 = 0*eta;\n",
    "#D31 = 0*eta; D32 = 0*eta; D33 = 1*eta;\n",
    "\n",
    "Dv  = Matrix( [ [D11, D12, D13], [D21, D22, D23], [D31, D32, D33]  ] )\n",
    "div = Exx+Ezz\n",
    "Ed  = Matrix( [ [Exx-1/3*div], [Ezz-1/3*div], [Gxz] ] )\n",
    "T   = Dv*Ed;\n",
    "for i in range(len(stress_labels)):\n",
    "    print(stress_labels[i] + ' = ' + ccode( T[i]) + ';' )\n"
   ]
  },
  {
   "cell_type": "code",
   "execution_count": 3,
   "metadata": {},
   "outputs": [
    {
     "name": "stdout",
     "output_type": "stream",
     "text": [
      "uW = D11W*inW*((1.0/3.0)*comp/dx - 1/dx)/dx;\n",
      "uC = -(-D33N*inNu/dz - D33S*inSu/dz)/dz - (D11E*inE*((1.0/3.0)*comp/dx - 1/dx) - D11W*inW*(-1.0/3.0*comp/dx + 1.0/dx))/dx;\n",
      "uE = -D11E*inE*(-1.0/3.0*comp/dx + 1.0/dx)/dx;\n",
      "uS = -D33S*inSu/pow(dz, 2);\n",
      "uN = -D33N*inNu/pow(dz, 2);\n",
      "vSW = (1.0/3.0)*D11W*comp*inW/(dx*dz) - D33S*inSv/(dx*dz);\n",
      "vSE = -1.0/3.0*D11E*comp*inE/(dx*dz) + D33S*inSv/(dx*dz);\n",
      "vNW = -1.0/3.0*D11W*comp*inW/(dx*dz) + D33N*inNv/(dx*dz);\n",
      "vNE = (1.0/3.0)*D11E*comp*inE/(dx*dz) - D33N*inNv/(dx*dz);\n"
     ]
    }
   ],
   "source": [
    "# Compressibility switch\n",
    "comp = symbols('comp')\n",
    "\n",
    "# Stencil x\n",
    "uW,uC,uE,uS,uN,vSW,vSE,vNW,vNE = symbols('uW,uC,uE,uS,uN,vSW,vSE,vNW,vNE')\n",
    "\n",
    "inW,inE,inSu,inSv,inNu,inNv = symbols('inW,inE,inSu,inSv,inNu,inNv')\n",
    "\n",
    "dofs = Matrix([uW,uC,uE,uS,uN,vSW,vSE,vNW,vNE])\n",
    "#----------------------------------------#\n",
    "divW = 1/dx*(uC-uW) + 1/dz*(vNW-vSW)\n",
    "ExxW = 1/dx*(uC-uW) - comp*1/3*divW;\n",
    "EzzW = 0;\n",
    "GxzW = 0\n",
    "EdW  = Matrix([[inW*ExxW], [inW*EzzW], [inW*GxzW]])\n",
    "TW   = Dv*EdW\n",
    "TxxW = TW[0].subs(D11,'D11W')\n",
    "#TxxW = 2* etaW* ExxW\n",
    "#----------------------------------------#\n",
    "divE = 1/dx*(uE-uC) + 1/dz*(vNE-vSE)\n",
    "ExxE = 1/dx*(uE-uC) - comp*1/3*divE\n",
    "EzzE = 0;\n",
    "GxzE = 0\n",
    "EdE  = Matrix([[inE*ExxE], [inE*EzzE], [inE*GxzE]])\n",
    "TE   = Dv*EdE\n",
    "TxxE = TE[0].subs(D11,'D11E')\n",
    "#----------------------------------------#\n",
    "ExxS = 0\n",
    "EzzS = 0\n",
    "GxzS = inSu*1/dz*(uC-uS) + inSv*1/dx*(vSE-vSW)\n",
    "EdS  = Matrix([[ExxS], [EzzS], [GxzS]])\n",
    "TS   = Dv*EdS\n",
    "TxzS = TS[2].subs(D33,'D33S')\n",
    "#----------------------------------------#\n",
    "ExxN = 0\n",
    "EzzN = 0\n",
    "GxzN = inNu*1/dz*(uN-uC) + inNv*1/dx*(vNE-vNW)\n",
    "EdN  = Matrix([[ExxN], [EzzN], [GxzN]])\n",
    "TN   = Dv*EdN\n",
    "TxzN = TN[2].subs(D33,'D33N')\n",
    "#----------------------------------------#\n",
    "Fx = 1/dx*(TxxE - TxxW) + 1/dz*(TxzN - TxzS)  \n",
    "Fx = -Fx\n",
    "\n",
    "for i in range(len(dofs)):\n",
    "    cUc = Fx.diff(dofs[i])\n",
    "    print(str(dofs[i]) + ' = ' +  ccode(cUc) + ';')"
   ]
  },
  {
   "cell_type": "code",
   "execution_count": 4,
   "metadata": {},
   "outputs": [
    {
     "name": "stdout",
     "output_type": "stream",
     "text": [
      "vW = -D33W*inWv/pow(dx, 2);\n",
      "vC = -(D22N*inN*((1.0/3.0)*comp/dz - 1/dz) - D22S*inS*(-1.0/3.0*comp/dz + 1.0/dz))/dz - (-D33E*inEv/dx - D33W*inWv/dx)/dx;\n",
      "vE = -D33E*inEv/pow(dx, 2);\n",
      "vS = D22S*inS*((1.0/3.0)*comp/dz - 1/dz)/dz;\n",
      "vN = -D22N*inN*(-1.0/3.0*comp/dz + 1.0/dz)/dz;\n",
      "uSW = (1.0/3.0)*D22S*comp*inS/(dx*dz) - D33W*inWu/(dx*dz);\n",
      "uSE = -1.0/3.0*D22S*comp*inS/(dx*dz) + D33E*inEu/(dx*dz);\n",
      "uNW = -1.0/3.0*D22N*comp*inN/(dx*dz) + D33W*inWu/(dx*dz);\n",
      "uNE = (1.0/3.0)*D22N*comp*inN/(dx*dz) - D33E*inEu/(dx*dz);\n"
     ]
    }
   ],
   "source": [
    "# Compressibility switch\n",
    "comp = symbols('comp')\n",
    "\n",
    "# Stencil z\n",
    "vW,vC,vE,vS,vN,uSW,uSE,uNW,uNE = symbols('vW,vC,vE,vS,vN,uSW,uSE,uNW,uNE')\n",
    "\n",
    "inS,inN,inWu,inWv,inEu,inEv = symbols('inS,inN,inWu,inWv,inEu,inEv')\n",
    "\n",
    "dofs = Matrix([vW,vC,vE,vS,vN,uSW,uSE,uNW,uNE])\n",
    "#----------------------------------------#\n",
    "divS = 1/dz*(vC-vS) + 1/dx*(uSE-uSW)\n",
    "ExxS = 0\n",
    "EzzS = 1/dz*(vC-vS) - comp*1/3*divS;\n",
    "GxzS = 0\n",
    "EdS  = Matrix([[inS*ExxS], [inS*EzzS], [inS*GxzS]])\n",
    "TS   = Dv*EdS\n",
    "TzzS = TS[1].subs(D22,'D22S')\n",
    "#----------------------------------------#\n",
    "divN = 1/dz*(vN-vC) + 1/dx*(uNE-uNW)\n",
    "ExxN = 0\n",
    "EzzN = 1/dz*(vN-vC)  - comp*1/3*divN;\n",
    "GxzN = 0\n",
    "EdN  = Matrix([[inN*ExxN], [inN*EzzN], [inN*GxzN]])\n",
    "TN   = Dv*EdN\n",
    "TzzN = TN[1].subs(D22,'D22N')\n",
    "#----------------------------------------#\n",
    "ExxW = 0\n",
    "EzzW = 0\n",
    "GxzW = inWu*1/dz*(uNW-uSW) + inWv*1/dx*(vC-vW)\n",
    "EdW  = Matrix([[ExxW], [EzzW], [GxzW]])\n",
    "TW   = Dv*EdW\n",
    "TxzW = TW[2].subs(D33,'D33W')\n",
    "# #----------------------------------------#\n",
    "ExxE = 0\n",
    "EzzE = 0\n",
    "GxzE = inEu*1/dz*(uNE-uSE) + inEv*1/dx*(vE-vC)\n",
    "EdE  = Matrix([[ExxE], [EzzE], [GxzE]])\n",
    "TE   = Dv*EdE\n",
    "TxzE = TE[2].subs(D33,'D33E')\n",
    "#----------------------------------------#\n",
    "Fz = 1/dz*(TzzN - TzzS) + 1/dx*(TxzE - TxzW)  \n",
    "Fz = -Fz\n",
    "for i in range(9):\n",
    "    cVc = Fz.diff(dofs[i])\n",
    "    print(str(dofs[i]) + ' = ' +  ccode(cVc) + ';') #print(cUc)"
   ]
  },
  {
   "cell_type": "code",
   "execution_count": null,
   "metadata": {
    "collapsed": true
   },
   "outputs": [],
   "source": []
  }
 ],
 "metadata": {
  "kernelspec": {
   "display_name": "Python 3",
   "language": "python",
   "name": "python3"
  },
  "language_info": {
   "codemirror_mode": {
    "name": "ipython",
    "version": 3
   },
   "file_extension": ".py",
   "mimetype": "text/x-python",
   "name": "python",
   "nbconvert_exporter": "python",
   "pygments_lexer": "ipython3",
   "version": "3.7.3"
  }
 },
 "nbformat": 4,
 "nbformat_minor": 2
}
