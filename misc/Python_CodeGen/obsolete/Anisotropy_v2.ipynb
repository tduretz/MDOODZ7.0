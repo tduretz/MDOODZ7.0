{
 "cells": [
  {
   "cell_type": "code",
   "execution_count": 1,
   "metadata": {},
   "outputs": [
    {
     "data": {
      "image/png": "[encoded data removed]",
      "text/latex": [
       "$\\displaystyle \\left[\\begin{matrix}2 \\eta & 0 & 0\\\\0 & 2 \\eta & 0\\\\0 & 0 & 2 \\eta\\end{matrix}\\right]$"
      ],
      "text/plain": [
       "⎡2⋅η   0    0 ⎤\n",
       "⎢             ⎥\n",
       "⎢ 0   2⋅η   0 ⎥\n",
       "⎢             ⎥\n",
       "⎣ 0    0   2⋅η⎦"
      ]
     },
     "metadata": {},
     "output_type": "display_data"
    },
    {
     "data": {
      "image/png": "[encoded data removed]",
      "text/latex": [
       "$\\displaystyle \\left[\\begin{matrix}- 4 \\Delta_{\\eta} n_{1}^{2} n_{2}^{2} & 4 \\Delta_{\\eta} n_{1}^{2} n_{2}^{2} & 2 \\Delta_{\\eta} n_{1} n_{2} \\left(- n_{1}^{2} + n_{2}^{2}\\right)\\\\4 \\Delta_{\\eta} n_{1}^{2} n_{2}^{2} & - 4 \\Delta_{\\eta} n_{1}^{2} n_{2}^{2} & 2 \\Delta_{\\eta} n_{1} n_{2} \\left(n_{1}^{2} - n_{2}^{2}\\right)\\\\2 \\Delta_{\\eta} n_{1} n_{2} \\left(- n_{1}^{2} + n_{2}^{2}\\right) & 2 \\Delta_{\\eta} n_{1} n_{2} \\left(n_{1}^{2} - n_{2}^{2}\\right) & \\Delta_{\\eta} \\left(4 n_{1}^{2} n_{2}^{2} - 1\\right)\\end{matrix}\\right]$"
      ],
      "text/plain": [
       "⎡               2   2                      2   2                    ⎛    2    \n",
       "⎢     -4⋅Δₑₜₐ⋅n₁ ⋅n₂              4⋅Δₑₜₐ⋅n₁ ⋅n₂        2⋅Δₑₜₐ⋅n₁⋅n₂⋅⎝- n₁  + n\n",
       "⎢                                                                             \n",
       "⎢               2   2                      2   2                     ⎛  2     \n",
       "⎢      4⋅Δₑₜₐ⋅n₁ ⋅n₂             -4⋅Δₑₜₐ⋅n₁ ⋅n₂         2⋅Δₑₜₐ⋅n₁⋅n₂⋅⎝n₁  - n₂\n",
       "⎢                                                                             \n",
       "⎢             ⎛    2     2⎞               ⎛  2     2⎞          ⎛    2   2    ⎞\n",
       "⎣2⋅Δₑₜₐ⋅n₁⋅n₂⋅⎝- n₁  + n₂ ⎠  2⋅Δₑₜₐ⋅n₁⋅n₂⋅⎝n₁  - n₂ ⎠     Δₑₜₐ⋅⎝4⋅n₁ ⋅n₂  - 1⎠\n",
       "\n",
       " 2⎞⎤\n",
       "₂ ⎠⎥\n",
       "   ⎥\n",
       "2⎞ ⎥\n",
       " ⎠ ⎥\n",
       "   ⎥\n",
       "   ⎥\n",
       "   ⎦"
      ]
     },
     "metadata": {},
     "output_type": "display_data"
    },
    {
     "data": {
      "image/png": "[encoded data removed]",
      "text/latex": [
       "$\\displaystyle \\left[\\begin{matrix}- 2 n_{1}^{2} n_{2}^{2} & 2 n_{1}^{2} n_{2}^{2} & n_{1} n_{2} \\left(- n_{1}^{2} + n_{2}^{2}\\right)\\\\2 n_{1}^{2} n_{2}^{2} & - 2 n_{1}^{2} n_{2}^{2} & n_{1} n_{2} \\left(n_{1}^{2} - n_{2}^{2}\\right)\\\\n_{1} n_{2} \\left(- n_{1}^{2} + n_{2}^{2}\\right) & n_{1} n_{2} \\left(n_{1}^{2} - n_{2}^{2}\\right) & 2 n_{1}^{2} n_{2}^{2} - \\frac{1}{2}\\end{matrix}\\right]$"
      ],
      "text/plain": [
       "⎡         2   2               2   2            ⎛    2     2⎞⎤\n",
       "⎢    -2⋅n₁ ⋅n₂            2⋅n₁ ⋅n₂       n₁⋅n₂⋅⎝- n₁  + n₂ ⎠⎥\n",
       "⎢                                                           ⎥\n",
       "⎢         2   2               2   2             ⎛  2     2⎞ ⎥\n",
       "⎢     2⋅n₁ ⋅n₂           -2⋅n₁ ⋅n₂        n₁⋅n₂⋅⎝n₁  - n₂ ⎠ ⎥\n",
       "⎢                                                           ⎥\n",
       "⎢      ⎛    2     2⎞        ⎛  2     2⎞         2   2   1   ⎥\n",
       "⎢n₁⋅n₂⋅⎝- n₁  + n₂ ⎠  n₁⋅n₂⋅⎝n₁  - n₂ ⎠     2⋅n₁ ⋅n₂  - ─   ⎥\n",
       "⎣                                                       2   ⎦"
      ]
     },
     "metadata": {},
     "output_type": "display_data"
    },
    {
     "data": {
      "image/png": "[encoded data removed]",
      "text/latex": [
       "$\\displaystyle 2 n_{1}^{2} n_{2}^{2}$"
      ],
      "text/plain": [
       "    2   2\n",
       "2⋅n₁ ⋅n₂ "
      ]
     },
     "metadata": {},
     "output_type": "display_data"
    },
    {
     "data": {
      "image/png": "[encoded data removed]",
      "text/latex": [
       "$\\displaystyle n_{1} n_{2} \\left(- n_{1}^{2} + n_{2}^{2}\\right)$"
      ],
      "text/plain": [
       "      ⎛    2     2⎞\n",
       "n₁⋅n₂⋅⎝- n₁  + n₂ ⎠"
      ]
     },
     "metadata": {},
     "output_type": "display_data"
    },
    {
     "data": {
      "image/png": "[encoded data removed]",
      "text/latex": [
       "$\\displaystyle \\left[\\begin{matrix}- \\Delta_{0} & \\Delta_{0} & \\Delta_{1}\\\\\\Delta_{0} & - \\Delta_{0} & - \\Delta_{1}\\\\\\Delta_{1} & - \\Delta_{1} & \\Delta_{0} - 0.5\\end{matrix}\\right]$"
      ],
      "text/plain": [
       "⎡-Δ₀  Δ₀      Δ₁   ⎤\n",
       "⎢                  ⎥\n",
       "⎢Δ₀   -Δ₀    -Δ₁   ⎥\n",
       "⎢                  ⎥\n",
       "⎣Δ₁   -Δ₁  Δ₀ - 0.5⎦"
      ]
     },
     "metadata": {},
     "output_type": "display_data"
    }
   ],
   "source": [
    "from __future__ import division\n",
    "import matplotlib\n",
    "import matplotlib.pyplot as plt\n",
    "from sympy import *\n",
    "from IPython.display import display\n",
    "from sympy import symbols, lambdify, cos, sqrt, sin, simplify, expand, factor, init_printing, integrate, Matrix\n",
    "from sympy.solvers import solve\n",
    "init_printing(use_unicode=True)\n",
    "eta,eta_s,diff_eta,eta_d,n1,n2,D11,D22,D12,d0,d1 = symbols('eta,eta_s,Delta_eta,eta_d,n1,n2,D_11,D_22,D_12,Delta0,Delta1')\n",
    "\n",
    "##############################################################################################\n",
    "# Derivation of the components of the anisotropic matrix following Mühlhaus et al., IJSS, 2002\n",
    "R            = Matrix(2,2,[n2,-n1,n1,n2])                        # Rotation matrix\n",
    "Rt           = R.transpose()                                     # Transpose of R\n",
    "D_xy_vec     = Matrix(3,1,[D11,D22,D12/2])                       # Strain rate vector for Eulerian x-y space\n",
    "D_xy         = Matrix(2,2,[D11,D12/2,D12/2,D22])                 # Strain rate tensor\n",
    "# Local stiffness matrix with shear direction parallel to layering, which causes anisotropy\n",
    "C_ns         = Matrix(3,3,[2*eta,0,0, 0,2*eta,0, 0,0,2*eta_s])   \n",
    "# Rotate Eulerian strain rates to local coordinate system defined by layering\n",
    "D_ns         = Rt*D_xy*R\n",
    "D_ns_vec     = Matrix(3,1,[D_ns[0,0],D_ns[1,1],D_ns[1,0]])       # Strain rate vector for local space \n",
    "S_ns_vec     = C_ns*D_ns_vec                                     # Stress vector for local space\n",
    "# Local stress tensor\n",
    "S_ns         = Matrix(2,2,[S_ns_vec[0],S_ns_vec[2],S_ns_vec[2],S_ns_vec[1]])\n",
    "S_xy         = R*S_ns*Rt                                         # Rotate stress tensor to Eulerian x-y-space \n",
    "S_xy_vec     = Matrix(3,1,[S_xy[0,0],S_xy[1,1],S_xy[0,1]])       # Stress vector for Eulerian x-y space\n",
    "# Defining isotropic stiffness matrix in Eulerian x-y space\n",
    "C_iso        = Matrix(3,3,[2*eta,0,0, 0,2*eta,0, 0,0,2*eta])\n",
    "S_iso_xy_vec = C_iso*D_xy_vec                                     # Isotropic stress vector in Eulerian space\n",
    "S_ani_xy_vec = factor( expand(S_xy_vec - S_iso_xy_vec) )          # Anisotropic stress is total stress minus isotropic stress\n",
    "# Now the coefficients for the anisotropic stiffness matrix have to be collected\n",
    "# The substitutions are reformulations are done to have the same components as in Mühlhaus et al. 2002, eqn (8) \n",
    "C_ani_11     = (S_ani_xy_vec[0]).coeff(D11)\n",
    "C_ani_11a    = C_ani_11 + 4*eta*n1**2*n2**2 - 4*eta_d*n1**2*n2**2 \n",
    "C_ani_11b    = C_ani_11a.subs(eta_d,diff_eta+eta_s)\n",
    "# IMPORTANT TRIGONOMETRIC IDENDITY; n1 = -sin(angle) and n2 = cos(angle); direction cosine\n",
    "# eta can be set to zero because the term multiplied by eta is zero, because n1^2+n2^2 = 1, therefore\n",
    "# (n1^2+n2^2)*(n1^2+n2^2) = n1^4 + 2*n1^2*n2^2 + n2^4 = 1*1 = 1; hence n1^4 + 2*n1^2*n2^2 + n2^4 - 1 = 0 \n",
    "C_ani_11c    = simplify(C_ani_11b.subs(eta,0))\n",
    "\n",
    "C_ani_12     = (S_ani_xy_vec[0]).coeff(D22)\n",
    "C_ani_12     = factor(C_ani_12.subs(eta,diff_eta+eta_s))\n",
    "\n",
    "C_ani_13     = (S_ani_xy_vec[0]).coeff(D12)\n",
    "C_ani_13     = simplify(C_ani_13.subs(eta,diff_eta+eta_s))\n",
    "\n",
    "C_ani_23     = (S_ani_xy_vec[1]).coeff(D12)\n",
    "C_ani_23     = simplify(C_ani_23.subs(eta,diff_eta+eta_s))\n",
    "\n",
    "C_ani_33     = (S_ani_xy_vec[2]).coeff(D12)\n",
    "C_ani_33a    = C_ani_33 + 4*eta_s*n1**2*n2**2 - 4*eta_d*n1**2*n2**2 - eta_s/1 + eta_d/1 \n",
    "C_ani_33b    = simplify(C_ani_33a.subs(eta_d,eta-diff_eta))\n",
    "C_ani_33c    = simplify(C_ani_33b.subs(eta_s,0))\n",
    "\n",
    "C_ani        = Matrix(3,3,[C_ani_11c,C_ani_12,C_ani_13,C_ani_12,C_ani_11c,C_ani_23,C_ani_13,C_ani_23,C_ani_33c])\n",
    "C_ani_basic  = Matrix(3,3,[C_ani_11c/(2*diff_eta),C_ani_12/(2*diff_eta),C_ani_13/(2*diff_eta),C_ani_12/(2*diff_eta),C_ani_11c/(2*diff_eta),C_ani_23/(2*diff_eta),C_ani_13/(2*diff_eta),C_ani_23/(2*diff_eta),C_ani_33c/(2*diff_eta)])\n",
    "D            = C_iso + C_ani\n",
    "S_tot_xy     = D*D_xy_vec\n",
    "\n",
    "Delta_0      = 2*n1**2*n2**2\n",
    "Delta_1      = n1*n2*(-n1**2+n2**2)\n",
    "C_ani_sym    = Matrix(3,3,(-d0,d0,d1,d0,-d0,-d1,d1,-d1,d0-1/2))\n",
    "#display( C_ani_11c )\n",
    "#display( C_ani_12  )\n",
    "#display( C_ani_13  )\n",
    "#display( C_ani_23  )\n",
    "#display( C_ani_33c )\n",
    "\n",
    "display(C_iso)\n",
    "display(C_ani)\n",
    "display(simplify(C_ani_basic))\n",
    "display(Delta_0)\n",
    "display(Delta_1)\n",
    "display(C_ani_sym)\n",
    "#display(D)\n",
    "#display(simplify(S_tot_xy))\n"
   ]
  },
  {
   "cell_type": "code",
   "execution_count": null,
   "metadata": {},
   "outputs": [],
   "source": []
  },
  {
   "cell_type": "code",
   "execution_count": null,
   "metadata": {},
   "outputs": [],
   "source": []
  },
  {
   "cell_type": "code",
   "execution_count": null,
   "metadata": {},
   "outputs": [],
   "source": []
  },
  {
   "cell_type": "code",
   "execution_count": null,
   "metadata": {},
   "outputs": [],
   "source": []
  },
  {
   "cell_type": "code",
   "execution_count": null,
   "metadata": {},
   "outputs": [],
   "source": []
  }
 ],
 "metadata": {
  "kernelspec": {
   "display_name": "Python 3",
   "language": "python",
   "name": "python3"
  },
  "language_info": {
   "codemirror_mode": {
    "name": "ipython",
    "version": 3
   },
   "file_extension": ".py",
   "mimetype": "text/x-python",
   "name": "python",
   "nbconvert_exporter": "python",
   "pygments_lexer": "ipython3",
   "version": "3.7.3"
  }
 },
 "nbformat": 4,
 "nbformat_minor": 2
}
