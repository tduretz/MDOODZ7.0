{
 "cells": [
  {
   "cell_type": "code",
   "execution_count": 91,
   "metadata": {
    "scrolled": true
   },
   "outputs": [
    {
     "name": "stdout",
     "output_type": "stream",
     "text": [
      "nx = Nx*cos(angle) - Nz*sin(angle);\n",
      "nz = Nx*sin(angle) + Nz*cos(angle);\n",
      "particles->sxxd[k] = -(txx*sin(angle) + txz*cos(angle))*sin(angle) + (txx*cos(angle) - txz*sin(angle))*cos(angle);\n",
      "particles->sxz[k]  = (txx*sin(angle) + txz*cos(angle))*cos(angle) + (txx*cos(angle) - txz*sin(angle))*sin(angle);\n"
     ]
    }
   ],
   "source": [
    "from sympy import * \n",
    "import numpy as np \n",
    "init_printing()\n",
    "\n",
    "# Definitions\n",
    "angle, txx, txz, Nx, Nz = symbols( 'angle, txx, txz, Nx, Nz' )\n",
    "R   = Matrix([[cos(angle), -sin(angle)], [sin(angle), cos(angle)]]);\n",
    "T   = Matrix([ [txx, txz], [txz, -txx] ])\n",
    "N   = Matrix([ [Nx], [Nz] ])\n",
    "\n",
    "N1  = R * N \n",
    "\n",
    "# Rotate\n",
    "T1  = R * T * R.transpose()\n",
    "\n",
    "print ('nx = ' + ccode(N1[0] ) + ';')\n",
    "print ('nz = ' + ccode(N1[1] ) + ';')\n",
    "print ('particles->sxxd[k] = ' + ccode(T1[0,0] ) + ';')\n",
    "print ('particles->sxz[k]  = ' + ccode(T1[0,1] ) + ';')"
   ]
  },
  {
   "cell_type": "code",
   "execution_count": 92,
   "metadata": {},
   "outputs": [
    {
     "name": "stdout",
     "output_type": "stream",
     "text": [
      "ndotx = nx*(nx*(e11*nx + e12*nz) + nz*(-e11*nz + e12*nx)) + nz*w12 - (pow(nx, 2) + pow(nz, 2))*(e11*nx + e12*nz);\n",
      "ndotz = -nx*w12 + nz*(nx*(e11*nx + e12*nz) + nz*(-e11*nz + e12*nx)) - (pow(nx, 2) + pow(nz, 2))*(-e11*nz + e12*nx);\n"
     ]
    }
   ],
   "source": [
    "# Update formula for the director vector from Mülhaus\n",
    "w12,e11,e12,nx,nz = symbols('w12,e11,e12,nx,nz')\n",
    "W = Matrix([[  0, w12], [-w12,   0]]);   # vorticity tensor\n",
    "D = Matrix([[e11, e12], [e12, -e11]]);   # deviatoric strain rate tensor\n",
    "Director      = Matrix([[nx], [nz]]);\n",
    "sca1          = (Director.transpose()*Director)\n",
    "Director_dot  = W*Director - np.multiply(sca1,D*Director) \n",
    "sca2        = (Director.transpose()*( D*Director));\n",
    "Director_dot  = Director_dot + np.multiply(sca2,Director)\n",
    "print( 'ndotx = ' + ccode(Director_dot[0]) + ';')\n",
    "print( 'ndotz = ' + ccode(Director_dot[1]) + ';')\n",
    "\n",
    "# Director_dot = W*Director - D*Director*(Director'*Director) + (Director'*(D*Director))*Director;\n",
    "\n"
   ]
  },
  {
   "cell_type": "code",
   "execution_count": 86,
   "metadata": {},
   "outputs": [
    {
     "name": "stdout",
     "output_type": "stream",
     "text": [
      "Matrix([[nx**2 + nz**2]])\n"
     ]
    }
   ],
   "source": [
    "print(Director.transpose()*Director)"
   ]
  },
  {
   "cell_type": "code",
   "execution_count": null,
   "metadata": {
    "collapsed": true
   },
   "outputs": [],
   "source": []
  }
 ],
 "metadata": {
  "kernelspec": {
   "display_name": "Python 3",
   "language": "python",
   "name": "python3"
  },
  "language_info": {
   "codemirror_mode": {
    "name": "ipython",
    "version": 3
   },
   "file_extension": ".py",
   "mimetype": "text/x-python",
   "name": "python",
   "nbconvert_exporter": "python",
   "pygments_lexer": "ipython3",
   "version": "3.6.3"
  }
 },
 "nbformat": 4,
 "nbformat_minor": 2
}
