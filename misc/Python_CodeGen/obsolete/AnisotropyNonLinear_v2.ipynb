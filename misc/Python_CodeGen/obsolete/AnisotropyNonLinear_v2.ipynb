{
 "cells": [
  {
   "cell_type": "code",
   "execution_count": 5,
   "source": [
    "from sympy import *\n",
    "d0, d1, ani = symbols('d0, d1, ani')\n",
    "eta_pwl, G  = symbols('eta_pwl, G')\n",
    "ani_fact    = symbols('ani_fact')\n",
    "nx, ny = symbols('nx, ny')\n",
    "two = symbols('two')\n",
    "\n",
    "# ani  = 1.0 - 1.0/ani_fact\n",
    "Dani = Matrix([[2.0 - 2.0*ani*d0, 2.0*ani*d0, 2.0*ani*d1*two], \n",
    "[2.0*ani*d0, 2.0 - 2.0*ani*d0, -2.0*ani*d1*two],\n",
    "[2.0*ani*d1, -2.0*ani*d1, two*(1+2.0*ani*(d0 - 0.5))]])\n",
    "\n",
    "iDani  = Dani.inv()\n",
    "\n",
    "Dv     = eta_pwl * Dani\n",
    " \n",
    "iDv1   = Dv.inv()\n",
    "iDv2   = 1.0/eta_pwl * iDani\n",
    "iDe2   = 1.0/G       * iDani\n",
    "iDve2  = (1.0/eta_pwl + 1.0/G) * iDani\n",
    "Dve    = 1.0/(1.0/eta_pwl + 1.0/G) * Dani\n",
    "\n",
    "# Dve1  = iDve2.inv()"
   ],
   "outputs": [],
   "metadata": {}
  },
  {
   "cell_type": "code",
   "execution_count": 6,
   "source": [
    "# This shows the anisotropy matrix for MDOODZ6.0\n",
    "# d0     = 2.0*nx**2.0*ny**2.0\n",
    "# d1     = nx*ny*(-nx**2.0 + ny**2.0)\n",
    "# Dv_MD6 = Dv.subs('d0', d0).subs('d1', d1)\n",
    "Dv_MD6 = Dv\n",
    "display( Dv_MD6 )\n"
   ],
   "outputs": [
    {
     "output_type": "display_data",
     "data": {
      "text/latex": [
       "$\\displaystyle \\left[\\begin{matrix}\\eta_{pwl} \\left(- 2.0 ani d_{0} + 2.0\\right) & 2.0 ani d_{0} \\eta_{pwl} & 2.0 ani d_{1} \\eta_{pwl} two\\\\2.0 ani d_{0} \\eta_{pwl} & \\eta_{pwl} \\left(- 2.0 ani d_{0} + 2.0\\right) & - 2.0 ani d_{1} \\eta_{pwl} two\\\\2.0 ani d_{1} \\eta_{pwl} & - 2.0 ani d_{1} \\eta_{pwl} & \\eta_{pwl} two \\left(2.0 ani \\left(d_{0} - 0.5\\right) + 1\\right)\\end{matrix}\\right]$"
      ],
      "text/plain": [
       "Matrix([\n",
       "[eta_pwl*(-2.0*ani*d0 + 2.0),          2.0*ani*d0*eta_pwl,               2.0*ani*d1*eta_pwl*two],\n",
       "[         2.0*ani*d0*eta_pwl, eta_pwl*(-2.0*ani*d0 + 2.0),              -2.0*ani*d1*eta_pwl*two],\n",
       "[         2.0*ani*d1*eta_pwl,         -2.0*ani*d1*eta_pwl, eta_pwl*two*(2.0*ani*(d0 - 0.5) + 1)]])"
      ]
     },
     "metadata": {}
    }
   ],
   "metadata": {}
  },
  {
   "cell_type": "code",
   "execution_count": 7,
   "source": [
    "# This is what is the StressEvolutionNonLinearAnisotropy_v9 script\n",
    "# nx       = cos(angle); ny = sin(angle);\n",
    "# two      = 1.0\n",
    "Director = Matrix([ [nx], [ny]])\n",
    "d0, d1 = symbols('d0, d1')\n",
    "# d0       = 2.0*Director[0]**2.0*Director[1]**2.0\n",
    "# d1       = Director[0]*Director[1] * (-Director[0]**2.0 + Director[1]**2.0)\n",
    "C_ANI    = Matrix([ [-d0, d0, two*d1], [d0, -d0, -two*d1], [d1, -d1, -two*(1/2-d0)]]) ##### !!! - sign in D33 -a0\n",
    "C_ISO    = Matrix([ [1, 0, 0], [0, 1, 0], [0, 0, two*1/2]])\n",
    "Dani     = 2.0* (C_ISO + C_ANI * ani)\n",
    "Dv_Matlab= eta_pwl * Dani\n",
    "display( Dv_Matlab )"
   ],
   "outputs": [
    {
     "output_type": "display_data",
     "data": {
      "text/latex": [
       "$\\displaystyle \\left[\\begin{matrix}\\eta_{pwl} \\left(- 2.0 ani d_{0} + 2.0\\right) & 2.0 ani d_{0} \\eta_{pwl} & 2.0 ani d_{1} \\eta_{pwl} two\\\\2.0 ani d_{0} \\eta_{pwl} & \\eta_{pwl} \\left(- 2.0 ani d_{0} + 2.0\\right) & - 2.0 ani d_{1} \\eta_{pwl} two\\\\2.0 ani d_{1} \\eta_{pwl} & - 2.0 ani d_{1} \\eta_{pwl} & \\eta_{pwl} \\left(- 2.0 ani two \\left(0.5 - d_{0}\\right) + 1.0 two\\right)\\end{matrix}\\right]$"
      ],
      "text/plain": [
       "Matrix([\n",
       "[eta_pwl*(-2.0*ani*d0 + 2.0),          2.0*ani*d0*eta_pwl,                      2.0*ani*d1*eta_pwl*two],\n",
       "[         2.0*ani*d0*eta_pwl, eta_pwl*(-2.0*ani*d0 + 2.0),                     -2.0*ani*d1*eta_pwl*two],\n",
       "[         2.0*ani*d1*eta_pwl,         -2.0*ani*d1*eta_pwl, eta_pwl*(-2.0*ani*two*(0.5 - d0) + 1.0*two)]])"
      ]
     },
     "metadata": {}
    }
   ],
   "metadata": {}
  },
  {
   "cell_type": "code",
   "execution_count": 8,
   "source": [
    "# Now the difference between the 2 formulations\n",
    "nerr = 0\n",
    "for j in range(3):\n",
    "    for i in range(3):\n",
    "        if abs( (Dv_Matlab[j,i] - Dv_MD6[j,i]).simplify() ) > 0: \n",
    "            display( 'error' )\n",
    "            nerr+=1\n",
    "if nerr==0:\n",
    "    display( 'everything is fine' )"
   ],
   "outputs": [
    {
     "output_type": "display_data",
     "data": {
      "text/plain": [
       "'everything is fine'"
      ]
     },
     "metadata": {}
    }
   ],
   "metadata": {}
  },
  {
   "cell_type": "code",
   "execution_count": 40,
   "source": [
    "# This is just have a look the Gij components\n",
    "Exx,Ezz,Exz = symbols('Exx,Ezz,Exz')\n",
    "E           = Matrix([[Exx],[Ezz],[Exz]])\n",
    "Gij = (C_ISO + C_ANI * ani)*E\n",
    "display(Gij)"
   ],
   "outputs": [
    {
     "output_type": "display_data",
     "data": {
      "text/latex": [
       "$\\displaystyle \\left[\\begin{matrix}Exx \\left(- ani d_{0} + 1\\right) + Exz ani d_{1} two + Ezz ani d_{0}\\\\Exx ani d_{0} - Exz ani d_{1} two + Ezz \\left(- ani d_{0} + 1\\right)\\\\Exx ani d_{1} + Exz \\left(- ani two \\left(0.5 - d_{0}\\right) + \\frac{two}{2}\\right) - Ezz ani d_{1}\\end{matrix}\\right]$"
      ],
      "text/plain": [
       "Matrix([\n",
       "[            Exx*(-ani*d0 + 1) + Exz*ani*d1*two + Ezz*ani*d0],\n",
       "[            Exx*ani*d0 - Exz*ani*d1*two + Ezz*(-ani*d0 + 1)],\n",
       "[Exx*ani*d1 + Exz*(-ani*two*(0.5 - d0) + two/2) - Ezz*ani*d1]])"
      ]
     },
     "metadata": {}
    }
   ],
   "metadata": {}
  },
  {
   "cell_type": "code",
   "execution_count": 27,
   "source": [
    "Exx,Ezz,Exz = symbols('Exx,Ezz,Exz')\n",
    "Txx,Tzz,Txz = symbols('Txx,Tzz,Txz')\n",
    "eta_eff     = Function('eta_eff')(Exx,Ezz,Exz)\n",
    "E           = Matrix([[Exx],[Ezz],[Exz]])\n",
    "Dv_jac      = eta_eff * Dani\n",
    "T           = Dv_jac * E\n",
    "\n",
    "Gxx = Gij[0]\n",
    "Gzz = Gij[1]\n",
    "Gxz = Gij[2]\n",
    "\n",
    "# First row\n",
    "display(collect( T[0].diff(Exx), eta_eff.diff(Exx)).subs(Gxx,'Gxx').simplify().subs(eta_eff,'eta_eff') )\n",
    "display(Gxx)\n",
    "\n",
    "\n",
    "\n",
    "display(collect( T[2].diff(Exx), eta_eff.diff(Exx)).subs(Gxz,'Gxz').simplify().subs(eta_eff,'eta_eff') )\n",
    "display(collect( T[2].diff(Ezz), eta_eff.diff(Ezz)).subs(Gxz,'Gxz').simplify().subs(eta_eff,'eta_eff') )\n",
    "display(collect( T[2].diff(Exz), eta_eff.diff(Exz)).subs(Gxz,'Gxz').simplify().subs(eta_eff,'eta_eff') )\n",
    "display(Gxx)\n",
    "# display(T[1].diff(Exx).subs(eta_eff,'eta_eff'))\n",
    "# display(T[2].diff(Exx).subs(eta_eff,'eta_eff'))\n",
    "\n",
    "# # Second row\n",
    "# display(T[0].diff(Ezz).subs(eta_eff,'eta_eff'))\n",
    "# display(T[1].diff(Ezz).subs(eta_eff,'eta_eff'))\n",
    "# display(T[2].diff(Ezz).subs(eta_eff,'eta_eff'))\n",
    "\n",
    "# # Third row\n",
    "# display(T[0].diff(Exz).subs(eta_eff,'eta_eff'))\n",
    "# display(T[1].diff(Exz).subs(eta_eff,'eta_eff'))\n",
    "# display(T[2].diff(Exz).subs(eta_eff,'eta_eff'))\n"
   ],
   "outputs": [
    {
     "output_type": "display_data",
     "data": {
      "text/latex": [
       "$\\displaystyle - 2.0 \\eta_{eff} \\left(ani d_{0} - 1\\right) + 2.0 \\left(- Exx \\left(ani d_{0} - 1\\right) + Exz ani d_{1} + Ezz ani d_{0}\\right) \\frac{d}{d Exx} \\eta_{eff}$"
      ],
      "text/plain": [
       "-2.0*eta_eff*(ani*d0 - 1) + 2.0*(-Exx*(ani*d0 - 1) + Exz*ani*d1 + Ezz*ani*d0)*Derivative(eta_eff, Exx)"
      ]
     },
     "metadata": {}
    },
    {
     "output_type": "display_data",
     "data": {
      "text/latex": [
       "$\\displaystyle Exx \\left(- ani d_{0} + 1\\right) + 1.0 Exz ani d_{1} + Ezz ani d_{0}$"
      ],
      "text/plain": [
       "Exx*(-ani*d0 + 1) + 1.0*Exz*ani*d1 + Ezz*ani*d0"
      ]
     },
     "metadata": {}
    },
    {
     "output_type": "display_data",
     "data": {
      "text/latex": [
       "$\\displaystyle 2.0 ani d_{1} \\eta_{eff} + \\left(2.0 Exx ani d_{1} + Exz \\left(2.0 ani \\left(1.0 d_{0} - 0.5\\right) + 1.0\\right) - 2.0 Ezz ani d_{1}\\right) \\frac{d}{d Exx} \\eta_{eff}$"
      ],
      "text/plain": [
       "2.0*ani*d1*eta_eff + (2.0*Exx*ani*d1 + Exz*(2.0*ani*(1.0*d0 - 0.5) + 1.0) - 2.0*Ezz*ani*d1)*Derivative(eta_eff, Exx)"
      ]
     },
     "metadata": {}
    },
    {
     "output_type": "display_data",
     "data": {
      "text/latex": [
       "$\\displaystyle - 2.0 ani d_{1} \\eta_{eff} + \\left(2.0 Exx ani d_{1} + Exz \\left(2.0 ani \\left(1.0 d_{0} - 0.5\\right) + 1.0\\right) - 2.0 Ezz ani d_{1}\\right) \\frac{d}{d Ezz} \\eta_{eff}$"
      ],
      "text/plain": [
       "-2.0*ani*d1*eta_eff + (2.0*Exx*ani*d1 + Exz*(2.0*ani*(1.0*d0 - 0.5) + 1.0) - 2.0*Ezz*ani*d1)*Derivative(eta_eff, Ezz)"
      ]
     },
     "metadata": {}
    },
    {
     "output_type": "display_data",
     "data": {
      "text/latex": [
       "$\\displaystyle \\eta_{eff} \\left(2.0 ani \\left(1.0 d_{0} - 0.5\\right) + 1.0\\right) + \\left(2.0 Exx ani d_{1} + Exz \\left(2.0 ani \\left(1.0 d_{0} - 0.5\\right) + 1.0\\right) - 2.0 Ezz ani d_{1}\\right) \\frac{d}{d Exz} \\eta_{eff}$"
      ],
      "text/plain": [
       "eta_eff*(2.0*ani*(1.0*d0 - 0.5) + 1.0) + (2.0*Exx*ani*d1 + Exz*(2.0*ani*(1.0*d0 - 0.5) + 1.0) - 2.0*Ezz*ani*d1)*Derivative(eta_eff, Exz)"
      ]
     },
     "metadata": {}
    },
    {
     "output_type": "display_data",
     "data": {
      "text/latex": [
       "$\\displaystyle Exx \\left(- ani d_{0} + 1\\right) + 1.0 Exz ani d_{1} + Ezz ani d_{0}$"
      ],
      "text/plain": [
       "Exx*(-ani*d0 + 1) + 1.0*Exz*ani*d1 + Ezz*ani*d0"
      ]
     },
     "metadata": {}
    }
   ],
   "metadata": {}
  },
  {
   "cell_type": "code",
   "execution_count": 7,
   "source": [
    "Txx0, exx, Tyy0, eyy  = symbols('Txx0, exx, Tyy0, eyy')\n",
    "etae, etave = symbols('etae, etave')\n",
    "Exx  = exx + Txx0/2/etae\n",
    "Txx  = 2*etave*Exx\n",
    "exxe = (Txx -Txx0 )/2/etae\n",
    "Eyy  = eyy + Tyy0/2/etae\n",
    "Tyy  = 2*etave*Eyy\n",
    "eyye = (Tyy -Tyy0 ) /etae\n",
    "eiie = sqrt(1/2*(exxe**2 + eyye**2))\n",
    "Tii  = sqrt(1/2*( Txx**2 +  Tyy**2))\n",
    "Eii  = sqrt(1/2*( Exx**2 +  Eyy**2))\n",
    "exxe1= eiie*Txx/Tii\n",
    "\n",
    "display(exxe)\n",
    "display(eyye)\n",
    "display(Eii)\n",
    "display( (exxe1-exxe).simplify())"
   ],
   "outputs": [
    {
     "output_type": "display_data",
     "data": {
      "text/latex": [
       "$\\displaystyle \\frac{- \\frac{Txx_{0}}{2} + etave \\left(\\frac{Txx_{0}}{2 etae} + exx\\right)}{etae}$"
      ],
      "text/plain": [
       "(-Txx0/2 + etave*(Txx0/(2*etae) + exx))/etae"
      ]
     },
     "metadata": {}
    },
    {
     "output_type": "display_data",
     "data": {
      "text/latex": [
       "$\\displaystyle \\frac{- Tyy_{0} + 2 etave \\left(\\frac{Tyy_{0}}{2 etae} + eyy\\right)}{etae}$"
      ],
      "text/plain": [
       "(-Tyy0 + 2*etave*(Tyy0/(2*etae) + eyy))/etae"
      ]
     },
     "metadata": {}
    },
    {
     "output_type": "display_data",
     "data": {
      "text/latex": [
       "$\\displaystyle 0.707106781186548 \\sqrt{\\left(\\frac{Txx_{0}}{2 etae} + exx\\right)^{2} + \\left(\\frac{Tyy_{0}}{2 etae} + eyy\\right)^{2}}$"
      ],
      "text/plain": [
       "0.707106781186548*sqrt((Txx0/(2*etae) + exx)**2 + (Tyy0/(2*etae) + eyy)**2)"
      ]
     },
     "metadata": {}
    },
    {
     "output_type": "display_data",
     "data": {
      "text/latex": [
       "$\\displaystyle \\frac{etae etave \\sqrt{\\frac{\\left(Txx_{0} etae - etave \\left(Txx_{0} + 2 etae exx\\right)\\right)^{2} + 4 \\left(Tyy_{0} etae - etave \\left(Tyy_{0} + 2 etae eyy\\right)\\right)^{2}}{etae^{4}}} \\left(Txx_{0} + 2 etae exx\\right) + \\sqrt{\\frac{etave^{2} \\left(\\left(Txx_{0} + 2 etae exx\\right)^{2} + \\left(Tyy_{0} + 2 etae eyy\\right)^{2}\\right)}{etae^{2}}} \\left(Txx_{0} etae - etave \\left(Txx_{0} + 2 etae exx\\right)\\right)}{2 etae^{2} \\sqrt{\\frac{etave^{2} \\left(\\left(Txx_{0} + 2 etae exx\\right)^{2} + \\left(Tyy_{0} + 2 etae eyy\\right)^{2}\\right)}{etae^{2}}}}$"
      ],
      "text/plain": [
       "(etae*etave*sqrt(((Txx0*etae - etave*(Txx0 + 2*etae*exx))**2 + 4*(Tyy0*etae - etave*(Tyy0 + 2*etae*eyy))**2)/etae**4)*(Txx0 + 2*etae*exx) + sqrt(etave**2*((Txx0 + 2*etae*exx)**2 + (Tyy0 + 2*etae*eyy)**2)/etae**2)*(Txx0*etae - etave*(Txx0 + 2*etae*exx)))/(2*etae**2*sqrt(etave**2*((Txx0 + 2*etae*exx)**2 + (Tyy0 + 2*etae*eyy)**2)/etae**2))"
      ]
     },
     "metadata": {}
    }
   ],
   "metadata": {}
  },
  {
   "cell_type": "code",
   "execution_count": 9,
   "source": [
    "exx, eyy, exy = symbols('exx, eyy, exy')\n",
    "eta = symbols('eta')\n",
    "I2      =       1/2*(exx**2 + eyy**2) + exy**2\n",
    "###################################\n",
    "Txx = 2*eta*exx\n",
    "Tyy = 2*eta*eyy\n",
    "Txy = 2*eta*exy\n",
    "\n",
    "eii = sqrt( 1/2*(exx**2 + eyy**2) + exy**2)\n",
    "Tii = sqrt( 1/2*(Txx**2 + Tyy**2) + Txy**2)\n",
    "eta_eff = Tii/2/eii\n",
    "eta_eff = eta_eff.subs(I2,'I2')\n",
    "display(  eta_eff )\n",
    "\n",
    "################################################\n",
    "\n",
    "d11,d22,d33,d12,d13,d23 = symbols('d11,d22,d33,d12,d13,d23')\n",
    "Exx_ani = d11*exx + d12*eyy + d13*exy\n",
    "Eyy_ani = d12*exx + d22*eyy + d23*exy\n",
    "Exy_ani = d13*exx + d23*eyy + d33*exy\n",
    "Txx     = 2* eta * Exx_ani\n",
    "Tyy     = 2* eta * Eyy_ani\n",
    "Txy     = 2* eta * Exy_ani\n",
    "\n",
    "I2      =       1/2*(exx**2 + eyy**2) + exy**2\n",
    "I2_ani  =       1/2*(Exx_ani**2 + Eyy_ani**2) + Exy_ani**2\n",
    "eii = sqrt( I2 )\n",
    "Tii = sqrt( 1/2*(Txx**2 + Tyy**2) + Txy**2)\n",
    "eta_eff = Tii/eii/2\n",
    "eta_eff = eta_eff.subs(I2,'I2').subs(I2_ani,'I2_ani')\n",
    "display(  eta_eff.simplify() )\n",
    "\n",
    "\n",
    "\n"
   ],
   "outputs": [
    {
     "output_type": "display_data",
     "data": {
      "text/latex": [
       "$\\displaystyle \\frac{\\sqrt{0.5 \\eta^{2} exx^{2} + \\eta^{2} exy^{2} + 0.5 \\eta^{2} eyy^{2}}}{\\sqrt{I_{2}}}$"
      ],
      "text/plain": [
       "sqrt(0.5*eta**2*exx**2 + eta**2*exy**2 + 0.5*eta**2*eyy**2)/sqrt(I2)"
      ]
     },
     "metadata": {}
    },
    {
     "output_type": "display_data",
     "data": {
      "text/latex": [
       "$\\displaystyle \\frac{\\sqrt{\\eta^{2} \\left(0.5 \\left(d_{11} exx + d_{12} eyy + d_{13} exy\\right)^{2} + 0.5 \\left(d_{12} exx + d_{22} eyy + d_{23} exy\\right)^{2} + \\left(d_{13} exx + d_{23} eyy + d_{33} exy\\right)^{2}\\right)}}{\\sqrt{I_{2}}}$"
      ],
      "text/plain": [
       "sqrt(eta**2*(0.5*(d11*exx + d12*eyy + d13*exy)**2 + 0.5*(d12*exx + d22*eyy + d23*exy)**2 + (d13*exx + d23*eyy + d33*exy)**2))/sqrt(I2)"
      ]
     },
     "metadata": {}
    }
   ],
   "metadata": {}
  },
  {
   "cell_type": "code",
   "execution_count": 10,
   "source": [
    "display(Txx/2/exx)"
   ],
   "outputs": [
    {
     "output_type": "display_data",
     "data": {
      "text/latex": [
       "$\\displaystyle \\frac{\\eta \\left(d_{11} exx + d_{12} eyy + d_{13} exy\\right)}{exx}$"
      ],
      "text/plain": [
       "eta*(d11*exx + d12*eyy + d13*exy)/exx"
      ]
     },
     "metadata": {}
    }
   ],
   "metadata": {}
  },
  {
   "cell_type": "code",
   "execution_count": 19,
   "source": [
    "C_pwl, npwl, eta_ve = symbols('C_pwl, npwl, eta_ve')\n",
    "Gxx, Exx, Gyy, Gzz, Gxy, Eyy, Ezz, Exy, f_ani, Tii = symbols('Gxx, Exx, Gyy, Gzz, Gxy, Eyy, Ezz, Exy, f_ani, Tii')\n",
    "# Tii     = 2*eta*Eii\n",
    "\n",
    "Eii_pwl = C_pwl * Tii**(npwl) \n",
    "display(Eii_pwl.diff(eta).subs(Eii_pwl, 'Eii_pwl'))\n",
    "\n",
    "# Dislocation work\n",
    "exx_pwl = Exx/Gxx*f_ani * Txx/Tii * Eii_pwl\n",
    "eyy_pwl = Eyy/Gyy*f_ani * Tyy/Tii * Eii_pwl\n",
    "# exx_pwl = Txx/Tii * Eii_pwl\n",
    "# eyy_pwl = Tyy/Tii * Eii_pwl\n",
    "Wdis    = exx_pwl*Txx + eyy_pwl*Tyy\n",
    "display(Wdis.subs(Eii_pwl, 'Eii_pwl').subs(Eii,'Eii').subs(exx_pwl,'exx_pwl').subs(Txx, 'Txx').subs(Tyy, 'Tyy').subs(Tii, 'Tii').simplify())\n",
    "display(Eii)\n",
    "\n"
   ],
   "outputs": [
    {
     "output_type": "display_data",
     "data": {
      "text/latex": [
       "$\\displaystyle 0$"
      ],
      "text/plain": [
       "0"
      ]
     },
     "metadata": {}
    },
    {
     "output_type": "display_data",
     "data": {
      "text/latex": [
       "$\\displaystyle \\frac{4.0 Eii_{pwl} \\eta_{ve}^{2} \\left(Exx Gxx + Eyy Gyy\\right)}{Tii f_{ani}}$"
      ],
      "text/plain": [
       "4.0*Eii_pwl*eta_ve**2*(Exx*Gxx + Eyy*Gyy)/(Tii*f_ani)"
      ]
     },
     "metadata": {}
    },
    {
     "output_type": "display_data",
     "data": {
      "text/latex": [
       "$\\displaystyle 0.707106781186548 \\sqrt{\\left(\\frac{Txx_{0}}{2 etae} + exx\\right)^{2} + \\left(\\frac{Tyy_{0}}{2 etae} + eyy\\right)^{2}}$"
      ],
      "text/plain": [
       "0.707106781186548*sqrt((Txx0/(2*etae) + exx)**2 + (Tyy0/(2*etae) + eyy)**2)"
      ]
     },
     "metadata": {}
    }
   ],
   "metadata": {}
  },
  {
   "cell_type": "code",
   "execution_count": 23,
   "source": [
    "d, p = symbols('d,p')\n",
    "\n",
    "# Jacobian for coupled power-law and GSE\n",
    "Tii       = 2*eta_ve*Eii\n",
    "Txx       = Tii/f_ani/Eii*Gxx\n",
    "Tyy       = Tii/f_ani/Eii*Gyy\n",
    "Tzz       = -Txx-Tyy\n",
    "Txy       = Tii/f_ani/Eii*Gxy\n",
    "\n",
    "\n",
    "Wpwl      = f_ani*Eii_pwl/Tii*( Exx/Gxx*Txx**2 + Eyy/Gyy*Tyy**2 + Ezz/Gzz*Tzz**2 + 2*Exy/Gxy*Txy**2)\n",
    "\n",
    "# Ared = lam/c/gam\n",
    "# Agro = Kg*fH20*exp(-(Eg+P*Vg)/R/T)*p^(-1)\n",
    "Ared, Agro   = symbols('Ared, Agro')\n",
    "dred         =-Ared*Wpwl*d**2\n",
    "dgro         = Agro*d**(1-p)"
   ],
   "outputs": [],
   "metadata": {}
  },
  {
   "cell_type": "code",
   "execution_count": null,
   "source": [],
   "outputs": [],
   "metadata": {}
  }
 ],
 "metadata": {
  "interpreter": {
   "hash": "4842cc9a1b6e840909d063bd925fa46819061d81091593ee4396a8e6a87eeeef"
  },
  "kernelspec": {
   "name": "python3",
   "display_name": "Python 3.7.4 64-bit ('base': conda)"
  },
  "language_info": {
   "codemirror_mode": {
    "name": "ipython",
    "version": 3
   },
   "file_extension": ".py",
   "mimetype": "text/x-python",
   "name": "python",
   "nbconvert_exporter": "python",
   "pygments_lexer": "ipython3",
   "version": "3.7.4"
  },
  "orig_nbformat": 4
 },
 "nbformat": 4,
 "nbformat_minor": 2
}