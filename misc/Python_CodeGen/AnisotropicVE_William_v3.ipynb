{
 "cells": [
  {
   "cell_type": "code",
   "execution_count": 6,
   "metadata": {},
   "outputs": [
    {
     "data": {
      "text/plain": [
       "'1.11.1'"
      ]
     },
     "execution_count": 6,
     "metadata": {},
     "output_type": "execute_result"
    }
   ],
   "source": [
    "import sympy\n",
    "from sympy import *\n",
    "etav, etae, av, ae = symbols('eta_v, eta_e, av, ae')\n",
    "Exx, Exy = symbols('Exx_eff, Exy_eff')\n",
    "Txx0, Txy0 = symbols('Txx0, Txy0')\n",
    "sympy.__version__"
   ]
  },
  {
   "cell_type": "code",
   "execution_count": 7,
   "metadata": {},
   "outputs": [],
   "source": [
    "# Make Newton iterations for VE power law\n",
    "eta_e, a_v, a_e, eta_ve, eta_pwl = symbols('eta_e, a_v, a_e, eta_ve, eta_pwl')\n",
    "Exx_eff, Eyy_eff, Exy_eff, C, B, npwl = symbols('Exx_eff, Eyy_eff, Exy_eff, C, B, npwl')\n",
    "\n",
    "a_ve      = sqrt((eta_e*a_v**2 + eta_pwl*a_e**2)/(eta_e + eta_pwl)) \n",
    "eta_ve    = (1/eta_pwl + 1/eta_e)**-1\n",
    "Txx       = 2*eta_ve * Exx_eff\n",
    "Tyy       = 2*eta_ve * Eyy_eff\n",
    "Txy       = 2*eta_ve * Exy_eff / (a_ve)**2\n",
    "Tzz       = -Txx - Tyy \n",
    "T2_v      = 0.5*(Txx**2 + Tyy**2 + Tzz**2) + Txy**2*a_v**2\n",
    "Eii_pwl   = C * sqrt(T2_v) **(npwl)\n",
    "eta_pwl1  = B**(-1/npwl) * Eii_pwl**((1-npwl)/npwl)\n",
    "f         = 1 - eta_pwl1/eta_pwl\n"
   ]
  },
  {
   "cell_type": "code",
   "execution_count": 8,
   "metadata": {},
   "outputs": [
    {
     "data": {
      "text/latex": [
       "$\\displaystyle 1 - \\frac{B^{- \\frac{1}{npwl}} \\left(C \\left(2 \\sqrt{\\frac{0.5 Exx_{eff}^{2}}{\\left(\\frac{1}{\\eta_{pwl}} + \\frac{1}{\\eta_{e}}\\right)^{2}} + \\frac{Exy_{eff}^{2} a_{v}^{2} \\left(\\eta_{e} + \\eta_{pwl}\\right)^{2}}{\\left(\\frac{1}{\\eta_{pwl}} + \\frac{1}{\\eta_{e}}\\right)^{2} \\left(a_{e}^{2} \\eta_{pwl} + a_{v}^{2} \\eta_{e}\\right)^{2}} + \\frac{0.5 Eyy_{eff}^{2}}{\\left(\\frac{1}{\\eta_{pwl}} + \\frac{1}{\\eta_{e}}\\right)^{2}} + 0.125 \\left(- \\frac{2 Exx_{eff}}{\\frac{1}{\\eta_{pwl}} + \\frac{1}{\\eta_{e}}} - \\frac{2 Eyy_{eff}}{\\frac{1}{\\eta_{pwl}} + \\frac{1}{\\eta_{e}}}\\right)^{2}}\\right)^{npwl}\\right)^{\\frac{1 - npwl}{npwl}}}{\\eta_{pwl}}$"
      ],
      "text/plain": [
       "1 - (C*(2*sqrt(0.5*Exx_eff**2/(1/eta_pwl + 1/eta_e)**2 + Exy_eff**2*a_v**2*(eta_e + eta_pwl)**2/((1/eta_pwl + 1/eta_e)**2*(a_e**2*eta_pwl + a_v**2*eta_e)**2) + 0.5*Eyy_eff**2/(1/eta_pwl + 1/eta_e)**2 + 0.125*(-2*Exx_eff/(1/eta_pwl + 1/eta_e) - 2*Eyy_eff/(1/eta_pwl + 1/eta_e))**2))**npwl)**((1 - npwl)/npwl)/(B**(1/npwl)*eta_pwl)"
      ]
     },
     "metadata": {},
     "output_type": "display_data"
    }
   ],
   "source": [
    "display(f)"
   ]
  },
  {
   "cell_type": "code",
   "execution_count": 9,
   "metadata": {},
   "outputs": [],
   "source": [
    "dfde = f.diff(eta_pwl).subs(f,'f').subs(eta_pwl1,'eta_pwl').subs(Eii_pwl,'Eii_pwl').subs(T2_v,'T2_v').subs(Txx, 'Txx').subs(Tyy, 'Tyy').subs(Txy, 'Txy').subs(eta_ve,'eta_ve')\n",
    "dfde = dfde.subs(Txx/2/eta_pwl, 'Exx_pwl')"
   ]
  },
  {
   "cell_type": "code",
   "execution_count": 10,
   "metadata": {},
   "outputs": [
    {
     "name": "stdout",
     "output_type": "stream",
     "text": [
      "dfde = -(1 - npwl) .* (0.5 * Exx_eff .^ 2 .* eta_ve .^ 3 ./ eta_pwl .^ 2 - Exy_eff .^ 2 .* a_e .^ 2 .* a_v .^ 2 .* eta_ve .^ 2 .* (eta_e + eta_pwl) .^ 2 ./ (a_e .^ 2 .* eta_pwl + a_v .^ 2 .* eta_e) .^ 3 + Exy_eff .^ 2 .* a_v .^ 2 .* eta_ve .^ 2 .* (eta_e + eta_pwl) ./ (a_e .^ 2 .* eta_pwl + a_v .^ 2 .* eta_e) .^ 2 + Exy_eff .^ 2 .* a_v .^ 2 .* eta_ve .^ 3 .* (eta_e + eta_pwl) .^ 2 ./ (eta_pwl .^ 2 .* (a_e .^ 2 .* eta_pwl + a_v .^ 2 .* eta_e) .^ 2) + 0.5 * Eyy_eff .^ 2 .* eta_ve .^ 3 ./ eta_pwl .^ 2 + 0.0625 * (-Txx - Tyy) .* (-2 * Txx .* eta_ve ./ eta_pwl .^ 2 - 2 * Tyy .* eta_ve ./ eta_pwl .^ 2)) ./ (0.5 * Exx_eff .^ 2 .* eta_ve .^ 2 + Exy_eff .^ 2 .* a_v .^ 2 .* eta_ve .^ 2 .* (eta_e + eta_pwl) .^ 2 ./ (a_e .^ 2 .* eta_pwl + a_v .^ 2 .* eta_e) .^ 2 + 0.5 * Eyy_eff .^ 2 .* eta_ve .^ 2 + 0.125 * (-Txx - Tyy) .^ 2) + 1 ./ eta_pwl;\n"
     ]
    }
   ],
   "source": [
    "print( 'dfde = ' + sympy.julia_code(dfde) + ';' ) "
   ]
  },
  {
   "cell_type": "code",
   "execution_count": null,
   "metadata": {},
   "outputs": [
    {
     "ename": "",
     "evalue": "",
     "output_type": "error",
     "traceback": [
      "\u001b[1;31mRunning cells with '/opt/local/bin/python3.10' requires ipykernel package.\n",
      "\u001b[1;31mRun the following command to install 'ipykernel' into the Python environment. \n",
      "\u001b[1;31mCommand: '/opt/local/bin/python3.10 -m pip install ipykernel -U --user --force-reinstall'"
     ]
    }
   ],
   "source": [
    "# Make Newton ietrations for combined creep using normal and shear effective viscosities\n",
    "eta_e, a_v, a_e, eta_ve, eta_pwl = symbols('eta_e, a_v, a_e, eta_ve, eta_pwl')\n",
    "Exx_eff, Eyy_eff, Exy_eff, C, B, npwl = symbols('Exx_eff, Eyy_eff, Exy_eff, C, B, npwl')\n",
    "eta_ve_n, eta_ve_s, eta_cst = symbols('eta_ve_n, eta_ve_s, eta_cst')\n",
    "\n",
    "Txx       = 2*eta_ve_n * Exx_eff\n",
    "Tyy       = 2*eta_ve_n * Eyy_eff\n",
    "Txy       = 2*eta_ve_s * Exy_eff\n",
    "Tzz       = -Txx - Tyy \n",
    "\n",
    "Ezz_eff   = -Exx_eff -Eyy_eff\n",
    "\n",
    "Y2_v      = Rational(1,2)*(Txx**2 + Tyy**2 + Tzz**2) + Txy**2*a_v**2\n",
    "Eii_pwl   = C * sqrt(Y2_v) **(npwl)\n",
    "eta_pwl   = B**(-1/npwl) * Eii_pwl**((1-npwl)/npwl)\n",
    "Wxx       = 2*( Txx*Exx_eff + Tyy*Eyy_eff + Tzz*Ezz_eff)\n",
    "Wxy       = 2*  Txy*Exy_eff\n",
    "\n",
    "fxx       = 1 -  eta_ve_n/ eta_e         - eta_ve_n/ eta_pwl         - 0*eta_ve_n/ eta_cst         \n",
    "fxy       = 1 -  eta_ve_s/(eta_e/a_e**2) - eta_ve_s/(eta_pwl/a_v**2) - 0*eta_ve_s/(eta_cst/a_v**2) \n",
    "\n",
    "ieta_pwl = 1/ eta_pwl.subs(Eii_pwl, 'Eii_pwl').subs(Y2_v,'Y2_v')\n",
    "dfxxde_n = fxx.diff(eta_ve_n).subs(Eii_pwl, 'Eii_pwl').subs(Y2_v,'Y2_v').subs(ieta_pwl,'ieta_pwl').subs(Wxx, 'Wxx').subs(Wxy, 'Wxy')\n",
    "dfxxde_s = fxx.diff(eta_ve_s).subs(Eii_pwl, 'Eii_pwl').subs(Y2_v,'Y2_v').subs(ieta_pwl,'ieta_pwl').subs(Wxx, 'Wxx').subs(Wxy, 'Wxy')\n",
    "dfxyde_n = fxy.diff(eta_ve_n).subs(Eii_pwl, 'Eii_pwl').subs(Y2_v,'Y2_v').subs(ieta_pwl,'ieta_pwl').subs(Wxx, 'Wxx').subs(Wxy, 'Wxy')\n",
    "dfxyde_s = fxy.diff(eta_ve_s).subs(Eii_pwl, 'Eii_pwl').subs(Y2_v,'Y2_v').subs(ieta_pwl,'ieta_pwl').subs(Wxx, 'Wxx').subs(Wxy, 'Wxy')\n",
    "\n",
    "print( 'dfxxde_n = ' + julia_code(dfxxde_n) + ';' ) \n",
    "print( 'dfxxde_s = ' + julia_code(dfxxde_s) + ';' ) \n",
    "print( 'dfxyde_n = ' + julia_code(dfxyde_n) + ';' ) \n",
    "print( 'dfxyde_s = ' + julia_code(dfxyde_s) + ';' ) \n",
    "\n",
    "print( 'dfxxde_n = ' + ccode(dfxxde_n) + ';' ) \n",
    "print( 'dfxxde_s = ' + ccode(dfxxde_s) + ';' ) \n",
    "print( 'dfxyde_n = ' + ccode(dfxyde_n) + ';' ) \n",
    "print( 'dfxyde_s = ' + ccode(dfxyde_s) + ';' ) \n",
    "\n",
    "print(fxx.diff(eta_ve_n))"
   ]
  },
  {
   "cell_type": "code",
   "execution_count": 96,
   "metadata": {},
   "outputs": [
    {
     "data": {
      "text/latex": [
       "$\\displaystyle 0$"
      ],
      "text/plain": [
       "0"
      ]
     },
     "execution_count": 96,
     "metadata": {},
     "output_type": "execute_result"
    }
   ],
   "source": [
    "\n",
    "fff = 4*Exx_eff**2*eta_ve_n + 4*Eyy_eff**2*eta_ve_n + (-4*Exx_eff - 4*Eyy_eff)*(-2*Exx_eff*eta_ve_n - 2*Eyy_eff*eta_ve_n)/2 - Wxx\n",
    "fff.simplify()"
   ]
  },
  {
   "cell_type": "code",
   "execution_count": 64,
   "metadata": {},
   "outputs": [
    {
     "data": {
      "text/latex": [
       "$\\displaystyle B^{- \\frac{1}{npwl}} \\left(C \\left(2 Exx_{eff}^{2} \\eta_{ve n}^{2} + 4 Exy_{eff}^{2} a_{v}^{2} \\eta_{ve s}^{2} + 2 Eyy_{eff}^{2} \\eta_{ve n}^{2} + \\frac{\\left(- 2 Exx_{eff} \\eta_{ve n} - 2 Eyy_{eff} \\eta_{ve n}\\right)^{2}}{2}\\right)^{\\frac{npwl}{2}}\\right)^{\\frac{1 - npwl}{npwl}}$"
      ],
      "text/plain": [
       "(C*(2*Exx_eff**2*eta_ve_n**2 + 4*Exy_eff**2*a_v**2*eta_ve_s**2 + 2*Eyy_eff**2*eta_ve_n**2 + (-2*Exx_eff*eta_ve_n - 2*Eyy_eff*eta_ve_n)**2/2)**(npwl/2))**((1 - npwl)/npwl)/B**(1/npwl)"
      ]
     },
     "execution_count": 64,
     "metadata": {},
     "output_type": "execute_result"
    }
   ],
   "source": [
    "eta_pwl\n"
   ]
  },
  {
   "cell_type": "code",
   "execution_count": 67,
   "metadata": {},
   "outputs": [
    {
     "data": {
      "text/latex": [
       "$\\displaystyle 4 Exx_{eff}^{2} \\eta_{ve n}^{2} + 4 Eyy_{eff}^{2} \\eta_{ve n}^{2} + \\left(- 2 Exx_{eff} \\eta_{ve n} - 2 Eyy_{eff} \\eta_{ve n}\\right)^{2}$"
      ],
      "text/plain": [
       "4*Exx_eff**2*eta_ve_n**2 + 4*Eyy_eff**2*eta_ve_n**2 + (-2*Exx_eff*eta_ve_n - 2*Eyy_eff*eta_ve_n)**2"
      ]
     },
     "execution_count": 67,
     "metadata": {},
     "output_type": "execute_result"
    }
   ],
   "source": [
    "(Txx**2 + Tyy**2 + Tzz**2)"
   ]
  },
  {
   "cell_type": "code",
   "execution_count": 52,
   "metadata": {},
   "outputs": [],
   "source": [
    "twoY2 = 2*Y2_v"
   ]
  },
  {
   "cell_type": "code",
   "execution_count": null,
   "metadata": {},
   "outputs": [],
   "source": []
  }
 ],
 "metadata": {
  "kernelspec": {
   "display_name": "Python 3.10.2 64-bit",
   "language": "python",
   "name": "python3"
  },
  "language_info": {
   "codemirror_mode": {
    "name": "ipython",
    "version": 3
   },
   "file_extension": ".py",
   "mimetype": "text/x-python",
   "name": "python",
   "nbconvert_exporter": "python",
   "pygments_lexer": "ipython3",
   "version": "3.10.2 (main, Jan 15 2022, 10:50:53) [Clang 11.0.3 (clang-1103.0.32.62)]"
  },
  "orig_nbformat": 4,
  "vscode": {
   "interpreter": {
    "hash": "610c699f0cd8c4f129acd9140687fff6866bed0eb8e82f249fc8848b827b628c"
   }
  }
 },
 "nbformat": 4,
 "nbformat_minor": 2
}
