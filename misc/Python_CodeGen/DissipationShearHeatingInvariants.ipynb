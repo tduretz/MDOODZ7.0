{
 "cells": [
  {
   "cell_type": "code",
   "execution_count": 13,
   "metadata": {},
   "outputs": [],
   "source": [
    "from sympy import *\n",
    "exx,ezz,eyy,exz = symbols('exx,ezz,eyy,exz')\n",
    "txx,tzz,tyy,txz = symbols('txx,tzz,tyy,txz')\n",
    "eta_ve = symbols('eta_ve')"
   ]
  },
  {
   "cell_type": "code",
   "execution_count": 14,
   "metadata": {},
   "outputs": [
    {
     "data": {
      "text/latex": [
       "$\\displaystyle 2 \\eta_{ve} \\left(exx^{2} + 2 exz^{2} + eyy^{2} + ezz^{2}\\right)$"
      ],
      "text/plain": [
       "2*eta_ve*(exx**2 + 2*exz**2 + eyy**2 + ezz**2)"
      ]
     },
     "metadata": {},
     "output_type": "display_data"
    }
   ],
   "source": [
    "txx  = 2*eta_ve*exx\n",
    "tyy  = 2*eta_ve*eyy\n",
    "tzz  = 2*eta_ve*ezz\n",
    "txz  = 2*eta_ve*exz\n",
    "eii  = sqrt( 1/2*(exx**2 + eyy**2 + ezz**2 ) + exz**2 )\n",
    "Wtot =  exx*txx + eyy*tyy + ezz*tzz + 2*exz*txz\n",
    "# Eii  = sqrt( exx**2  + exz**2 )\n",
    "# Wtot =  2*exx*txx + 2*exz*txz\n",
    "display(Wtot.simplify())"
   ]
  },
  {
   "cell_type": "code",
   "execution_count": 15,
   "metadata": {},
   "outputs": [
    {
     "data": {
      "text/latex": [
       "$\\displaystyle 0$"
      ],
      "text/plain": [
       "0"
      ]
     },
     "metadata": {},
     "output_type": "display_data"
    },
    {
     "data": {
      "text/latex": [
       "$\\displaystyle 0$"
      ],
      "text/plain": [
       "0"
      ]
     },
     "metadata": {},
     "output_type": "display_data"
    },
    {
     "data": {
      "text/latex": [
       "$\\displaystyle 0$"
      ],
      "text/plain": [
       "0"
      ]
     },
     "metadata": {},
     "output_type": "display_data"
    }
   ],
   "source": [
    "f = 4*eta_ve*eii**2 - Wtot\n",
    "display(f.simplify())\n",
    "Tii = 2*eta_ve*eii\n",
    "f = 2*Tii*eii - Wtot\n",
    "display(f.simplify())\n",
    "f = Tii**2/eta_ve - Wtot\n",
    "display(f.simplify())\n"
   ]
  },
  {
   "cell_type": "code",
   "execution_count": 16,
   "metadata": {},
   "outputs": [
    {
     "data": {
      "text/latex": [
       "$\\displaystyle 2 \\eta_{ve} \\left(2 ani_{ve} exz^{2} + exx^{2} + eyy^{2} + ezz^{2}\\right)$"
      ],
      "text/plain": [
       "2*eta_ve*(2*ani_ve*exz**2 + exx**2 + eyy**2 + ezz**2)"
      ]
     },
     "metadata": {},
     "output_type": "display_data"
    }
   ],
   "source": [
    "# Anisotropic simplification\n",
    "ani_ve = symbols('ani_ve')\n",
    "a_ve   = ani_ve**2\n",
    "txx  = 2*eta_ve*exx\n",
    "tyy  = 2*eta_ve*eyy\n",
    "tzz  = 2*eta_ve*ezz\n",
    "txz  = 2*eta_ve*ani_ve*exz\n",
    "eii  = sqrt( 1/2*(exx**2 + eyy**2 + ezz**2 ) + exz**2 )\n",
    "Wtot =  exx*txx + eyy*tyy + ezz*tzz + 2*exz*txz\n",
    "display(Wtot.simplify())"
   ]
  },
  {
   "cell_type": "code",
   "execution_count": 17,
   "metadata": {},
   "outputs": [
    {
     "data": {
      "text/latex": [
       "$\\displaystyle 2 \\eta_{ve} \\left(exx - exx_{el}\\right) \\left(\\frac{Txx_{0}}{2 \\eta_{e}} + exx\\right) + 2 \\eta_{ve} \\left(exz - exz_{el}\\right) \\left(\\frac{Txz_{0}}{2 \\eta_{e}} + exz\\right) + 2 \\eta_{ve} \\left(eyy - eyy_{el}\\right) \\left(\\frac{Tyy_{0}}{2 \\eta_{e}} + eyy\\right) + 2 \\eta_{ve} \\left(ezz - ezz_{el}\\right) \\left(\\frac{Tzz_{0}}{2 \\eta_{e}} + ezz\\right)$"
      ],
      "text/plain": [
       "2*eta_ve*(exx - exx_el)*(Txx0/(2*eta_e) + exx) + 2*eta_ve*(exz - exz_el)*(Txz0/(2*eta_e) + exz) + 2*eta_ve*(eyy - eyy_el)*(Tyy0/(2*eta_e) + eyy) + 2*eta_ve*(ezz - ezz_el)*(Tzz0/(2*eta_e) + ezz)"
      ]
     },
     "metadata": {},
     "output_type": "display_data"
    }
   ],
   "source": [
    "# VISCO-ELASTIC\n",
    "exx_el, eyy_el, ezz_el, exz_el = symbols('exx_el, eyy_el, ezz_el, exz_el')\n",
    "eta_e = symbols('eta_e')\n",
    "Txx0, Tyy0, Tzz0, Txz0 = symbols('Txx0, Tyy0, Tzz0, Txz0')\n",
    "exx_diss = exx - exx_el\n",
    "eyy_diss = eyy - eyy_el\n",
    "ezz_diss = ezz - ezz_el\n",
    "exz_diss = exz - exz_el\n",
    "Exx = exx + Txx0/2/eta_e\n",
    "Txx = 2*eta_ve*Exx\n",
    "Eyy = eyy + Tyy0/2/eta_e\n",
    "Tyy = 2*eta_ve*Eyy\n",
    "Ezz = ezz + Tzz0/2/eta_e\n",
    "Tzz = 2*eta_ve*Ezz\n",
    "Exz = exz + Txz0/2/eta_e\n",
    "Txz = 2*eta_ve*Exz\n",
    "W_diss = Txx*exx_diss + Tyy*eyy_diss + Tzz*ezz_diss + Txz*exz_diss\n",
    "display(W_diss)"
   ]
  },
  {
   "cell_type": "code",
   "execution_count": null,
   "metadata": {},
   "outputs": [],
   "source": []
  }
 ],
 "metadata": {
  "kernelspec": {
   "display_name": "base",
   "language": "python",
   "name": "python3"
  },
  "language_info": {
   "codemirror_mode": {
    "name": "ipython",
    "version": 3
   },
   "file_extension": ".py",
   "mimetype": "text/x-python",
   "name": "python",
   "nbconvert_exporter": "python",
   "pygments_lexer": "ipython3",
   "version": "3.9.5"
  },
  "orig_nbformat": 4,
  "vscode": {
   "interpreter": {
    "hash": "309baa410e37084482bcba9b39a5b9e635e78b91cd7553c4b48a2d89780d0f88"
   }
  }
 },
 "nbformat": 4,
 "nbformat_minor": 2
}
