{
 "cells": [
  {
   "cell_type": "code",
   "execution_count": 1,
   "metadata": {},
   "outputs": [
    {
     "data": {
      "text/latex": [
       "$\\displaystyle 2 D_{11} \\eta + \\left(2 D_{11} Exx + 2 D_{12} Eyy + 2 D_{13} Exy\\right) \\frac{d}{d Exx} \\eta$"
      ],
      "text/plain": [
       "2*D11*eta + (2*D11*Exx + 2*D12*Eyy + 2*D13*Exy)*Derivative(eta, Exx)"
      ]
     },
     "metadata": {},
     "output_type": "display_data"
    },
    {
     "data": {
      "text/latex": [
       "$\\displaystyle 2 D_{12} \\eta + \\left(2 D_{11} Exx + 2 D_{12} Eyy + 2 D_{13} Exy\\right) \\frac{d}{d Eyy} \\eta$"
      ],
      "text/plain": [
       "2*D12*eta + (2*D11*Exx + 2*D12*Eyy + 2*D13*Exy)*Derivative(eta, Eyy)"
      ]
     },
     "metadata": {},
     "output_type": "display_data"
    },
    {
     "data": {
      "text/latex": [
       "$\\displaystyle 2 D_{21} \\eta + \\left(2 D_{21} Exx + 2 D_{22} Eyy + 2 D_{23} Exy\\right) \\frac{d}{d Exx} \\eta$"
      ],
      "text/plain": [
       "2*D21*eta + (2*D21*Exx + 2*D22*Eyy + 2*D23*Exy)*Derivative(eta, Exx)"
      ]
     },
     "metadata": {},
     "output_type": "display_data"
    },
    {
     "data": {
      "text/latex": [
       "$\\displaystyle 2 D_{22} \\eta + \\left(2 D_{21} Exx + 2 D_{22} Eyy + 2 D_{23} Exy\\right) \\frac{d}{d Eyy} \\eta$"
      ],
      "text/plain": [
       "2*D22*eta + (2*D21*Exx + 2*D22*Eyy + 2*D23*Exy)*Derivative(eta, Eyy)"
      ]
     },
     "metadata": {},
     "output_type": "display_data"
    }
   ],
   "source": [
    "from sympy import *\n",
    "Exx, Eyy, Exy = symbols('Exx, Eyy, Exy')\n",
    "D11,D12,D13,D21,D22,D23,D31,D32,D33 = symbols('D11,D12,D13,D21,D22,D23,D31,D32,D33')\n",
    "eta = Function('eta')(Exx, Eyy, Exy)\n",
    "\n",
    "Gxx = D11*Exx +  D12*Eyy + D13*Exy\n",
    "Gyy = D21*Exx +  D22*Eyy + D23*Exy\n",
    "Gxy = D31*Exx +  D32*Eyy + D33*Exy\n",
    "\n",
    "Txx = 2*eta*Gxx\n",
    "dTxxdExx = Txx.diff(Exx).subs(Gxx,'Gxx').subs(eta,'eta')\n",
    "display(dTxxdExx)\n",
    "\n",
    "dTxxdEyy = Txx.diff(Eyy).subs(Gxx,'Gxx').subs(eta,'eta')\n",
    "display(dTxxdEyy)\n",
    "\n",
    "Tyy = 2*eta*Gyy\n",
    "dTyydExx = Tyy.diff(Exx).subs(Gyy,'Gyy').subs(eta,'eta')\n",
    "display(dTyydExx)\n",
    "\n",
    "dTyydEyy = Tyy.diff(Eyy).subs(Gyy,'Gyy').subs(eta,'eta')\n",
    "display(dTyydEyy)\n",
    "\n",
    "\n",
    "\n",
    "\n"
   ]
  },
  {
   "cell_type": "code",
   "execution_count": 2,
   "metadata": {},
   "outputs": [
    {
     "name": "stdout",
     "output_type": "stream",
     "text": [
      "detadExx =  eta_ve.*(-0.5 + 0.5./n_pwl).*(2.0*Exx + 1.0*Eyy)./Eii.^2;\n",
      "detadExy =  2*Exy.*eta_ve.*(-0.5 + 0.5./n_pwl)./Eii.^2;\n",
      "detadEii =  eta_ve.*(-1.0 + 1.0./n_pwl)./Eii1;\n",
      "dEiidExy =  Exy./Eii;\n",
      "detadTxx =  f_ani.^(n_pwl - 1).*(1/2 - n_pwl/2).*(2.0*Txx + 1.0*Tyy).*(0.5*Txx.^2 + Txy.^2 + 0.5*Tyy.^2 + 0.5*(-Txx - Tyy).^2).^(-n_pwl/2)./(2*C_pwl.*Tii);\n",
      "detadTyy =  f_ani.^(n_pwl - 1).*(1/2 - n_pwl/2).*(1.0*Txx + 2.0*Tyy).*(0.5*Txx.^2 + Txy.^2 + 0.5*Tyy.^2 + 0.5*(-Txx - Tyy).^2).^(-n_pwl/2)./(2*C_pwl.*Tii);\n",
      "detadTxy =  Txy.*f_ani.^(n_pwl - 1).*(1/2 - n_pwl/2).*(0.5*Txx.^2 + Txy.^2 + 0.5*Tyy.^2 + 0.5*(-Txx - Tyy).^2).^(-n_pwl/2)./(C_pwl.*Tii);\n",
      "detadTii =  Tii.^(1 - n_pwl).*f_ani.^(n_pwl - 1).*(1 - n_pwl)./(2*C_pwl.*Tii);\n",
      "sqrt(0.5*Txx**2 + Txy**2 + 0.5*Tyy**2 + 0.5*(-Txx - Tyy)**2)\n",
      "(Txx + 0.5*Tyy)/Tii\n",
      "(0.5*Txx + Tyy)/Tii\n",
      "Txy/Tii\n"
     ]
    }
   ],
   "source": [
    "# simple case of viscous power law\n",
    "Exx,Eyy,Ezz,Exz,B_pwl,n_pwl,Eii1 = symbols('Exx,Eyy,Ezz,Exz,B_pwl,n_pwl,Eii1')\n",
    "Txx,Tyy,Tzz,Txy,f_ani,C_pwl = symbols('Txx,Tyy,Tzz,Txy,f_ani,C_pwl')\n",
    "Ezz  = -Exx-Eyy\n",
    "Tzz  = -Txx-Tyy\n",
    "Eii = sqrt( 1/2*(Exx**2+Eyy**2+Ezz**2)+Exy**2)\n",
    "Tii = sqrt( 1/2*(Txx**2+Tyy**2+Tzz**2)+Txy**2)\n",
    "\n",
    "eta = B_pwl * Eii**(1.0/n_pwl - 1.0)\n",
    "detadExx = eta.diff(Exx).subs(eta,'eta_ve').subs(Eii, 'Eii')\n",
    "detadExy = eta.diff(Exy).subs(eta,'eta_ve').subs(Eii, 'Eii')\n",
    "print('detadExx = ', octave_code(detadExx) + ';')\n",
    "print('detadExy = ', octave_code(detadExy) + ';')\n",
    "\n",
    "eta = B_pwl * Eii1**(1.0/n_pwl - 1.0)\n",
    "detadEii = eta.diff(Eii1).subs(eta,'eta_ve').subs(Eii, 'Eii')\n",
    "print('detadEii = ', octave_code(detadEii) + ';')\n",
    "print('dEiidExy = ', octave_code(Eii.diff(Exy).subs(Eii, 'Eii')) + ';')\n",
    "\n",
    "\n",
    "\n",
    "eta  = f_ani**(n_pwl-1)* (2*C_pwl)**(-1)*Tii**(1-n_pwl)\n",
    "print('detadTxx = ', octave_code(eta.diff(Txx).subs(Tii, 'Tii')) + ';')\n",
    "print('detadTyy = ', octave_code(eta.diff(Tyy).subs(Tii, 'Tii')) + ';')\n",
    "print('detadTxy = ', octave_code(eta.diff(Txy).subs(Tii, 'Tii')) + ';')\n",
    "\n",
    "\n",
    "eta  = f_ani**(n_pwl-1)* (2*C_pwl)**(-1)*symbols('Tii')**(1-n_pwl)\n",
    "print('detadTii = ', octave_code(eta.diff(symbols('Tii')).subs(Tii, 'Tii')) + ';')\n",
    "\n",
    "print(Tii)\n",
    "print(Tii.diff(Txx).subs(Tii, 'Tii'))\n",
    "print(Tii.diff(Tyy).subs(Tii, 'Tii'))\n",
    "print(Tii.diff(Txy).subs(Tii, 'Tii'))"
   ]
  },
  {
   "cell_type": "code",
   "execution_count": 3,
   "metadata": {},
   "outputs": [
    {
     "data": {
      "text/latex": [
       "$\\displaystyle \\left[\\begin{matrix}e_{1}\\\\e_{2}\\\\e_{3}\\end{matrix}\\right]$"
      ],
      "text/plain": [
       "Matrix([\n",
       "[e1],\n",
       "[e2],\n",
       "[e3]])"
      ]
     },
     "metadata": {},
     "output_type": "display_data"
    },
    {
     "data": {
      "text/latex": [
       "$\\displaystyle \\left[\\begin{matrix}2 e_{1} \\frac{\\partial}{\\partial e_{1}} \\eta{\\left(e_{1},e_{2},e_{3} \\right)} + 2 \\eta{\\left(e_{1},e_{2},e_{3} \\right)} & 2 e_{1} \\frac{\\partial}{\\partial e_{2}} \\eta{\\left(e_{1},e_{2},e_{3} \\right)} & 2 e_{1} \\frac{\\partial}{\\partial e_{3}} \\eta{\\left(e_{1},e_{2},e_{3} \\right)}\\\\2 e_{2} \\frac{\\partial}{\\partial e_{1}} \\eta{\\left(e_{1},e_{2},e_{3} \\right)} & 2 e_{2} \\frac{\\partial}{\\partial e_{2}} \\eta{\\left(e_{1},e_{2},e_{3} \\right)} + 2 \\eta{\\left(e_{1},e_{2},e_{3} \\right)} & 2 e_{2} \\frac{\\partial}{\\partial e_{3}} \\eta{\\left(e_{1},e_{2},e_{3} \\right)}\\\\e_{3} two \\frac{\\partial}{\\partial e_{1}} \\eta{\\left(e_{1},e_{2},e_{3} \\right)} & e_{3} two \\frac{\\partial}{\\partial e_{2}} \\eta{\\left(e_{1},e_{2},e_{3} \\right)} & e_{3} two \\frac{\\partial}{\\partial e_{3}} \\eta{\\left(e_{1},e_{2},e_{3} \\right)} + two \\eta{\\left(e_{1},e_{2},e_{3} \\right)}\\end{matrix}\\right]$"
      ],
      "text/plain": [
       "Matrix([\n",
       "[2*e1*Derivative(eta(e1, e2, e3), e1) + 2*eta(e1, e2, e3),                     2*e1*Derivative(eta(e1, e2, e3), e2),                         2*e1*Derivative(eta(e1, e2, e3), e3)],\n",
       "[                    2*e2*Derivative(eta(e1, e2, e3), e1), 2*e2*Derivative(eta(e1, e2, e3), e2) + 2*eta(e1, e2, e3),                         2*e2*Derivative(eta(e1, e2, e3), e3)],\n",
       "[                  e3*two*Derivative(eta(e1, e2, e3), e1),                   e3*two*Derivative(eta(e1, e2, e3), e2), e3*two*Derivative(eta(e1, e2, e3), e3) + two*eta(e1, e2, e3)]])"
      ]
     },
     "metadata": {},
     "output_type": "display_data"
    },
    {
     "data": {
      "text/latex": [
       "$\\displaystyle \\left[\\begin{matrix}- dt_{1} \\left(2 e_{1} \\frac{\\partial}{\\partial e_{1}} \\eta{\\left(e_{1},e_{2},e_{3} \\right)} + 2 \\eta{\\left(e_{1},e_{2},e_{3} \\right)}\\right) - 2 dt_{2} e_{2} \\frac{\\partial}{\\partial e_{1}} \\eta{\\left(e_{1},e_{2},e_{3} \\right)} - dt_{3} e_{3} two \\frac{\\partial}{\\partial e_{1}} \\eta{\\left(e_{1},e_{2},e_{3} \\right)} + \\frac{\\partial}{\\partial e_{1}} \\eta{\\left(e_{1},e_{2},e_{3} \\right)}\\\\- 2 dt_{1} e_{1} \\frac{\\partial}{\\partial e_{2}} \\eta{\\left(e_{1},e_{2},e_{3} \\right)} - dt_{2} \\left(2 e_{2} \\frac{\\partial}{\\partial e_{2}} \\eta{\\left(e_{1},e_{2},e_{3} \\right)} + 2 \\eta{\\left(e_{1},e_{2},e_{3} \\right)}\\right) - dt_{3} e_{3} two \\frac{\\partial}{\\partial e_{2}} \\eta{\\left(e_{1},e_{2},e_{3} \\right)} + \\frac{\\partial}{\\partial e_{2}} \\eta{\\left(e_{1},e_{2},e_{3} \\right)}\\\\- 2 dt_{1} e_{1} \\frac{\\partial}{\\partial e_{3}} \\eta{\\left(e_{1},e_{2},e_{3} \\right)} - 2 dt_{2} e_{2} \\frac{\\partial}{\\partial e_{3}} \\eta{\\left(e_{1},e_{2},e_{3} \\right)} - dt_{3} \\left(e_{3} two \\frac{\\partial}{\\partial e_{3}} \\eta{\\left(e_{1},e_{2},e_{3} \\right)} + two \\eta{\\left(e_{1},e_{2},e_{3} \\right)}\\right) + \\frac{\\partial}{\\partial e_{3}} \\eta{\\left(e_{1},e_{2},e_{3} \\right)}\\end{matrix}\\right]$"
      ],
      "text/plain": [
       "Matrix([\n",
       "[  -dt1*(2*e1*Derivative(eta(e1, e2, e3), e1) + 2*eta(e1, e2, e3)) - 2*dt2*e2*Derivative(eta(e1, e2, e3), e1) - dt3*e3*two*Derivative(eta(e1, e2, e3), e1) + Derivative(eta(e1, e2, e3), e1)],\n",
       "[  -2*dt1*e1*Derivative(eta(e1, e2, e3), e2) - dt2*(2*e2*Derivative(eta(e1, e2, e3), e2) + 2*eta(e1, e2, e3)) - dt3*e3*two*Derivative(eta(e1, e2, e3), e2) + Derivative(eta(e1, e2, e3), e2)],\n",
       "[-2*dt1*e1*Derivative(eta(e1, e2, e3), e3) - 2*dt2*e2*Derivative(eta(e1, e2, e3), e3) - dt3*(e3*two*Derivative(eta(e1, e2, e3), e3) + two*eta(e1, e2, e3)) + Derivative(eta(e1, e2, e3), e3)]])"
      ]
     },
     "metadata": {},
     "output_type": "display_data"
    },
    {
     "name": "stdout",
     "output_type": "stream",
     "text": [
      "-2*detadTxx.*eta_ve./(2*detadTxx.*e1 + detadTxy.*e3.*two + 2*detadTyy.*e2 - 1)\n",
      "-2*detadTyy.*eta_ve./(2*detadTxx.*e1 + detadTxy.*e3.*two + 2*detadTyy.*e2 - 1)\n",
      "-detadTxy.*eta_ve.*two./(2*detadTxx.*e1 + detadTxy.*e3.*two + 2*detadTyy.*e2 - 1)\n"
     ]
    }
   ],
   "source": [
    "# isotropic case\n",
    "two         = symbols('two')\n",
    "e1,e2,e3    = symbols('e1,e2,e3')  \n",
    "dt1,dt2,dt3 = symbols('dt1, dt2, dt3')\n",
    "de1,de2,de3 = symbols('de1, de2, de3')\n",
    "eta         = Function('eta')(e1,e2,e3)\n",
    "\n",
    "e_vec       = Matrix([[e1],[e2],[e3]])\n",
    "detadtau    = Matrix([[dt1],[dt2], [dt3]])\n",
    "Diso        = Matrix([[2, 0, 0],[0, 2, 0], [0, 0, two]])\n",
    "\n",
    "tau         = eta*Diso*e_vec\n",
    "dtaude      = tau.jacobian(e_vec)\n",
    "detade      = eta.diff(e_vec)\n",
    "\n",
    "display(e_vec)\n",
    "# display(detade)\n",
    "# display(D_mat)\n",
    "display(dtaude)\n",
    "# display(detadtau)\n",
    "\n",
    "# Solve for detadE - using chain rule\n",
    "f = detade - dtaude.transpose() * detadtau\n",
    "display(f)\n",
    "fsubs = f.subs(detade[0],de1).subs(detade[1],de2).subs(detade[2],de3)\n",
    "dede = Matrix([[de1],[de2], [de3]])\n",
    "sol  = solve(fsubs, dede )\n",
    "for i in sol:\n",
    "    print(octave_code(sol[i].simplify().subs(dt1,'detadTxx').subs(dt2,'detadTyy').subs(dt3,'detadTxy').subs(eta,'eta_ve')   ) )"
   ]
  },
  {
   "cell_type": "code",
   "execution_count": 4,
   "metadata": {},
   "outputs": [
    {
     "data": {
      "text/latex": [
       "$\\displaystyle \\left[\\begin{matrix}d_{11} e_{1} \\frac{\\partial}{\\partial e_{1}} \\eta{\\left(e_{1},e_{2},e_{3} \\right)} + d_{11} \\eta{\\left(e_{1},e_{2},e_{3} \\right)} + d_{12} e_{2} \\frac{\\partial}{\\partial e_{1}} \\eta{\\left(e_{1},e_{2},e_{3} \\right)} + d_{13} e_{3} \\frac{\\partial}{\\partial e_{1}} \\eta{\\left(e_{1},e_{2},e_{3} \\right)} & d_{11} e_{1} \\frac{\\partial}{\\partial e_{2}} \\eta{\\left(e_{1},e_{2},e_{3} \\right)} + d_{12} e_{2} \\frac{\\partial}{\\partial e_{2}} \\eta{\\left(e_{1},e_{2},e_{3} \\right)} + d_{12} \\eta{\\left(e_{1},e_{2},e_{3} \\right)} + d_{13} e_{3} \\frac{\\partial}{\\partial e_{2}} \\eta{\\left(e_{1},e_{2},e_{3} \\right)} & d_{11} e_{1} \\frac{\\partial}{\\partial e_{3}} \\eta{\\left(e_{1},e_{2},e_{3} \\right)} + d_{12} e_{2} \\frac{\\partial}{\\partial e_{3}} \\eta{\\left(e_{1},e_{2},e_{3} \\right)} + d_{13} e_{3} \\frac{\\partial}{\\partial e_{3}} \\eta{\\left(e_{1},e_{2},e_{3} \\right)} + d_{13} \\eta{\\left(e_{1},e_{2},e_{3} \\right)}\\\\d_{21} e_{1} \\frac{\\partial}{\\partial e_{1}} \\eta{\\left(e_{1},e_{2},e_{3} \\right)} + d_{21} \\eta{\\left(e_{1},e_{2},e_{3} \\right)} + d_{22} e_{2} \\frac{\\partial}{\\partial e_{1}} \\eta{\\left(e_{1},e_{2},e_{3} \\right)} + d_{23} e_{3} \\frac{\\partial}{\\partial e_{1}} \\eta{\\left(e_{1},e_{2},e_{3} \\right)} & d_{21} e_{1} \\frac{\\partial}{\\partial e_{2}} \\eta{\\left(e_{1},e_{2},e_{3} \\right)} + d_{22} e_{2} \\frac{\\partial}{\\partial e_{2}} \\eta{\\left(e_{1},e_{2},e_{3} \\right)} + d_{22} \\eta{\\left(e_{1},e_{2},e_{3} \\right)} + d_{23} e_{3} \\frac{\\partial}{\\partial e_{2}} \\eta{\\left(e_{1},e_{2},e_{3} \\right)} & d_{21} e_{1} \\frac{\\partial}{\\partial e_{3}} \\eta{\\left(e_{1},e_{2},e_{3} \\right)} + d_{22} e_{2} \\frac{\\partial}{\\partial e_{3}} \\eta{\\left(e_{1},e_{2},e_{3} \\right)} + d_{23} e_{3} \\frac{\\partial}{\\partial e_{3}} \\eta{\\left(e_{1},e_{2},e_{3} \\right)} + d_{23} \\eta{\\left(e_{1},e_{2},e_{3} \\right)}\\\\d_{31} e_{1} \\frac{\\partial}{\\partial e_{1}} \\eta{\\left(e_{1},e_{2},e_{3} \\right)} + d_{31} \\eta{\\left(e_{1},e_{2},e_{3} \\right)} + d_{32} e_{2} \\frac{\\partial}{\\partial e_{1}} \\eta{\\left(e_{1},e_{2},e_{3} \\right)} + d_{33} e_{3} \\frac{\\partial}{\\partial e_{1}} \\eta{\\left(e_{1},e_{2},e_{3} \\right)} & d_{31} e_{1} \\frac{\\partial}{\\partial e_{2}} \\eta{\\left(e_{1},e_{2},e_{3} \\right)} + d_{32} e_{2} \\frac{\\partial}{\\partial e_{2}} \\eta{\\left(e_{1},e_{2},e_{3} \\right)} + d_{32} \\eta{\\left(e_{1},e_{2},e_{3} \\right)} + d_{33} e_{3} \\frac{\\partial}{\\partial e_{2}} \\eta{\\left(e_{1},e_{2},e_{3} \\right)} & d_{31} e_{1} \\frac{\\partial}{\\partial e_{3}} \\eta{\\left(e_{1},e_{2},e_{3} \\right)} + d_{32} e_{2} \\frac{\\partial}{\\partial e_{3}} \\eta{\\left(e_{1},e_{2},e_{3} \\right)} + d_{33} e_{3} \\frac{\\partial}{\\partial e_{3}} \\eta{\\left(e_{1},e_{2},e_{3} \\right)} + d_{33} \\eta{\\left(e_{1},e_{2},e_{3} \\right)}\\end{matrix}\\right]$"
      ],
      "text/plain": [
       "Matrix([\n",
       "[d11*e1*Derivative(eta(e1, e2, e3), e1) + d11*eta(e1, e2, e3) + d12*e2*Derivative(eta(e1, e2, e3), e1) + d13*e3*Derivative(eta(e1, e2, e3), e1), d11*e1*Derivative(eta(e1, e2, e3), e2) + d12*e2*Derivative(eta(e1, e2, e3), e2) + d12*eta(e1, e2, e3) + d13*e3*Derivative(eta(e1, e2, e3), e2), d11*e1*Derivative(eta(e1, e2, e3), e3) + d12*e2*Derivative(eta(e1, e2, e3), e3) + d13*e3*Derivative(eta(e1, e2, e3), e3) + d13*eta(e1, e2, e3)],\n",
       "[d21*e1*Derivative(eta(e1, e2, e3), e1) + d21*eta(e1, e2, e3) + d22*e2*Derivative(eta(e1, e2, e3), e1) + d23*e3*Derivative(eta(e1, e2, e3), e1), d21*e1*Derivative(eta(e1, e2, e3), e2) + d22*e2*Derivative(eta(e1, e2, e3), e2) + d22*eta(e1, e2, e3) + d23*e3*Derivative(eta(e1, e2, e3), e2), d21*e1*Derivative(eta(e1, e2, e3), e3) + d22*e2*Derivative(eta(e1, e2, e3), e3) + d23*e3*Derivative(eta(e1, e2, e3), e3) + d23*eta(e1, e2, e3)],\n",
       "[d31*e1*Derivative(eta(e1, e2, e3), e1) + d31*eta(e1, e2, e3) + d32*e2*Derivative(eta(e1, e2, e3), e1) + d33*e3*Derivative(eta(e1, e2, e3), e1), d31*e1*Derivative(eta(e1, e2, e3), e2) + d32*e2*Derivative(eta(e1, e2, e3), e2) + d32*eta(e1, e2, e3) + d33*e3*Derivative(eta(e1, e2, e3), e2), d31*e1*Derivative(eta(e1, e2, e3), e3) + d32*e2*Derivative(eta(e1, e2, e3), e3) + d33*e3*Derivative(eta(e1, e2, e3), e3) + d33*eta(e1, e2, e3)]])"
      ]
     },
     "metadata": {},
     "output_type": "display_data"
    },
    {
     "data": {
      "text/latex": [
       "$\\displaystyle \\left[\\begin{matrix}- dt_{1} \\left(d_{11} e_{1} \\frac{\\partial}{\\partial e_{1}} \\eta{\\left(e_{1},e_{2},e_{3} \\right)} + d_{11} \\eta{\\left(e_{1},e_{2},e_{3} \\right)} + d_{12} e_{2} \\frac{\\partial}{\\partial e_{1}} \\eta{\\left(e_{1},e_{2},e_{3} \\right)} + d_{13} e_{3} \\frac{\\partial}{\\partial e_{1}} \\eta{\\left(e_{1},e_{2},e_{3} \\right)}\\right) - dt_{2} \\left(d_{21} e_{1} \\frac{\\partial}{\\partial e_{1}} \\eta{\\left(e_{1},e_{2},e_{3} \\right)} + d_{21} \\eta{\\left(e_{1},e_{2},e_{3} \\right)} + d_{22} e_{2} \\frac{\\partial}{\\partial e_{1}} \\eta{\\left(e_{1},e_{2},e_{3} \\right)} + d_{23} e_{3} \\frac{\\partial}{\\partial e_{1}} \\eta{\\left(e_{1},e_{2},e_{3} \\right)}\\right) - dt_{3} \\left(d_{31} e_{1} \\frac{\\partial}{\\partial e_{1}} \\eta{\\left(e_{1},e_{2},e_{3} \\right)} + d_{31} \\eta{\\left(e_{1},e_{2},e_{3} \\right)} + d_{32} e_{2} \\frac{\\partial}{\\partial e_{1}} \\eta{\\left(e_{1},e_{2},e_{3} \\right)} + d_{33} e_{3} \\frac{\\partial}{\\partial e_{1}} \\eta{\\left(e_{1},e_{2},e_{3} \\right)}\\right) + \\frac{\\partial}{\\partial e_{1}} \\eta{\\left(e_{1},e_{2},e_{3} \\right)}\\\\- dt_{1} \\left(d_{11} e_{1} \\frac{\\partial}{\\partial e_{2}} \\eta{\\left(e_{1},e_{2},e_{3} \\right)} + d_{12} e_{2} \\frac{\\partial}{\\partial e_{2}} \\eta{\\left(e_{1},e_{2},e_{3} \\right)} + d_{12} \\eta{\\left(e_{1},e_{2},e_{3} \\right)} + d_{13} e_{3} \\frac{\\partial}{\\partial e_{2}} \\eta{\\left(e_{1},e_{2},e_{3} \\right)}\\right) - dt_{2} \\left(d_{21} e_{1} \\frac{\\partial}{\\partial e_{2}} \\eta{\\left(e_{1},e_{2},e_{3} \\right)} + d_{22} e_{2} \\frac{\\partial}{\\partial e_{2}} \\eta{\\left(e_{1},e_{2},e_{3} \\right)} + d_{22} \\eta{\\left(e_{1},e_{2},e_{3} \\right)} + d_{23} e_{3} \\frac{\\partial}{\\partial e_{2}} \\eta{\\left(e_{1},e_{2},e_{3} \\right)}\\right) - dt_{3} \\left(d_{31} e_{1} \\frac{\\partial}{\\partial e_{2}} \\eta{\\left(e_{1},e_{2},e_{3} \\right)} + d_{32} e_{2} \\frac{\\partial}{\\partial e_{2}} \\eta{\\left(e_{1},e_{2},e_{3} \\right)} + d_{32} \\eta{\\left(e_{1},e_{2},e_{3} \\right)} + d_{33} e_{3} \\frac{\\partial}{\\partial e_{2}} \\eta{\\left(e_{1},e_{2},e_{3} \\right)}\\right) + \\frac{\\partial}{\\partial e_{2}} \\eta{\\left(e_{1},e_{2},e_{3} \\right)}\\\\- dt_{1} \\left(d_{11} e_{1} \\frac{\\partial}{\\partial e_{3}} \\eta{\\left(e_{1},e_{2},e_{3} \\right)} + d_{12} e_{2} \\frac{\\partial}{\\partial e_{3}} \\eta{\\left(e_{1},e_{2},e_{3} \\right)} + d_{13} e_{3} \\frac{\\partial}{\\partial e_{3}} \\eta{\\left(e_{1},e_{2},e_{3} \\right)} + d_{13} \\eta{\\left(e_{1},e_{2},e_{3} \\right)}\\right) - dt_{2} \\left(d_{21} e_{1} \\frac{\\partial}{\\partial e_{3}} \\eta{\\left(e_{1},e_{2},e_{3} \\right)} + d_{22} e_{2} \\frac{\\partial}{\\partial e_{3}} \\eta{\\left(e_{1},e_{2},e_{3} \\right)} + d_{23} e_{3} \\frac{\\partial}{\\partial e_{3}} \\eta{\\left(e_{1},e_{2},e_{3} \\right)} + d_{23} \\eta{\\left(e_{1},e_{2},e_{3} \\right)}\\right) - dt_{3} \\left(d_{31} e_{1} \\frac{\\partial}{\\partial e_{3}} \\eta{\\left(e_{1},e_{2},e_{3} \\right)} + d_{32} e_{2} \\frac{\\partial}{\\partial e_{3}} \\eta{\\left(e_{1},e_{2},e_{3} \\right)} + d_{33} e_{3} \\frac{\\partial}{\\partial e_{3}} \\eta{\\left(e_{1},e_{2},e_{3} \\right)} + d_{33} \\eta{\\left(e_{1},e_{2},e_{3} \\right)}\\right) + \\frac{\\partial}{\\partial e_{3}} \\eta{\\left(e_{1},e_{2},e_{3} \\right)}\\end{matrix}\\right]$"
      ],
      "text/plain": [
       "Matrix([\n",
       "[-dt1*(d11*e1*Derivative(eta(e1, e2, e3), e1) + d11*eta(e1, e2, e3) + d12*e2*Derivative(eta(e1, e2, e3), e1) + d13*e3*Derivative(eta(e1, e2, e3), e1)) - dt2*(d21*e1*Derivative(eta(e1, e2, e3), e1) + d21*eta(e1, e2, e3) + d22*e2*Derivative(eta(e1, e2, e3), e1) + d23*e3*Derivative(eta(e1, e2, e3), e1)) - dt3*(d31*e1*Derivative(eta(e1, e2, e3), e1) + d31*eta(e1, e2, e3) + d32*e2*Derivative(eta(e1, e2, e3), e1) + d33*e3*Derivative(eta(e1, e2, e3), e1)) + Derivative(eta(e1, e2, e3), e1)],\n",
       "[-dt1*(d11*e1*Derivative(eta(e1, e2, e3), e2) + d12*e2*Derivative(eta(e1, e2, e3), e2) + d12*eta(e1, e2, e3) + d13*e3*Derivative(eta(e1, e2, e3), e2)) - dt2*(d21*e1*Derivative(eta(e1, e2, e3), e2) + d22*e2*Derivative(eta(e1, e2, e3), e2) + d22*eta(e1, e2, e3) + d23*e3*Derivative(eta(e1, e2, e3), e2)) - dt3*(d31*e1*Derivative(eta(e1, e2, e3), e2) + d32*e2*Derivative(eta(e1, e2, e3), e2) + d32*eta(e1, e2, e3) + d33*e3*Derivative(eta(e1, e2, e3), e2)) + Derivative(eta(e1, e2, e3), e2)],\n",
       "[-dt1*(d11*e1*Derivative(eta(e1, e2, e3), e3) + d12*e2*Derivative(eta(e1, e2, e3), e3) + d13*e3*Derivative(eta(e1, e2, e3), e3) + d13*eta(e1, e2, e3)) - dt2*(d21*e1*Derivative(eta(e1, e2, e3), e3) + d22*e2*Derivative(eta(e1, e2, e3), e3) + d23*e3*Derivative(eta(e1, e2, e3), e3) + d23*eta(e1, e2, e3)) - dt3*(d31*e1*Derivative(eta(e1, e2, e3), e3) + d32*e2*Derivative(eta(e1, e2, e3), e3) + d33*e3*Derivative(eta(e1, e2, e3), e3) + d33*eta(e1, e2, e3)) + Derivative(eta(e1, e2, e3), e3)]])"
      ]
     },
     "metadata": {},
     "output_type": "display_data"
    },
    {
     "name": "stdout",
     "output_type": "stream",
     "text": [
      "-eta_ve.*(d11.*detadTxx + d21.*detadTyy + d31.*detadTxy)./(Exx.*d11.*detadTxx + Exx.*d21.*detadTyy + Exx.*d31.*detadTxy + Exy.*d13.*detadTxx + Exy.*d23.*detadTyy + Exy.*d33.*detadTxy + Eyy.*d12.*detadTxx + Eyy.*d22.*detadTyy + Eyy.*d32.*detadTxy - 1)\n",
      "-eta_ve.*(d12.*detadTxx + d22.*detadTyy + d32.*detadTxy)./(Exx.*d11.*detadTxx + Exx.*d21.*detadTyy + Exx.*d31.*detadTxy + Exy.*d13.*detadTxx + Exy.*d23.*detadTyy + Exy.*d33.*detadTxy + Eyy.*d12.*detadTxx + Eyy.*d22.*detadTyy + Eyy.*d32.*detadTxy - 1)\n",
      "-eta_ve.*(d13.*detadTxx + d23.*detadTyy + d33.*detadTxy)./(Exx.*d11.*detadTxx + Exx.*d21.*detadTyy + Exx.*d31.*detadTxy + Exy.*d13.*detadTxx + Exy.*d23.*detadTyy + Exy.*d33.*detadTxy + Eyy.*d12.*detadTxx + Eyy.*d22.*detadTyy + Eyy.*d32.*detadTxy - 1)\n"
     ]
    }
   ],
   "source": [
    "# Anisotropic case\n",
    "two = symbols('two')\n",
    "d11, d12, d13, d21, d22, d23, d31, d32, d33 = symbols('d11, d12, d13, d21, d22, d23, d31, d32, d33')\n",
    "e1,e2,e3    = symbols('e1,e2,e3')  \n",
    "dt1,dt2,dt3 = symbols('dt1, dt2, dt3')\n",
    "de1,de2,de3 = symbols('de1, de2, de3')\n",
    "eta         = Function('eta')(e1,e2,e3)\n",
    "\n",
    "e_vec    = Matrix([[e1],[e2],[e3]])\n",
    "detadtau = Matrix([[dt1],[dt2], [dt3]])\n",
    "Dani     = Matrix([[d11, d12, d13],[d21, d22, d23], [d31, d32, d33]])\n",
    "\n",
    "tau      = eta*Dani*e_vec\n",
    "dtaude   = tau.jacobian(e_vec)\n",
    "detade   = eta.diff(e_vec)\n",
    "# display(e_vec)\n",
    "# display(detade)\n",
    "# display(D_mat)\n",
    "display(dtaude)\n",
    "# display(detadtau)\n",
    "\n",
    "# Solve for detadE - using chain rule\n",
    "f = detade - dtaude.transpose() * detadtau\n",
    "display(f)\n",
    "fsubs = f.subs(detade[0],de1).subs(detade[1],de2).subs(detade[2],de3)\n",
    "dede = Matrix([[de1],[de2], [de3]])\n",
    "sol  = solve(fsubs, dede )\n",
    "for i in sol:\n",
    "    print(octave_code(sol[i].simplify().subs(dt1,'detadTxx').subs(dt2,'detadTyy').subs(dt3,'detadTxy').subs(eta,'eta_ve').subs(e1,'Exx').subs(e2,'Eyy').subs(e3,'Exy')   ) )"
   ]
  },
  {
   "cell_type": "code",
   "execution_count": null,
   "metadata": {},
   "outputs": [],
   "source": []
  }
 ],
 "metadata": {
  "interpreter": {
   "hash": "c8364b0fb7479dc94b0c24ab2a5292d01c2912f237aa8319c6d135d5547fe183"
  },
  "kernelspec": {
   "display_name": "Python 3.7.4 64-bit ('base': conda)",
   "name": "python3"
  },
  "language_info": {
   "codemirror_mode": {
    "name": "ipython",
    "version": 3
   },
   "file_extension": ".py",
   "mimetype": "text/x-python",
   "name": "python",
   "nbconvert_exporter": "python",
   "pygments_lexer": "ipython3",
   "version": "3.7.4"
  },
  "orig_nbformat": 4
 },
 "nbformat": 4,
 "nbformat_minor": 2
}
