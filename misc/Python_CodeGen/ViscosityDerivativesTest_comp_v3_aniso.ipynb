{
 "cells": [
  {
   "cell_type": "code",
   "execution_count": 14,
   "source": [
    "from sympy import *\n",
    "import numpy as np\n",
    "\n",
    "Txx, Tyy, Txy = symbols('Txx, Tyy, Txy ')\n",
    "Exx,Eyy,Exy   = symbols('Exx,Eyy,Exy')\n",
    "C_pwl, n_pwl  = symbols('C_pwl, n_pwl')\n",
    "C_lin, n_lin, m_lin  = symbols('C_lin, n_lin, m_lin')\n",
    "eta_0,eta_el  = symbols('eta_0,eta_el')\n",
    "dg = symbols('dg') # grain size\n",
    "\n",
    "# The new guys for anisotropy\n",
    "d0, d1, ani, two, a = symbols('d0, d1, ani, two, a')\n",
    "f_ani         = symbols('f_ani')\n",
    "\n",
    "Tzz      = -Txx-Tyy \n",
    "Ezz      = -Exx-Eyy \n",
    "Tii       = sqrt(1/2*(Txx**2+Tyy**2+Tzz**2) + a**2*Txy**2)\n",
    "Jii           = Tii**2\n",
    "Eii       = sqrt(1/2*(Exx**2+Eyy**2+Ezz**2) + a**2*Exy**2)\n",
    "\n",
    "display(Tii.diff(Txx).subs(Tii,'Tii'))\n",
    "display(Tii.diff(Tyy).subs(Tii,'Tii'))\n",
    "display(Tii.diff(Txy).subs(Tii,'Tii'))\n",
    "\n",
    "\n",
    "# Gzz = symbols('Gzz')\n",
    "C_ANI    = Matrix([ [-d0, d0, two*d1], [d0, -d0, -two*d1], [d1, -d1, -two*(1/2-d0)]]) ##### !!! - sign in D33 -a0\n",
    "C_ISO    = Matrix([ [1, 0, 0], [0, 1, 0], [0, 0, two*1/2]])\n",
    "Dani     = 2* (C_ISO + C_ANI * ani)\n",
    "E        = Matrix([[Exx],[Eyy],[Exy]])\n",
    "Gij      = Matrix([ [1/2, 0, 0], [0, 1/2, 0], [0, 0, 1/two]]) * Dani*E\n",
    "Gxx, Gyy, Gxy = Gij[0], Gij[1], Gij[2]\n",
    "Gzz      = -Gxx-Gyy \n",
    "Gii       = sqrt(1/2*(Gxx**2+Gyy**2+Gzz**2) + a**2*Gxy**2)\n"
   ],
   "outputs": [
    {
     "output_type": "display_data",
     "data": {
      "text/latex": [
       "$\\displaystyle \\frac{Txx + 0.5 Tyy}{Tii}$"
      ],
      "text/plain": [
       "(Txx + 0.5*Tyy)/Tii"
      ]
     },
     "metadata": {}
    },
    {
     "output_type": "display_data",
     "data": {
      "text/latex": [
       "$\\displaystyle \\frac{0.5 Txx + Tyy}{Tii}$"
      ],
      "text/plain": [
       "(0.5*Txx + Tyy)/Tii"
      ]
     },
     "metadata": {}
    },
    {
     "output_type": "display_data",
     "data": {
      "text/latex": [
       "$\\displaystyle \\frac{Txy^{two} a^{2} two}{2 Tii Txy}$"
      ],
      "text/plain": [
       "Txy**two*a**2*two/(2*Tii*Txy)"
      ]
     },
     "metadata": {}
    }
   ],
   "metadata": {}
  },
  {
   "cell_type": "code",
   "execution_count": 2,
   "source": [
    "\n",
    "#---------------------- VISCO-ELASTIC VISCOSITY ----------------------#\n",
    "\n",
    "# 1. Viscosity expression as function of stress invariant\n",
    "eta_pwl       = f_ani**(n_pwl-1)*(2*C_pwl)**(-1)*Tii**(1-n_pwl)\n",
    "eta_lin       = f_ani**(n_lin-1)*(2*C_lin)**(-1)*Tii**(1-n_lin) * dg**(m_lin)\n",
    "eta_ve  = (eta_el**-1 + eta_pwl**-1 + eta_lin**-1)**-1\n",
    "eta_ve  = (eta_el**-1 + eta_pwl**-1 )**-1\n",
    "print('eta_ve = ' + octave_code(eta_ve.subs(eta_pwl,'eta_pwl').subs(f_ani,'f_ani')) + ';')\n",
    "# 2. Derivatives of viscosity w.r.t. strain rate components\n",
    "detadexx = symbols('detadexx')\n",
    "detadtxx = symbols('detadtxx')\n",
    "f        = detadexx - ( detadtxx * (2*eta_0 + 2*detadexx*Exx))\n",
    "detadexx = solve(f,detadexx)[0]\n",
    "display(detadexx)\n",
    "print('detadexx = ' + octave_code(detadexx.subs(1/2*Txx**2 + Txy**2*a**2 + 1/2*Tyy**2 + 1/2*Tzz**2,'Jii').subs(f_ani,'f_ani')) + ';')\n",
    "# 3. Derivatives of viscosity w.r.t. stress components\n",
    "detadtxx = eta_ve.diff(Txx)\n",
    "detadtyy = eta_ve.diff(Tyy)\n",
    "detadtxy = eta_ve.diff(Txy)\n",
    "detadtxx = detadtxx.subs(eta_ve,'eta_ve').subs(eta_ve,'eta_lin').subs(eta_ve,'eta_pwl').subs(1/2*Txx**2 + Txy**2*a**2 + 1/2*Tyy**2 + 1/2*Tzz**2,'Jii').subs(f_ani.diff(Txx),'dfanidTxx').subs(f_ani,'f_ani').simplify()\n",
    "detadtyy = detadtyy.subs(eta_ve,'eta_ve').subs(1/2*Txx**2 + Txy**2*a**2 + 1/2*Tyy**2 + 1/2*Tzz**2,'Jii').subs(f_ani.diff(Tyy),'dfanidTyy').subs(f_ani,'f_ani').simplify()\n",
    "detadtxy = detadtxy.subs(eta_ve,'eta_ve').subs(1/2*Txx**2 + Txy**2*a**2 + 1/2*Tyy**2 + 1/2*Tzz**2,'Jii').subs(f_ani.diff(Txy),'dfanidTxy').subs(f_ani,'f_ani').simplify()\n",
    "\n",
    "display(detadtxx)\n",
    "display(detadtyy)\n",
    "display(detadtxy)\n",
    "# for i in range(1):\n",
    "#     print('detadTxx = ' + ccode(detadtxx) + ';')\n",
    "#     print('detadTyy = ' + ccode(detadtyy) + ';')\n",
    "#     print('detadTxy = ' + ccode(detadtxy) + ';')\n",
    "for i in range(1):\n",
    "    print('detadTxx = ' + octave_code(detadtxx) + ';')\n",
    "    print('detadTyy = ' + octave_code(detadtyy) + ';')\n",
    "    print('detadTxy = ' + octave_code(detadtxy) + ';')\n"
   ],
   "outputs": [
    {
     "output_type": "stream",
     "name": "stdout",
     "text": [
      "eta_ve = 1./(2*C_pwl.*f_ani.^(1 - n_pwl).*(0.5*Txx.^2 + Txy.^2.*a.^2 + 0.5*Tyy.^2 + 0.5*(-Txx - Tyy).^2).^(n_pwl/2 - 1/2) + 1./eta_el);\n"
     ]
    },
    {
     "output_type": "display_data",
     "data": {
      "text/latex": [
       "$\\displaystyle - \\frac{2 detadtxx \\eta_{0}}{2 Exx detadtxx - 1}$"
      ],
      "text/plain": [
       "-2*detadtxx*eta_0/(2*Exx*detadtxx - 1)"
      ]
     },
     "metadata": {}
    },
    {
     "output_type": "stream",
     "name": "stdout",
     "text": [
      "detadexx = -2*detadtxx.*eta_0./(2*Exx.*detadtxx - 1);\n"
     ]
    },
    {
     "output_type": "display_data",
     "data": {
      "text/latex": [
       "$\\displaystyle - C_{pwl} Jii^{\\frac{n_{pwl}}{2} - \\frac{3}{2}} \\eta_{ve}^{2} f_{ani}^{1 - n_{pwl}} \\left(2.0 Txx + 1.0 Tyy\\right) \\left(n_{pwl} - 1\\right)$"
      ],
      "text/plain": [
       "-C_pwl*Jii**(n_pwl/2 - 3/2)*eta_ve**2*f_ani**(1 - n_pwl)*(2.0*Txx + 1.0*Tyy)*(n_pwl - 1)"
      ]
     },
     "metadata": {}
    },
    {
     "output_type": "display_data",
     "data": {
      "text/latex": [
       "$\\displaystyle - C_{pwl} Jii^{\\frac{n_{pwl}}{2} - \\frac{3}{2}} \\eta_{ve}^{2} f_{ani}^{1 - n_{pwl}} \\left(1.0 Txx + 2.0 Tyy\\right) \\left(n_{pwl} - 1\\right)$"
      ],
      "text/plain": [
       "-C_pwl*Jii**(n_pwl/2 - 3/2)*eta_ve**2*f_ani**(1 - n_pwl)*(1.0*Txx + 2.0*Tyy)*(n_pwl - 1)"
      ]
     },
     "metadata": {}
    },
    {
     "output_type": "display_data",
     "data": {
      "text/latex": [
       "$\\displaystyle - 2 C_{pwl} Jii^{\\frac{n_{pwl}}{2} - \\frac{3}{2}} Txy a^{2} \\eta_{ve}^{2} f_{ani}^{1 - n_{pwl}} \\left(n_{pwl} - 1\\right)$"
      ],
      "text/plain": [
       "-2*C_pwl*Jii**(n_pwl/2 - 3/2)*Txy*a**2*eta_ve**2*f_ani**(1 - n_pwl)*(n_pwl - 1)"
      ]
     },
     "metadata": {}
    },
    {
     "output_type": "stream",
     "name": "stdout",
     "text": [
      "detadTxx = -C_pwl.*Jii.^(n_pwl/2 - 3/2).*eta_ve.^2.*f_ani.^(1 - n_pwl).*(2.0*Txx + 1.0*Tyy).*(n_pwl - 1);\n",
      "detadTyy = -C_pwl.*Jii.^(n_pwl/2 - 3/2).*eta_ve.^2.*f_ani.^(1 - n_pwl).*(1.0*Txx + 2.0*Tyy).*(n_pwl - 1);\n",
      "detadTxy = -2*C_pwl.*Jii.^(n_pwl/2 - 3/2).*Txy.*a.^2.*eta_ve.^2.*f_ani.^(1 - n_pwl).*(n_pwl - 1);\n"
     ]
    }
   ],
   "metadata": {}
  },
  {
   "cell_type": "markdown",
   "source": [],
   "metadata": {}
  },
  {
   "cell_type": "code",
   "execution_count": 10,
   "source": [
    "# ## !!!!!!!!!! THIS IS NOT NEEDED AT ALL\n",
    "# f_ani     = Gii/Eii\n",
    "# dfanidExx = f_ani.diff(Exx).subs(f_ani, 'f_ani').subs(Eii, 'Eii').subs(Gii, 'Gii').subs(Gxx,'Gxx').subs(Gyy,'Gyy').subs(Gxy,'Gxy').subs(Gzz,'Gzz')\n",
    "# dfanidEyy = f_ani.diff(Eyy).subs(f_ani, 'f_ani').subs(Eii, 'Eii').subs(Gii, 'Gii').subs(Gxx,'Gxx').subs(Gyy,'Gyy').subs(Gxy,'Gxy').subs(Gzz,'Gzz')\n",
    "# dfanidExy = f_ani.diff(Exy).subs(f_ani, 'f_ani').subs(Eii, 'Eii').subs(Gii, 'Gii').subs(Gxx,'Gxx').subs(Gyy,'Gyy').subs(Gxy,'Gxy').subs(Gzz,'Gzz')\n",
    "\n",
    "# # display(dfanidExx.subs('f_ani',1.0).subs(ani,0.0).subs(d0,0.0).subs(d1,1.0).subs('Gxx',Exx).subs('Gii','Eii'))\n",
    "# print('dfanidExx = ' + octave_code(dfanidExx) + ';')\n",
    "# print('dfanidEyy = ' + octave_code(dfanidEyy) + ';')\n",
    "# print('dfanidExy = ' + octave_code(dfanidExy) + ';')\n",
    "# # display(f_ani.subs(Gii, 'Gii').subs(ani,0.0))\n"
   ],
   "outputs": [],
   "metadata": {}
  },
  {
   "cell_type": "code",
   "execution_count": 15,
   "source": [
    "# For grain size evolution one needs to make the viscosity of linear creep stress dependent\n",
    "df = Function('df')(Txx,Tyy,Txy) # grain size\n",
    "\n",
    "# 1. Viscosity expression as function of stress invariant\n",
    "eta_lin       = f_ani**(n_lin-1)*(2*C_lin)**(-1)*Tii**(1-n_lin) * df**(m_lin)\n",
    "eta_ve  = (eta_el**-1 + eta_lin**-1)**-1\n",
    "#eta_pwl       = f_ani**(n_pwl-1)*(2*C_pwl)**(-1)*Tii**(1-n_pwl)\n",
    "#eta_ve  = (eta_el**-1 + eta_pwl**-1)**-1\n",
    "\n",
    "# 3. Derivatives of viscosity w.r.t. stress components\n",
    "detadtxx = eta_ve.diff(Txx)\n",
    "detadtyy = eta_ve.diff(Tyy)\n",
    "detadtxy = eta_ve.diff(Txy)\n",
    "detadtxx = detadtxx.subs(eta_ve,'eta_ve').subs(eta_ve,'eta_lin').subs(1/2*Txx**2 + Txy**2*a**2 + 1/2*Tyy**2 + 1/2*Tzz**2,'Jii').subs(df.diff(Txx),'ddgdTxx').subs(df,'dg').simplify()\n",
    "detadtyy = detadtyy.subs(eta_ve,'eta_ve').subs(eta_ve,'eta_lin').subs(1/2*Txx**2 + Txy**2*a**2 + 1/2*Tyy**2 + 1/2*Tzz**2,'Jii').subs(df.diff(Tyy),'ddgdTyy').subs(df,'dg').simplify()\n",
    "detadtxy = detadtxy.subs(eta_ve,'eta_ve').subs(eta_ve,'eta_lin').subs(1/2*Txx**2 + Txy**2*a**2 + 1/2*Tyy**2 + 1/2*Tzz**2,'Jii').subs(df.diff(Txy),'ddgdTxy').subs(df,'dg').simplify()\n",
    "\n",
    "display(detadtxx)\n",
    "\n",
    "print('detadtxx = ' +  octave_code(detadtxx) + ';')\n",
    "print('detadtyy = ' +  octave_code(detadtyy) + ';')\n",
    "print('detadtxy = ' +  octave_code(detadtxy) + ';')"
   ],
   "outputs": [
    {
     "output_type": "display_data",
     "data": {
      "text/latex": [
       "$\\displaystyle \\frac{C_{lin} dg^{- 2 m_{lin} - 1} \\eta_{ve}^{2} f_{ani}^{1 - n_{lin}} \\left(2 ddgdTxx dg^{m_{lin}} m_{lin} \\left(0.5 Txx^{2} + Txy^{two} a^{2} + 0.5 Tyy^{2} + 0.5 \\left(Txx + Tyy\\right)^{2}\\right)^{\\frac{n_{lin}}{2} + \\frac{1}{2}} - dg^{m_{lin} + 1} \\left(2.0 Txx + 1.0 Tyy\\right) \\left(n_{lin} - 1\\right) \\left(0.5 Txx^{2} + Txy^{two} a^{2} + 0.5 Tyy^{2} + 0.5 \\left(Txx + Tyy\\right)^{2}\\right)^{\\frac{n_{lin}}{2} - \\frac{1}{2}}\\right)}{0.5 Txx^{2} + Txy^{two} a^{2} + 0.5 Tyy^{2} + 0.5 \\left(Txx + Tyy\\right)^{2}}$"
      ],
      "text/plain": [
       "C_lin*dg**(-2*m_lin - 1)*eta_ve**2*f_ani**(1 - n_lin)*(2*ddgdTxx*dg**m_lin*m_lin*(0.5*Txx**2 + Txy**two*a**2 + 0.5*Tyy**2 + 0.5*(Txx + Tyy)**2)**(n_lin/2 + 1/2) - dg**(m_lin + 1)*(2.0*Txx + 1.0*Tyy)*(n_lin - 1)*(0.5*Txx**2 + Txy**two*a**2 + 0.5*Tyy**2 + 0.5*(Txx + Tyy)**2)**(n_lin/2 - 1/2))/(0.5*Txx**2 + Txy**two*a**2 + 0.5*Tyy**2 + 0.5*(Txx + Tyy)**2)"
      ]
     },
     "metadata": {}
    },
    {
     "output_type": "stream",
     "name": "stdout",
     "text": [
      "detadtxx = C_lin.*dg.^(-2*m_lin - 1).*eta_ve.^2.*f_ani.^(1 - n_lin).*(2*ddgdTxx.*dg.^m_lin.*m_lin.*(0.5*Txx.^2 + Txy.^two.*a.^2 + 0.5*Tyy.^2 + 0.5*(Txx + Tyy).^2).^(n_lin/2 + 1/2) - dg.^(m_lin + 1).*(2.0*Txx + 1.0*Tyy).*(n_lin - 1).*(0.5*Txx.^2 + Txy.^two.*a.^2 + 0.5*Tyy.^2 + 0.5*(Txx + Tyy).^2).^(n_lin/2 - 1/2))./(0.5*Txx.^2 + Txy.^two.*a.^2 + 0.5*Tyy.^2 + 0.5*(Txx + Tyy).^2);\n",
      "detadtyy = C_lin.*dg.^(-2*m_lin - 1).*eta_ve.^2.*f_ani.^(1 - n_lin).*(2*ddgdTyy.*dg.^m_lin.*m_lin.*(0.5*Txx.^2 + Txy.^two.*a.^2 + 0.5*Tyy.^2 + 0.5*(Txx + Tyy).^2).^(n_lin/2 + 1/2) - dg.^(m_lin + 1).*(1.0*Txx + 2.0*Tyy).*(n_lin - 1).*(0.5*Txx.^2 + Txy.^two.*a.^2 + 0.5*Tyy.^2 + 0.5*(Txx + Tyy).^2).^(n_lin/2 - 1/2))./(0.5*Txx.^2 + Txy.^two.*a.^2 + 0.5*Tyy.^2 + 0.5*(Txx + Tyy).^2);\n",
      "detadtxy = C_lin.*dg.^(-2*m_lin - 1).*eta_ve.^2.*f_ani.^(1 - n_lin).*(2*Txy.*ddgdTxy.*dg.^m_lin.*m_lin.*(0.5*Txx.^2 + Txy.^two.*a.^2 + 0.5*Tyy.^2 + 0.5*(Txx + Tyy).^2).^(n_lin/2 + 1/2) - Txy.^two.*a.^2.*dg.^(m_lin + 1).*two.*(n_lin - 1).*(0.5*Txx.^2 + Txy.^two.*a.^2 + 0.5*Tyy.^2 + 0.5*(Txx + Tyy).^2).^(n_lin/2 - 1/2))./(Txy.*(0.5*Txx.^2 + Txy.^two.*a.^2 + 0.5*Tyy.^2 + 0.5*(Txx + Tyy).^2));\n"
     ]
    }
   ],
   "metadata": {}
  },
  {
   "cell_type": "code",
   "execution_count": 16,
   "source": [
    "# Evaluate the product T * Edis\n",
    "Ared,dg0,dt,Agro,p = symbols('Ared,dg0,dt,Agro,p')\n",
    "Tii = symbols('Tii')\n",
    "Eii = symbols('Eii')\n",
    "f_ani = symbols('f_ani')\n",
    "Gxx,Gyy,Gzz,Gxy = symbols('Gxx,Gyy,Gzz,Gxy')\n",
    "# Dev. stress\n",
    "Txx       = Tii/f_ani/Eii*Gxx\n",
    "Tyy       = Tii/f_ani/Eii*Gyy\n",
    "Tzz       = -Txx-Tyy\n",
    "Txy       = Tii/f_ani/Eii*Gxy\n",
    "# Dis. Dev. strain\n",
    "Eii_pwl   = f_ani**(-n_pwl) * C_pwl * Tii**(n_pwl);  \n",
    "exx_pwl   = Exx/Gxx*f_ani * Txx/Tii * Eii_pwl\n",
    "eyy_pwl   = Eyy/Gyy*f_ani * Tyy/Tii * Eii_pwl      \n",
    "ezz_pwl   = -exx_pwl - eyy_pwl     \n",
    "exy_pwl   = Exy/Gxy*f_ani * Txy/Tii * Eii_pwl \n",
    "# Work\n",
    "Wpwl      = exx_pwl*Txx + eyy_pwl*Tyy + ezz_pwl*Tzz + two*exy_pwl*Txy\n",
    "Wpwl_subs = Wpwl.subs(Eii_pwl,'Eii_pwl').simplify()\n",
    "display(Wpwl_subs)\n",
    "# print('Wred = ' + octave_code(Wpwl_subs) + ';')\n",
    "# Sensitivity to Tii\n",
    "# display(Wpwl)\n",
    "dWreddTii = Wpwl.diff(Tii).subs(Wpwl,'Wred').subs(Eii_pwl,'Eii_pwl').simplify()\n",
    "display(dWreddTii)\n",
    "print('dWreddTii = ' + octave_code(dWreddTii) + ';')"
   ],
   "outputs": [
    {
     "output_type": "display_data",
     "data": {
      "text/latex": [
       "$\\displaystyle \\frac{Eii_{pwl} Tii \\left(Exx Gxx + Exy Gxy two + Eyy Gyy + \\left(Exx + Eyy\\right) \\left(Gxx + Gyy\\right)\\right)}{Eii^{2} f_{ani}}$"
      ],
      "text/plain": [
       "Eii_pwl*Tii*(Exx*Gxx + Exy*Gxy*two + Eyy*Gyy + (Exx + Eyy)*(Gxx + Gyy))/(Eii**2*f_ani)"
      ]
     },
     "metadata": {}
    },
    {
     "output_type": "display_data",
     "data": {
      "text/latex": [
       "$\\displaystyle \\frac{Eii_{pwl} \\left(Exx Gxx n_{pwl} + Exx Gxx + Exy Gxy n_{pwl} two + Exy Gxy two + Eyy Gyy n_{pwl} + Eyy Gyy + n_{pwl} \\left(Exx + Eyy\\right) \\left(Gxx + Gyy\\right) + \\left(Exx + Eyy\\right) \\left(Gxx + Gyy\\right)\\right)}{Eii^{2} f_{ani}}$"
      ],
      "text/plain": [
       "Eii_pwl*(Exx*Gxx*n_pwl + Exx*Gxx + Exy*Gxy*n_pwl*two + Exy*Gxy*two + Eyy*Gyy*n_pwl + Eyy*Gyy + n_pwl*(Exx + Eyy)*(Gxx + Gyy) + (Exx + Eyy)*(Gxx + Gyy))/(Eii**2*f_ani)"
      ]
     },
     "metadata": {}
    },
    {
     "output_type": "stream",
     "name": "stdout",
     "text": [
      "dWreddTii = Eii_pwl.*(Exx.*Gxx.*n_pwl + Exx.*Gxx + Exy.*Gxy.*n_pwl.*two + Exy.*Gxy.*two + Eyy.*Gyy.*n_pwl + Eyy.*Gyy + n_pwl.*(Exx + Eyy).*(Gxx + Gyy) + (Exx + Eyy).*(Gxx + Gyy))./(Eii.^2.*f_ani);\n"
     ]
    }
   ],
   "metadata": {}
  },
  {
   "cell_type": "code",
   "execution_count": 21,
   "source": [
    "# Evaluate sensitivity of grain size to tau\n",
    "dg1          = Function('dg1')(Tii)\n",
    "Wpwl1        = Function('Wpwl1')(Tii)\n",
    "ddgdTii      = symbols('ddgdTii')\n",
    "dred         =-Wpwl1*dg1**2*Ared\n",
    "dgro         = Agro*dg1**(1-p)\n",
    "dg           = (dg0) + dt*(dred + dgro)\n",
    "ddgdTii0     = dg.diff(Tii)\n",
    "f            = ddgdTii - ddgdTii0.subs(dg1.diff(Tii), ddgdTii).subs(dg1,'dg')\n",
    "display(f)\n",
    "ddgdTii1     = solve(f,ddgdTii)[0]\n",
    "ddgdTii_subs = ddgdTii1.subs(Wpwl1.diff(Tii),'dWreddTii').subs(Wpwl1,'Wred')\n",
    "display(ddgdTii_subs)\n",
    "print('ddgdTii = ' + octave_code(ddgdTii_subs) + ';')"
   ],
   "outputs": [
    {
     "output_type": "display_data",
     "data": {
      "text/latex": [
       "$\\displaystyle ddgdTii - dt \\left(\\frac{Agro ddgdTii dg^{1 - p} \\left(1 - p\\right)}{dg} - 2 Ared ddgdTii dg \\operatorname{Wpwl_{1}}{\\left(Tii \\right)} - Ared dg^{2} \\frac{d}{d Tii} \\operatorname{Wpwl_{1}}{\\left(Tii \\right)}\\right)$"
      ],
      "text/plain": [
       "ddgdTii - dt*(Agro*ddgdTii*dg**(1 - p)*(1 - p)/dg - 2*Ared*ddgdTii*dg*Wpwl1(Tii) - Ared*dg**2*Derivative(Wpwl1(Tii), Tii))"
      ]
     },
     "metadata": {}
    },
    {
     "output_type": "display_data",
     "data": {
      "text/latex": [
       "$\\displaystyle - \\frac{Ared dWreddTii dg^{2} dt}{Agro dg^{- p} dt p - Agro dg^{- p} dt + 2 Ared Wred dg dt + 1}$"
      ],
      "text/plain": [
       "-Ared*dWreddTii*dg**2*dt/(Agro*dg**(-p)*dt*p - Agro*dg**(-p)*dt + 2*Ared*Wred*dg*dt + 1)"
      ]
     },
     "metadata": {}
    },
    {
     "output_type": "stream",
     "name": "stdout",
     "text": [
      "ddgdTii = -Ared.*dWreddTii.*dg.^2.*dt./(Agro.*dg.^(-p).*dt.*p - Agro.*dg.^(-p).*dt + 2*Ared.*Wred.*dg.*dt + 1);\n"
     ]
    }
   ],
   "metadata": {}
  },
  {
   "cell_type": "code",
   "execution_count": 18,
   "source": [
    "# For grain size evolution one needs to make the viscosity of linear creep stress dependent\n",
    "Tii = symbols('Tii')\n",
    "\n",
    "# 1. Viscosity expression as function of stress invariant\n",
    "eta_lin       = f_ani**(n_lin-1)*(2*C_lin)**(-1)*Tii**(1-n_lin) * dg1**(m_lin)\n",
    "eta_pwl       = f_ani**(n_pwl-1)*(2*C_pwl)**(-1)*Tii**(1-n_pwl)\n",
    "eta_ve        = (eta_el**-1 + eta_pwl**-1 + eta_lin**-1)**-1\n",
    "\n",
    "# 3. Derivatives of viscosity w.r.t. stress components\n",
    "detadTii = eta_ve.diff(Tii)\n",
    "\n",
    "detadTii = detadTii.subs(eta_ve,'eta_ve').subs(eta_ve,'eta_lin').subs(dg1.diff(Tii),'ddgdTii').subs(dg1,'dg').simplify()\n",
    "\n",
    "display(detadTii)\n",
    "\n",
    "print('detadTii = ' +  octave_code(detadTii) + ';')\n"
   ],
   "outputs": [
    {
     "output_type": "display_data",
     "data": {
      "text/latex": [
       "$\\displaystyle \\frac{2 dg^{- 2 m_{lin} - 1} \\eta_{ve}^{2} \\left(- C_{lin} Tii^{n_{lin}} dg^{m_{lin} + 1} f_{ani}^{1 - n_{lin}} \\left(n_{lin} - 1\\right) + C_{lin} Tii^{n_{lin} + 1} ddgdTii dg^{m_{lin}} f_{ani}^{1 - n_{lin}} m_{lin} - C_{pwl} Tii^{n_{pwl}} dg^{2 m_{lin} + 1} f_{ani}^{1 - n_{pwl}} \\left(n_{pwl} - 1\\right)\\right)}{Tii^{2}}$"
      ],
      "text/plain": [
       "2*dg**(-2*m_lin - 1)*eta_ve**2*(-C_lin*Tii**n_lin*dg**(m_lin + 1)*f_ani**(1 - n_lin)*(n_lin - 1) + C_lin*Tii**(n_lin + 1)*ddgdTii*dg**m_lin*f_ani**(1 - n_lin)*m_lin - C_pwl*Tii**n_pwl*dg**(2*m_lin + 1)*f_ani**(1 - n_pwl)*(n_pwl - 1))/Tii**2"
      ]
     },
     "metadata": {}
    },
    {
     "output_type": "stream",
     "name": "stdout",
     "text": [
      "detadTii = 2*dg.^(-2*m_lin - 1).*eta_ve.^2.*(-C_lin.*Tii.^n_lin.*dg.^(m_lin + 1).*f_ani.^(1 - n_lin).*(n_lin - 1) + C_lin.*Tii.^(n_lin + 1).*ddgdTii.*dg.^m_lin.*f_ani.^(1 - n_lin).*m_lin - C_pwl.*Tii.^n_pwl.*dg.^(2*m_lin + 1).*f_ani.^(1 - n_pwl).*(n_pwl - 1))./Tii.^2;\n"
     ]
    }
   ],
   "metadata": {}
  },
  {
   "cell_type": "code",
   "execution_count": 41,
   "source": [
    "# For local Jacobian\n",
    "Ared,dg0,dt,Agro,p,dg = symbols('Ared,dg0,dt,Agro,p,dg')\n",
    "Tii = symbols('Tii')\n",
    "Eii = symbols('Eii')\n",
    "f_ani = symbols('f_ani')\n",
    "Gxx,Gyy,Gzz,Gxy = symbols('Gxx,Gyy,Gzz,Gxy')\n",
    "# Dev. stress\n",
    "Txx       = Tii/f_ani/Eii*Gxx\n",
    "Tyy       = Tii/f_ani/Eii*Gyy\n",
    "Tzz       = -Txx-Tyy\n",
    "Txy       = Tii/f_ani/Eii*Gxy\n",
    "# Dis. Dev. strain\n",
    "Eii_pwl   = f_ani**(-n_pwl) * C_pwl * Tii**(n_pwl);  \n",
    "exx_pwl   = Exx/Gxx*f_ani * Txx/Tii * Eii_pwl\n",
    "eyy_pwl   = Eyy/Gyy*f_ani * Tyy/Tii * Eii_pwl      \n",
    "ezz_pwl   = -exx_pwl - eyy_pwl     \n",
    "exy_pwl   = Exy/Gxy*f_ani * Txy/Tii * Eii_pwl \n",
    "# Work\n",
    "Wpwl      = exx_pwl*Txx + eyy_pwl*Tyy + ezz_pwl*Tzz + two*exy_pwl*Txy\n",
    "dred         =-Wpwl*dg**2*Ared\n",
    "dgro         = Agro*dg**(1-p)\n",
    "fdg          = dg - (dg0 + dt*(dred + dgro) )\n",
    "\n",
    "display(fdg.diff(dg).subs(fdg,'fdg').subs(dgro,'dgro').subs(dred,'dred').subs(Wpwl,'Wred'))\n",
    "display(fdg.diff(Tii).subs(fdg,'fdg').subs(dgro,'dgro').subs(dred,'dred').subs(Wpwl,'Wred').subs(exy_pwl,'exy_pwl').subs(exx_pwl,'exx_pwl').subs(eyy_pwl,'eyy_pwl').subs(Eii_pwl,'Eii_pwl').subs(Txx,'Txx').subs(Tyy,'Tyy').subs(Txy,'Txy'))\n",
    "ddgdTii = fdg.diff(Tii).subs(fdg,'fdg').subs(dgro,'dgro').subs(dred,'dred').subs(Wpwl,'Wred').subs(exy_pwl,'exy_pwl').subs(exx_pwl,'exx_pwl').subs(eyy_pwl,'eyy_pwl').subs(Eii_pwl,'Eii_pwl').subs(Txx,'Txx').subs(Tyy,'Tyy').subs(Txy,'Txy')\n",
    "print('ddgdTii = ' + octave_code(ddgdTii) + ';')\n",
    "\n",
    "# ddgdTii1     = solve(f,ddgdTii)[0]\n",
    "# ddgdTii_subs = ddgdTii1.subs(Wpwl1.diff(Tii),'dWreddTii').subs(Wpwl1,'Wred')\n",
    "# display(ddgdTii_subs)\n",
    "# print('ddgdTii = ' + octave_code(ddgdTii_subs) + ';')"
   ],
   "outputs": [
    {
     "output_type": "display_data",
     "data": {
      "text/latex": [
       "$\\displaystyle - dt \\left(- 2 Ared Wred dg + \\frac{dgro \\left(1 - p\\right)}{dg}\\right) + 1$"
      ],
      "text/plain": [
       "-dt*(-2*Ared*Wred*dg + dgro*(1 - p)/dg) + 1"
      ]
     },
     "metadata": {}
    },
    {
     "output_type": "display_data",
     "data": {
      "text/latex": [
       "$\\displaystyle - Ared dg^{2} dt \\left(\\left(Txx + Tyy\\right) \\left(- \\frac{exx_{pwl} n_{pwl}}{Tii} - \\frac{eyy_{pwl} n_{pwl}}{Tii}\\right) + \\left(- exx_{pwl} - eyy_{pwl}\\right) \\left(\\frac{Gxx}{Eii f_{ani}} + \\frac{Gyy}{Eii f_{ani}}\\right) - \\frac{Gxx exx_{pwl} n_{pwl}}{Eii f_{ani}} - \\frac{Gxx exx_{pwl}}{Eii f_{ani}} - \\frac{Gxy exy_{pwl} n_{pwl} two}{Eii f_{ani}} - \\frac{Gxy exy_{pwl} two}{Eii f_{ani}} - \\frac{Gyy eyy_{pwl} n_{pwl}}{Eii f_{ani}} - \\frac{Gyy eyy_{pwl}}{Eii f_{ani}}\\right)$"
      ],
      "text/plain": [
       "-Ared*dg**2*dt*((Txx + Tyy)*(-exx_pwl*n_pwl/Tii - eyy_pwl*n_pwl/Tii) + (-exx_pwl - eyy_pwl)*(Gxx/(Eii*f_ani) + Gyy/(Eii*f_ani)) - Gxx*exx_pwl*n_pwl/(Eii*f_ani) - Gxx*exx_pwl/(Eii*f_ani) - Gxy*exy_pwl*n_pwl*two/(Eii*f_ani) - Gxy*exy_pwl*two/(Eii*f_ani) - Gyy*eyy_pwl*n_pwl/(Eii*f_ani) - Gyy*eyy_pwl/(Eii*f_ani))"
      ]
     },
     "metadata": {}
    },
    {
     "output_type": "stream",
     "name": "stdout",
     "text": [
      "ddgdTii = -Ared.*dg.^2.*dt.*((Txx + Tyy).*(-exx_pwl.*n_pwl./Tii - eyy_pwl.*n_pwl./Tii) + (-exx_pwl - eyy_pwl).*(Gxx./(Eii.*f_ani) + Gyy./(Eii.*f_ani)) - Gxx.*exx_pwl.*n_pwl./(Eii.*f_ani) - Gxx.*exx_pwl./(Eii.*f_ani) - Gxy.*exy_pwl.*n_pwl.*two./(Eii.*f_ani) - Gxy.*exy_pwl.*two./(Eii.*f_ani) - Gyy.*eyy_pwl.*n_pwl./(Eii.*f_ani) - Gyy.*eyy_pwl./(Eii.*f_ani));\n"
     ]
    }
   ],
   "metadata": {}
  },
  {
   "cell_type": "code",
   "execution_count": null,
   "source": [],
   "outputs": [],
   "metadata": {}
  }
 ],
 "metadata": {
  "orig_nbformat": 4,
  "language_info": {
   "name": "python",
   "version": "3.7.3",
   "mimetype": "text/x-python",
   "codemirror_mode": {
    "name": "ipython",
    "version": 3
   },
   "pygments_lexer": "ipython3",
   "nbconvert_exporter": "python",
   "file_extension": ".py"
  },
  "kernelspec": {
   "name": "python3",
   "display_name": "Python 3.7.3 64-bit ('base': conda)"
  },
  "interpreter": {
   "hash": "f5b7cce56284682b6aee5be2a447c9e3f7bb889dcafa82873661e6020909e6d4"
  }
 },
 "nbformat": 4,
 "nbformat_minor": 2
}