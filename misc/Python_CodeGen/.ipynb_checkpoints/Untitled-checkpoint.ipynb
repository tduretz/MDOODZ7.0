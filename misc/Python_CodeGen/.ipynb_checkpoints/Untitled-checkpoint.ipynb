{
 "cells": [
  {
   "cell_type": "code",
   "execution_count": null,
   "metadata": {},
   "outputs": [],
   "source": [
    "from sympy import *\n",
    "import numpy as np \n",
    "init_printing()\n",
    "\n",
    "Exx,Ezz,Exz,A1pwl,npwl = symbols('Exx,Ezz,Exz,A1pwl,npwl')\n",
    "Eii      = (0.5*Exx*Exx + 0.5*Ezz*Ezz + Exz*Exz)**(1.0/2.0)\n",
    "eta_pwl  = A1pwl * Eii**(1.0/npwl - 1.0 );"
   ]
  }
 ],
 "metadata": {
  "kernelspec": {
   "display_name": "Python 3",
   "language": "python",
   "name": "python3"
  },
  "language_info": {
   "codemirror_mode": {
    "name": "ipython",
    "version": 3
   },
   "file_extension": ".py",
   "mimetype": "text/x-python",
   "name": "python",
   "nbconvert_exporter": "python",
   "pygments_lexer": "ipython3",
   "version": "3.7.3"
  }
 },
 "nbformat": 4,
 "nbformat_minor": 2
}
