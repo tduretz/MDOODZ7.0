{
 "cells": [
  {
   "cell_type": "code",
   "execution_count": 44,
   "metadata": {},
   "outputs": [],
   "source": [
    "%reset\n",
    "from sympy import *\n",
    "import numpy as np\n",
    "eta, deta, theta = symbols('eta, deta, theta')\n",
    "eta_n, eta_s, n1, n2, Exx, Eyy, Exy =  symbols('eta_n, eta_s, n1, n2, Exx, Eyy, Exy')"
   ]
  },
  {
   "cell_type": "code",
   "execution_count": 45,
   "metadata": {},
   "outputs": [
    {
     "data": {
      "text/latex": [
       "$\\displaystyle \\left[\\begin{matrix}- n_{1} \\left(Exy n_{2} - Eyy n_{1}\\right) + n_{2} \\left(Exx n_{2} - Exy n_{1}\\right) & n_{1} \\left(Exx n_{2} - Exy n_{1}\\right) + n_{2} \\left(Exy n_{2} - Eyy n_{1}\\right)\\\\- n_{1} \\left(Exy n_{1} + Eyy n_{2}\\right) + n_{2} \\left(Exx n_{1} + Exy n_{2}\\right) & n_{1} \\left(Exx n_{1} + Exy n_{2}\\right) + n_{2} \\left(Exy n_{1} + Eyy n_{2}\\right)\\end{matrix}\\right]$"
      ],
      "text/plain": [
       "Matrix([\n",
       "[-n1*(Exy*n2 - Eyy*n1) + n2*(Exx*n2 - Exy*n1), n1*(Exx*n2 - Exy*n1) + n2*(Exy*n2 - Eyy*n1)],\n",
       "[-n1*(Exy*n1 + Eyy*n2) + n2*(Exx*n1 + Exy*n2), n1*(Exx*n1 + Exy*n2) + n2*(Exy*n1 + Eyy*n2)]])"
      ]
     },
     "metadata": {},
     "output_type": "display_data"
    },
    {
     "data": {
      "text/latex": [
       "$\\displaystyle \\left[\\begin{matrix}n_{1} \\left(2 \\eta_{n} n_{1} \\left(n_{1} \\left(Exx n_{1} + Exy n_{2}\\right) + n_{2} \\left(Exy n_{1} + Eyy n_{2}\\right)\\right) + 2 \\eta_{s} n_{2} \\left(- n_{1} \\left(Exy n_{1} + Eyy n_{2}\\right) + n_{2} \\left(Exx n_{1} + Exy n_{2}\\right)\\right)\\right) + n_{2} \\left(2 \\eta_{n} n_{2} \\left(- n_{1} \\left(Exy n_{2} - Eyy n_{1}\\right) + n_{2} \\left(Exx n_{2} - Exy n_{1}\\right)\\right) + 2 \\eta_{s} n_{1} \\left(- n_{1} \\left(Exy n_{1} + Eyy n_{2}\\right) + n_{2} \\left(Exx n_{1} + Exy n_{2}\\right)\\right)\\right)\\\\- n_{1} \\left(- 2 \\eta_{n} n_{1} \\left(- n_{1} \\left(Exy n_{2} - Eyy n_{1}\\right) + n_{2} \\left(Exx n_{2} - Exy n_{1}\\right)\\right) + 2 \\eta_{s} n_{2} \\left(- n_{1} \\left(Exy n_{1} + Eyy n_{2}\\right) + n_{2} \\left(Exx n_{1} + Exy n_{2}\\right)\\right)\\right) + n_{2} \\left(2 \\eta_{n} n_{2} \\left(n_{1} \\left(Exx n_{1} + Exy n_{2}\\right) + n_{2} \\left(Exy n_{1} + Eyy n_{2}\\right)\\right) - 2 \\eta_{s} n_{1} \\left(- n_{1} \\left(Exy n_{1} + Eyy n_{2}\\right) + n_{2} \\left(Exx n_{1} + Exy n_{2}\\right)\\right)\\right)\\\\n_{1} \\left(2 \\eta_{n} n_{2} \\left(n_{1} \\left(Exx n_{1} + Exy n_{2}\\right) + n_{2} \\left(Exy n_{1} + Eyy n_{2}\\right)\\right) - 2 \\eta_{s} n_{1} \\left(- n_{1} \\left(Exy n_{1} + Eyy n_{2}\\right) + n_{2} \\left(Exx n_{1} + Exy n_{2}\\right)\\right)\\right) + n_{2} \\left(- 2 \\eta_{n} n_{1} \\left(- n_{1} \\left(Exy n_{2} - Eyy n_{1}\\right) + n_{2} \\left(Exx n_{2} - Exy n_{1}\\right)\\right) + 2 \\eta_{s} n_{2} \\left(- n_{1} \\left(Exy n_{1} + Eyy n_{2}\\right) + n_{2} \\left(Exx n_{1} + Exy n_{2}\\right)\\right)\\right)\\end{matrix}\\right]$"
      ],
      "text/plain": [
       "Matrix([\n",
       "[  n1*(2*eta_n*n1*(n1*(Exx*n1 + Exy*n2) + n2*(Exy*n1 + Eyy*n2)) + 2*eta_s*n2*(-n1*(Exy*n1 + Eyy*n2) + n2*(Exx*n1 + Exy*n2))) + n2*(2*eta_n*n2*(-n1*(Exy*n2 - Eyy*n1) + n2*(Exx*n2 - Exy*n1)) + 2*eta_s*n1*(-n1*(Exy*n1 + Eyy*n2) + n2*(Exx*n1 + Exy*n2)))],\n",
       "[-n1*(-2*eta_n*n1*(-n1*(Exy*n2 - Eyy*n1) + n2*(Exx*n2 - Exy*n1)) + 2*eta_s*n2*(-n1*(Exy*n1 + Eyy*n2) + n2*(Exx*n1 + Exy*n2))) + n2*(2*eta_n*n2*(n1*(Exx*n1 + Exy*n2) + n2*(Exy*n1 + Eyy*n2)) - 2*eta_s*n1*(-n1*(Exy*n1 + Eyy*n2) + n2*(Exx*n1 + Exy*n2)))],\n",
       "[ n1*(2*eta_n*n2*(n1*(Exx*n1 + Exy*n2) + n2*(Exy*n1 + Eyy*n2)) - 2*eta_s*n1*(-n1*(Exy*n1 + Eyy*n2) + n2*(Exx*n1 + Exy*n2))) + n2*(-2*eta_n*n1*(-n1*(Exy*n2 - Eyy*n1) + n2*(Exx*n2 - Exy*n1)) + 2*eta_s*n2*(-n1*(Exy*n1 + Eyy*n2) + n2*(Exx*n1 + Exy*n2)))]])"
      ]
     },
     "metadata": {},
     "output_type": "display_data"
    }
   ],
   "source": [
    "E_mat = Matrix([[Exx, Exy], [Exy, Eyy]])\n",
    "E     = Matrix([[Exx], [Eyy], [Exy]])\n",
    "R     = Matrix(2,2,[n2,-n1,n1,n2]) \n",
    "E_rot_mat = R*E_mat*R.T \n",
    "display(E_rot_mat) # remains symmetric\n",
    "E_rot     = Matrix([ [E_rot_mat[0,0]], [E_rot_mat[1,1]], [E_rot_mat[1,0]]])\n",
    "D_rot     = Matrix([ [eta_n, 0, 0], [0, eta_n, 0], [0, 0, eta_s] ])\n",
    "S_rot     = 2*D_rot*E_rot\n",
    "S_rot_mat = Matrix([ [S_rot[0], S_rot[2]], [S_rot[2], S_rot[1] ] ] )\n",
    "S_mat     = R.T*S_rot_mat*R\n",
    "S         = Matrix([ [S_mat[0,0]], [S_mat[1,1]], [S_mat[1,0]]])\n",
    "display(S) "
   ]
  },
  {
   "cell_type": "code",
   "execution_count": 60,
   "metadata": {},
   "outputs": [
    {
     "data": {
      "text/latex": [
       "$\\displaystyle \\left[\\begin{matrix}2 deta \\left(n_{1}^{4} - 2 n_{1}^{2} n_{2}^{2} + n_{2}^{4}\\right) + 2 \\eta \\left(n_{1}^{4} + 2 n_{1}^{2} n_{2}^{2} + n_{2}^{4}\\right) & 8 deta n_{1}^{2} n_{2}^{2} & 8 deta n_{1} n_{2} \\left(n_{1}^{2} - n_{2}^{2}\\right)\\\\8 deta n_{1}^{2} n_{2}^{2} & 2 deta \\left(n_{1}^{4} - 2 n_{1}^{2} n_{2}^{2} + n_{2}^{4}\\right) + 2 \\eta \\left(n_{1}^{4} + 2 n_{1}^{2} n_{2}^{2} + n_{2}^{4}\\right) & 8 deta n_{1} n_{2} \\left(- n_{1}^{2} + n_{2}^{2}\\right)\\\\4 deta n_{1} n_{2} \\left(n_{1}^{2} - n_{2}^{2}\\right) & 4 deta n_{1} n_{2} \\left(- n_{1}^{2} + n_{2}^{2}\\right) & - 2 deta \\left(n_{1}^{4} - 6 n_{1}^{2} n_{2}^{2} + n_{2}^{4}\\right) + 2 \\eta \\left(n_{1}^{4} + 2 n_{1}^{2} n_{2}^{2} + n_{2}^{4}\\right)\\end{matrix}\\right]$"
      ],
      "text/plain": [
       "Matrix([\n",
       "[2*deta*(n1**4 - 2*n1**2*n2**2 + n2**4) + 2*eta*(n1**4 + 2*n1**2*n2**2 + n2**4),                                                             8*deta*n1**2*n2**2,                                                    8*deta*n1*n2*(n1**2 - n2**2)],\n",
       "[                                                            8*deta*n1**2*n2**2, 2*deta*(n1**4 - 2*n1**2*n2**2 + n2**4) + 2*eta*(n1**4 + 2*n1**2*n2**2 + n2**4),                                                   8*deta*n1*n2*(-n1**2 + n2**2)],\n",
       "[                                                  4*deta*n1*n2*(n1**2 - n2**2),                                                  4*deta*n1*n2*(-n1**2 + n2**2), -2*deta*(n1**4 - 6*n1**2*n2**2 + n2**4) + 2*eta*(n1**4 + 2*n1**2*n2**2 + n2**4)]])"
      ]
     },
     "metadata": {},
     "output_type": "display_data"
    },
    {
     "name": "stdout",
     "output_type": "stream",
     "text": [
      "2*deta.*(n1.^4 - 2*n1.^2.*n2.^2 + n2.^4) + 2*eta.*(n1.^4 + 2*n1.^2.*n2.^2 + n2.^4)\n"
     ]
    }
   ],
   "source": [
    "# Compute components by formulating the Jacobian\n",
    "D_ani = Matrix(3,3,[0,0,0,0,0,0,0,0,0])\n",
    "for i in range(3):\n",
    "    for j in range(3):\n",
    "        D_ani[i,j] = S[i].diff(E[j]).subs(eta_n, eta+deta).subs(eta_s, eta-deta).factor(eta,deta).simplify()\n",
    "        # D_ani[i,j] = D_ani[i,j].subs(n1**4 - 2*n1**2*n2**2 + n2**4, (n1**2 - n2**2)**2)\n",
    "        # D_ani[i,j] = D_ani[i,j].subs(n1**4 + 2*n1**2*n2**2 + n2**4, (n1**2 + n2**2)**2)\n",
    "        # D_ani[i,j] = D_ani[i,j].subs((n1**2 + n2**2), 1)\n",
    "        # D_ani[i,j] = D_ani[i,j].subs((n1**2 - n2**2), 2*n1**2-1)\n",
    "display(D_ani)\n",
    "\n",
    "print( octave_code(D_ani[0,0]) )\n"
   ]
  },
  {
   "cell_type": "code",
   "execution_count": 47,
   "metadata": {},
   "outputs": [
    {
     "data": {
      "text/latex": [
       "$\\displaystyle 2 \\eta$"
      ],
      "text/plain": [
       "2*eta"
      ]
     },
     "metadata": {},
     "output_type": "display_data"
    },
    {
     "data": {
      "text/latex": [
       "$\\displaystyle 2 \\eta$"
      ],
      "text/plain": [
       "2*eta"
      ]
     },
     "metadata": {},
     "output_type": "display_data"
    }
   ],
   "source": [
    "# Check we recover isotropic\n",
    "D_ani_11 = D_ani[0,0].simplify().subs(eta_n, eta+deta).subs(eta_s, eta-deta)\n",
    "D_ani_33 = D_ani[2,2].simplify().subs(eta_n, eta+deta).subs(eta_s, eta-deta)\n",
    "display(trigsimp(D_ani_11.subs(deta,0).factor(eta).simplify().subs(n1, cos(theta)).subs(n2, sin(theta))) )\n",
    "display(trigsimp(D_ani_33.subs(deta,0).factor(eta).simplify().subs(n1, cos(theta)).subs(n2, sin(theta))) )\n"
   ]
  }
 ],
 "metadata": {
  "interpreter": {
   "hash": "309baa410e37084482bcba9b39a5b9e635e78b91cd7553c4b48a2d89780d0f88"
  },
  "kernelspec": {
   "display_name": "Python 3.9.5 ('base')",
   "language": "python",
   "name": "python3"
  },
  "language_info": {
   "codemirror_mode": {
    "name": "ipython",
    "version": 3
   },
   "file_extension": ".py",
   "mimetype": "text/x-python",
   "name": "python",
   "nbconvert_exporter": "python",
   "pygments_lexer": "ipython3",
   "version": "3.9.5"
  },
  "orig_nbformat": 4
 },
 "nbformat": 4,
 "nbformat_minor": 2
}
