{
 "cells": [
  {
   "cell_type": "code",
   "execution_count": 2,
   "metadata": {},
   "outputs": [
    {
     "name": "stdout",
     "output_type": "stream",
     "text": [
      "A1pwl*(0.5*Exx**2 + Exz**2 + 0.5*Ezz**2)**(-0.5 + 0.5/npwl)\n"
     ]
    }
   ],
   "source": [
    "from sympy import *\n",
    "import numpy as np \n",
    "init_printing()\n",
    "\n",
    "Exx,Ezz,Exz,A1pwl,npwl = symbols('Exx,Ezz,Exz,A1pwl,npwl')\n",
    "Eii      = (0.5*Exx*Exx + 0.5*Ezz*Ezz + Exz*Exz)**(1.0/2.0)\n",
    "eta_pwl  = A1pwl * Eii**(1.0/npwl - 1.0 );\n",
    "\n",
    "print(eta_pwl)"
   ]
  },
  {
   "cell_type": "code",
   "execution_count": 9,
   "metadata": {},
   "outputs": [
    {
     "name": "stdout",
     "output_type": "stream",
     "text": [
      "1.0*A1pwl*Exx*(-0.5 + 0.5/npwl)*pow(0.5*pow(Exx, 2) + pow(Exz, 2) + 0.5*pow(Ezz, 2), -0.5 + 0.5/npwl)/(0.5*pow(Exx, 2) + pow(Exz, 2) + 0.5*pow(Ezz, 2))\n",
      "1.0*A1pwl*Ezz*(-0.5 + 0.5/npwl)*pow(0.5*pow(Exx, 2) + pow(Exz, 2) + 0.5*pow(Ezz, 2), -0.5 + 0.5/npwl)/(0.5*pow(Exx, 2) + pow(Exz, 2) + 0.5*pow(Ezz, 2))\n",
      "2*A1pwl*Exz*(-0.5 + 0.5/npwl)*pow(0.5*pow(Exx, 2) + pow(Exz, 2) + 0.5*pow(Ezz, 2), -0.5 + 0.5/npwl)/(0.5*pow(Exx, 2) + pow(Exz, 2) + 0.5*pow(Ezz, 2))\n"
     ]
    }
   ],
   "source": [
    "detadexx = diff(eta_pwl,Exx)\n",
    "detadezz = diff(eta_pwl,Ezz)\n",
    "detadexz = diff(eta_pwl,Exz)\n",
    "print(ccode(detadexx))\n",
    "print(ccode(detadezz))\n",
    "print(ccode(detadexz))"
   ]
  },
  {
   "cell_type": "code",
   "execution_count": null,
   "metadata": {},
   "outputs": [],
   "source": []
  }
 ],
 "metadata": {
  "kernelspec": {
   "display_name": "Python 3",
   "language": "python",
   "name": "python3"
  },
  "language_info": {
   "codemirror_mode": {
    "name": "ipython",
    "version": 3
   },
   "file_extension": ".py",
   "mimetype": "text/x-python",
   "name": "python",
   "nbconvert_exporter": "python",
   "pygments_lexer": "ipython3",
   "version": "3.7.3"
  }
 },
 "nbformat": 4,
 "nbformat_minor": 2
}
