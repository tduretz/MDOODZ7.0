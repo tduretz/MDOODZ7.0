{
 "cells": [
  {
   "cell_type": "code",
   "execution_count": 102,
   "metadata": {},
   "outputs": [],
   "source": [
    "from sympy import *\n",
    "a_v, Txx, Txy = symbols('a_v, tau_xx, tau_xy')\n",
    "Eii = symbols('Eii')"
   ]
  },
  {
   "cell_type": "code",
   "execution_count": 103,
   "metadata": {},
   "outputs": [
    {
     "data": {
      "text/latex": [
       "$\\displaystyle \\sqrt{a_{v}^{2} \\tau_{xy}^{2} + \\tau_{xx}^{2}}$"
      ],
      "text/plain": [
       "sqrt(a_v**2*tau_xy**2 + tau_xx**2)"
      ]
     },
     "metadata": {},
     "output_type": "display_data"
    }
   ],
   "source": [
    "# Anisotropic stress invariant\n",
    "Tii = sqrt(Txx**2 + a_v**2*Txy**2)\n",
    "display(Tii)"
   ]
  },
  {
   "cell_type": "code",
   "execution_count": 104,
   "metadata": {},
   "outputs": [
    {
     "data": {
      "text/latex": [
       "$\\displaystyle \\frac{Eii \\tau_{xx}}{\\sqrt{a_{v}^{2} \\tau_{xy}^{2} + \\tau_{xx}^{2}}}$"
      ],
      "text/plain": [
       "Eii*tau_xx/sqrt(a_v**2*tau_xy**2 + tau_xx**2)"
      ]
     },
     "metadata": {},
     "output_type": "display_data"
    },
    {
     "data": {
      "text/latex": [
       "$\\displaystyle \\frac{Eii \\tau_{xy}}{\\sqrt{a_{v}^{2} \\tau_{xy}^{2} + \\tau_{xx}^{2}}}$"
      ],
      "text/plain": [
       "Eii*tau_xy/sqrt(a_v**2*tau_xy**2 + tau_xx**2)"
      ]
     },
     "metadata": {},
     "output_type": "display_data"
    }
   ],
   "source": [
    "# Strain rate components from a flow potential \n",
    "G    = Tii\n",
    "Exxv = Eii*G.diff(Txx)\n",
    "Exyv = Eii*G.diff(Txy) / a_v**2\n",
    "display(Exxv)\n",
    "display(Exyv)"
   ]
  },
  {
   "cell_type": "code",
   "execution_count": 105,
   "metadata": {},
   "outputs": [
    {
     "data": {
      "text/latex": [
       "$\\displaystyle 1$"
      ],
      "text/plain": [
       "1"
      ]
     },
     "execution_count": 105,
     "metadata": {},
     "output_type": "execute_result"
    }
   ],
   "source": [
    "# Check identitiy \n",
    "Eii2 = (Exxv**2 + Exyv**2*a_v**2)\n",
    "(Eii2/Eii**2).simplify()"
   ]
  },
  {
   "cell_type": "code",
   "execution_count": 106,
   "metadata": {},
   "outputs": [
    {
     "data": {
      "text/latex": [
       "$\\displaystyle 2 \\sqrt{\\eta^{2} \\left(Exx^{2} + Exy^{2}\\right)}$"
      ],
      "text/plain": [
       "2*sqrt(eta**2*(Exx**2 + Exy**2))"
      ]
     },
     "metadata": {},
     "output_type": "display_data"
    }
   ],
   "source": [
    "# Expression stress invariant as function of viscosity and strain rate\n",
    "eta,Exx,Exy = symbols('eta,Exx,Exy')\n",
    "Txx1 = 2*eta*Exx\n",
    "Txy1 = 2*eta*Exy/a_v\n",
    "J2   = Txx1**2 + a_v**2*Txy1**2\n",
    "display(sqrt(J2.factor(2*eta)))"
   ]
  },
  {
   "cell_type": "code",
   "execution_count": 107,
   "metadata": {},
   "outputs": [
    {
     "data": {
      "text/latex": [
       "$\\displaystyle - C + \\sqrt{a_{p}^{2} \\tau_{xyt}^{2} + \\tau_{xxt}^{2}}$"
      ],
      "text/plain": [
       "-C + sqrt(a_p**2*tau_xyt**2 + tau_xxt**2)"
      ]
     },
     "metadata": {},
     "output_type": "display_data"
    }
   ],
   "source": [
    "# plasticity\n",
    "a_p, Txxt, Txyt, C = symbols('a_p, tau_xxt, tau_xyt, C')\n",
    "F = sqrt(Txxt**2 + a_p**2*Txyt**2) - C\n",
    "display(F)"
   ]
  },
  {
   "cell_type": "code",
   "execution_count": 108,
   "metadata": {},
   "outputs": [
    {
     "data": {
      "text/latex": [
       "$\\displaystyle - C + \\sqrt{a_{p}^{2} \\left(- \\frac{2 a_{p}^{2} \\eta \\dot{\\gamma} \\tau_{xyt}}{a_{v} \\sqrt{a_{p}^{2} \\tau_{xyt}^{2} + \\tau_{xxt}^{2}}} + \\tau_{xyt}\\right)^{2} + \\left(- \\frac{2 \\eta \\dot{\\gamma} \\tau_{xxt}}{\\sqrt{a_{p}^{2} \\tau_{xyt}^{2} + \\tau_{xxt}^{2}}} + \\tau_{xxt}\\right)^{2}}$"
      ],
      "text/plain": [
       "-C + sqrt(a_p**2*(-2*a_p**2*eta*gammadot*tau_xyt/(a_v*sqrt(a_p**2*tau_xyt**2 + tau_xxt**2)) + tau_xyt)**2 + (-2*eta*gammadot*tau_xxt/sqrt(a_p**2*tau_xyt**2 + tau_xxt**2) + tau_xxt)**2)"
      ]
     },
     "metadata": {},
     "output_type": "display_data"
    },
    {
     "data": {
      "text/latex": [
       "$\\displaystyle \\frac{- \\frac{2 a_{p}^{4} \\eta \\tau_{xyt} \\left(- \\frac{2 a_{p}^{2} \\eta \\dot{\\gamma} \\tau_{xyt}}{a_{v} \\sqrt{a_{p}^{2} \\tau_{xyt}^{2} + \\tau_{xxt}^{2}}} + \\tau_{xyt}\\right)}{a_{v} \\sqrt{a_{p}^{2} \\tau_{xyt}^{2} + \\tau_{xxt}^{2}}} - \\frac{2 \\eta \\tau_{xxt} \\left(- \\frac{2 \\eta \\dot{\\gamma} \\tau_{xxt}}{\\sqrt{a_{p}^{2} \\tau_{xyt}^{2} + \\tau_{xxt}^{2}}} + \\tau_{xxt}\\right)}{\\sqrt{a_{p}^{2} \\tau_{xyt}^{2} + \\tau_{xxt}^{2}}}}{\\sqrt{a_{p}^{2} \\left(- \\frac{2 a_{p}^{2} \\eta \\dot{\\gamma} \\tau_{xyt}}{a_{v} \\sqrt{a_{p}^{2} \\tau_{xyt}^{2} + \\tau_{xxt}^{2}}} + \\tau_{xyt}\\right)^{2} + \\left(- \\frac{2 \\eta \\dot{\\gamma} \\tau_{xxt}}{\\sqrt{a_{p}^{2} \\tau_{xyt}^{2} + \\tau_{xxt}^{2}}} + \\tau_{xxt}\\right)^{2}}}$"
      ],
      "text/plain": [
       "(-2*a_p**4*eta*tau_xyt*(-2*a_p**2*eta*gammadot*tau_xyt/(a_v*sqrt(a_p**2*tau_xyt**2 + tau_xxt**2)) + tau_xyt)/(a_v*sqrt(a_p**2*tau_xyt**2 + tau_xxt**2)) - 2*eta*tau_xxt*(-2*eta*gammadot*tau_xxt/sqrt(a_p**2*tau_xyt**2 + tau_xxt**2) + tau_xxt)/sqrt(a_p**2*tau_xyt**2 + tau_xxt**2))/sqrt(a_p**2*(-2*a_p**2*eta*gammadot*tau_xyt/(a_v*sqrt(a_p**2*tau_xyt**2 + tau_xxt**2)) + tau_xyt)**2 + (-2*eta*gammadot*tau_xxt/sqrt(a_p**2*tau_xyt**2 + tau_xxt**2) + tau_xxt)**2)"
      ]
     },
     "metadata": {},
     "output_type": "display_data"
    }
   ],
   "source": [
    "gdot = symbols('gammadot')\n",
    "Txxc = Txxt - 2*eta*F.diff(Txxt)*gdot\n",
    "Txyc = Txyt - 2*eta/a_v*F.diff(Txyt)*gdot\n",
    "F = sqrt(Txxc**2 + a_p**2*Txyc**2) - C\n",
    "display(F)\n",
    "display(F.diff(gdot))"
   ]
  },
  {
   "cell_type": "code",
   "execution_count": null,
   "metadata": {},
   "outputs": [],
   "source": []
  }
 ],
 "metadata": {
  "kernelspec": {
   "display_name": "Python 3",
   "language": "python",
   "name": "python3"
  },
  "language_info": {
   "codemirror_mode": {
    "name": "ipython",
    "version": 3
   },
   "file_extension": ".py",
   "mimetype": "text/x-python",
   "name": "python",
   "nbconvert_exporter": "python",
   "pygments_lexer": "ipython3",
   "version": "3.9.6"
  },
  "orig_nbformat": 4
 },
 "nbformat": 4,
 "nbformat_minor": 2
}
