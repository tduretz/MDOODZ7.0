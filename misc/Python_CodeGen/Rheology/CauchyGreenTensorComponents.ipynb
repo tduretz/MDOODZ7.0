{
 "cells": [
  {
   "cell_type": "code",
   "execution_count": 6,
   "metadata": {},
   "outputs": [
    {
     "data": {
      "text/latex": [
       "$\\displaystyle \\left[\\begin{matrix}Fxx^{2} + Fzx^{2} & Fxx Fxz + Fzx Fzz\\\\Fxx Fxz + Fzx Fzz & Fxz^{2} + Fzz^{2}\\end{matrix}\\right]$"
      ],
      "text/plain": [
       "Matrix([\n",
       "[  Fxx**2 + Fzx**2, Fxx*Fxz + Fzx*Fzz],\n",
       "[Fxx*Fxz + Fzx*Fzz,   Fxz**2 + Fzz**2]])"
      ]
     },
     "execution_count": 6,
     "metadata": {},
     "output_type": "execute_result"
    }
   ],
   "source": [
    "from sympy import *\n",
    "\n",
    "Fxx, Fxz, Fzx, Fzz = symbols('Fxx, Fxz, Fzx, Fzz ')\n",
    "F         = Matrix(2,2,[Fxx,Fxz,Fzx,Fzz])\n",
    "# Left Cauchy-Green\n",
    "CG = F.transpose() * F\n",
    "CG"
   ]
  },
  {
   "cell_type": "code",
   "execution_count": null,
   "metadata": {},
   "outputs": [],
   "source": []
  },
  {
   "cell_type": "code",
   "execution_count": null,
   "metadata": {},
   "outputs": [],
   "source": []
  }
 ],
 "metadata": {
  "kernelspec": {
   "display_name": "Python 3",
   "language": "python",
   "name": "python3"
  },
  "language_info": {
   "codemirror_mode": {
    "name": "ipython",
    "version": 3
   },
   "file_extension": ".py",
   "mimetype": "text/x-python",
   "name": "python",
   "nbconvert_exporter": "python",
   "pygments_lexer": "ipython3",
   "version": "3.7.3"
  }
 },
 "nbformat": 4,
 "nbformat_minor": 2
}
