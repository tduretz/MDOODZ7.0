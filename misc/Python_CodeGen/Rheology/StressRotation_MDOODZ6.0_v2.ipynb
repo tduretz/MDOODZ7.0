{
 "cells": [
  {
   "cell_type": "code",
   "execution_count": 6,
   "metadata": {
    "scrolled": true
   },
   "outputs": [
    {
     "name": "stdout",
     "output_type": "stream",
     "text": [
      "nx = Nx*cos(angle) - Nz*sin(angle);\n",
      "nz = Nx*sin(angle) + Nz*cos(angle);\n",
      "particles->sxxd[k] = -(txx*sin(angle) + txz*cos(angle))*sin(angle) + (txx*cos(angle) - txz*sin(angle))*cos(angle);\n",
      "particles->sxz[k]  = (txx*sin(angle) + txz*cos(angle))*cos(angle) + (txx*cos(angle) - txz*sin(angle))*sin(angle);\n"
     ]
    }
   ],
   "source": [
    "from sympy import * \n",
    "import numpy as np \n",
    "init_printing()\n",
    "\n",
    "# Definitions\n",
    "angle, txx, txz, Nx, Nz = symbols( 'angle, txx, txz, Nx, Nz' )\n",
    "R   = Matrix([[cos(angle), -sin(angle)], [sin(angle), cos(angle)]]);\n",
    "T   = Matrix([ [txx, txz], [txz, -txx] ])\n",
    "N   = Matrix([ [Nx], [Nz] ])\n",
    "\n",
    "N1  = R * N \n",
    "\n",
    "# Rotate\n",
    "T1  = R * T * R.transpose()\n",
    "\n",
    "print ('nx = ' + ccode(N1[0] ) + ';')\n",
    "print ('nz = ' + ccode(N1[1] ) + ';')\n",
    "print ('particles->sxxd[k] = ' + ccode(T1[0,0] ) + ';')\n",
    "print ('particles->sxz[k]  = ' + ccode(T1[0,1] ) + ';')"
   ]
  },
  {
   "cell_type": "code",
   "execution_count": 7,
   "metadata": {},
   "outputs": [
    {
     "name": "stdout",
     "output_type": "stream",
     "text": [
      "ndotx = nx*(nx*(e11*nx + e12*nz) + nz*(-e11*nz + e12*nx)) + nz*w12 - (pow(nx, 2) + pow(nz, 2))*(e11*nx + e12*nz);\n",
      "ndotz = -nx*w12 + nz*(nx*(e11*nx + e12*nz) + nz*(-e11*nz + e12*nx)) - (pow(nx, 2) + pow(nz, 2))*(-e11*nz + e12*nx);\n"
     ]
    }
   ],
   "source": [
    "# Update formula for the director vector from Mülhaus\n",
    "w12,e11,e12,nx,nz = symbols('w12,e11,e12,nx,nz')\n",
    "exx, eyy, gxy = symbols('exx, eyy, gxy')\n",
    "W  = Matrix([[  0, w12], [-w12,   0]]);   # vorticity tensor\n",
    "D  = Matrix([[e11, e12], [e12, -e11]]);   # deviatoric strain rate tensor\n",
    "Ev = Matrix([[exx], [eyy], [gxy]] );\n",
    "Director      = Matrix([[nx], [nz]]);\n",
    "sca1          = (Director.transpose()*Director)\n",
    "Director_dot  = W*Director - np.multiply(sca1,D*Director) \n",
    "sca2        = (Director.transpose()*( D*Director));\n",
    "Director_dot  = Director_dot + np.multiply(sca2,Director)\n",
    "print( 'ndotx = ' + ccode(Director_dot[0]) + ';')\n",
    "print( 'ndotz = ' + ccode(Director_dot[1]) + ';')\n",
    "\n",
    "#Director_dot = W*Director - D*Director*(Director'*Director) + (Director'*(D*Director))*Director;\n",
    "\n"
   ]
  },
  {
   "cell_type": "code",
   "execution_count": 8,
   "metadata": {},
   "outputs": [
    {
     "name": "stdout",
     "output_type": "stream",
     "text": [
      "ndotx = 0;\n",
      "ndotz = 0;\n"
     ]
    }
   ],
   "source": [
    "# Numerical application: director is flat\n",
    "w12,e11,e12,nx,nz = symbols('w12,e11,e12,nx,nz')\n",
    "exx, eyy, gxy = symbols('exx, eyy, gxy')\n",
    "# director is flat\n",
    "nx   = 0\n",
    "nz   = 1\n",
    "# simple shear\n",
    "dudx = 0\n",
    "dudy = 1\n",
    "dvdx = 0\n",
    "dvdy = 0\n",
    "e12  = 1/2*(dudy+dvdx)\n",
    "w12  = 1/2*(dudy-dvdx)\n",
    "W  = Matrix([[  0, w12], [-w12,   0]]);   # vorticity tensor\n",
    "D  = Matrix([[e11, e12], [e12, -e11]]);   # deviatoric strain rate tensor\n",
    "Ev = Matrix([[exx], [eyy], [gxy]] );\n",
    "Director      = Matrix([[nx], [nz]]);\n",
    "sca1          = (Director.transpose()*Director)\n",
    "Director_dot  = W*Director - np.multiply(sca1,D*Director) \n",
    "sca2        = (Director.transpose()*( D*Director));\n",
    "Director_dot  = Director_dot + np.multiply(sca2,Director)\n",
    "print( 'ndotx = ' + ccode(Director_dot[0]) + ';')\n",
    "print( 'ndotz = ' + ccode(Director_dot[1]) + ';')"
   ]
  },
  {
   "cell_type": "code",
   "execution_count": 9,
   "metadata": {},
   "outputs": [
    {
     "name": "stdout",
     "output_type": "stream",
     "text": [
      "Matrix([[1]])\n"
     ]
    }
   ],
   "source": [
    "print(Director.transpose()*Director)"
   ]
  },
  {
   "cell_type": "code",
   "execution_count": 11,
   "metadata": {},
   "outputs": [
    {
     "data": {
      "image/png": "[encoded data removed]",
      "text/latex": [
       "$\\displaystyle - 4 deta nx^{2} nz^{2} + 2 etan$"
      ],
      "text/plain": [
       "           2   2         \n",
       "- 4⋅deta⋅nx ⋅nz  + 2⋅etan"
      ]
     },
     "metadata": {},
     "output_type": "display_data"
    },
    {
     "data": {
      "image/png": "[encoded data removed]",
      "text/latex": [
       "$\\displaystyle 2 deta \\left(2 nx^{2} nz^{2} - 0.5\\right) + etan$"
      ],
      "text/plain": [
       "       ⎛    2   2      ⎞       \n",
       "2⋅deta⋅⎝2⋅nx ⋅nz  - 0.5⎠ + etan"
      ]
     },
     "metadata": {},
     "output_type": "display_data"
    },
    {
     "data": {
      "image/png": "[encoded data removed]",
      "text/latex": [
       "$\\displaystyle \\left[\\begin{matrix}- 4 deta nx^{2} nz^{2} + 2 etan & 4 deta nx^{2} nz^{2} & 2 deta \\left(nx^{3} nz - nx nz^{3}\\right)\\\\4 deta nx^{2} nz^{2} & - 4 deta nx^{2} nz^{2} + 2 etan & 2 deta \\left(- nx^{3} nz + nx nz^{3}\\right)\\\\2 deta \\left(nx^{3} nz - nx nz^{3}\\right) & 2 deta \\left(- nx^{3} nz + nx nz^{3}\\right) & 2 deta \\left(2 nx^{2} nz^{2} - 0.5\\right) + etan\\end{matrix}\\right]$"
      ],
      "text/plain": [
       "⎡           2   2                          2   2                  ⎛  3        \n",
       "⎢- 4⋅deta⋅nx ⋅nz  + 2⋅etan        4⋅deta⋅nx ⋅nz            2⋅deta⋅⎝nx ⋅nz - nx\n",
       "⎢                                                                             \n",
       "⎢              2   2                   2   2                     ⎛    3       \n",
       "⎢     4⋅deta⋅nx ⋅nz         - 4⋅deta⋅nx ⋅nz  + 2⋅etan     2⋅deta⋅⎝- nx ⋅nz + n\n",
       "⎢                                                                             \n",
       "⎢       ⎛  3           3⎞          ⎛    3           3⎞         ⎛    2   2     \n",
       "⎣2⋅deta⋅⎝nx ⋅nz - nx⋅nz ⎠   2⋅deta⋅⎝- nx ⋅nz + nx⋅nz ⎠  2⋅deta⋅⎝2⋅nx ⋅nz  - 0.\n",
       "\n",
       "   3⎞    ⎤\n",
       "⋅nz ⎠    ⎥\n",
       "         ⎥\n",
       "    3⎞   ⎥\n",
       "x⋅nz ⎠   ⎥\n",
       "         ⎥\n",
       " ⎞       ⎥\n",
       "5⎠ + etan⎦"
      ]
     },
     "metadata": {},
     "output_type": "display_data"
    },
    {
     "data": {
      "image/png": "[encoded data removed]",
      "text/latex": [
       "$\\displaystyle \\left[\\begin{matrix}4 deta eyy nx^{2} nz^{2} + 2 deta gxy \\left(nx^{3} nz - nx nz^{3}\\right) + exx \\left(- 4 deta nx^{2} nz^{2} + 2 etan\\right)\\\\4 deta exx nx^{2} nz^{2} + 2 deta gxy \\left(- nx^{3} nz + nx nz^{3}\\right) + eyy \\left(- 4 deta nx^{2} nz^{2} + 2 etan\\right)\\\\2 deta exx \\left(nx^{3} nz - nx nz^{3}\\right) + 2 deta eyy \\left(- nx^{3} nz + nx nz^{3}\\right) + gxy \\left(2 deta \\left(2 nx^{2} nz^{2} - 0.5\\right) + etan\\right)\\end{matrix}\\right]$"
      ],
      "text/plain": [
       "⎡                      2   2              ⎛  3           3⎞       ⎛           \n",
       "⎢         4⋅deta⋅eyy⋅nx ⋅nz  + 2⋅deta⋅gxy⋅⎝nx ⋅nz - nx⋅nz ⎠ + exx⋅⎝- 4⋅deta⋅nx\n",
       "⎢                                                                             \n",
       "⎢                     2   2              ⎛    3           3⎞       ⎛          \n",
       "⎢        4⋅deta⋅exx⋅nx ⋅nz  + 2⋅deta⋅gxy⋅⎝- nx ⋅nz + nx⋅nz ⎠ + eyy⋅⎝- 4⋅deta⋅n\n",
       "⎢                                                                             \n",
       "⎢           ⎛  3           3⎞              ⎛    3           3⎞       ⎛       ⎛\n",
       "⎣2⋅deta⋅exx⋅⎝nx ⋅nz - nx⋅nz ⎠ + 2⋅deta⋅eyy⋅⎝- nx ⋅nz + nx⋅nz ⎠ + gxy⋅⎝2⋅deta⋅⎝\n",
       "\n",
       "2   2         ⎞         ⎤\n",
       " ⋅nz  + 2⋅etan⎠         ⎥\n",
       "                        ⎥\n",
       " 2   2         ⎞        ⎥\n",
       "x ⋅nz  + 2⋅etan⎠        ⎥\n",
       "                        ⎥\n",
       "    2   2      ⎞       ⎞⎥\n",
       "2⋅nx ⋅nz  - 0.5⎠ + etan⎠⎦"
      ]
     },
     "metadata": {},
     "output_type": "display_data"
    }
   ],
   "source": [
    "etan,etas,nx,nz,deta  = symbols('etan,etas,nx,nz,deta')\n",
    "a0    = 2*nx**2*nz**2\n",
    "a1    = nx*nz**3 - nx**3*nz\n",
    "c_ani = Matrix([[-a0, a0, -a1], [a0, -a0, a1], [-a1, a1, -1/2+a0]])\n",
    "D_iso = Matrix([[2*etan, 0, 0], [0, 2*etan, 0], [0, 0, etan]])\n",
    "D_ani = 2*deta*c_ani\n",
    "D     = D_iso + D_ani\n",
    "display(D[0,0].simplify())\n",
    "display(D[2,2].simplify())\n",
    "T     = D*Ev\n",
    "display(D)\n",
    "display(T)"
   ]
  },
  {
   "cell_type": "code",
   "execution_count": 66,
   "metadata": {},
   "outputs": [
    {
     "data": {
      "image/png": "[encoded data removed]",
      "text/latex": [
       "$\\displaystyle \\left[\\begin{matrix}2 etan & 0 & 0\\\\0 & 2 etan & 0\\\\0 & 0 & 1.0 etas\\end{matrix}\\right]$"
      ],
      "text/plain": [
       "⎡2⋅etan    0        0    ⎤\n",
       "⎢                        ⎥\n",
       "⎢  0     2⋅etan     0    ⎥\n",
       "⎢                        ⎥\n",
       "⎣  0       0     1.0⋅etas⎦"
      ]
     },
     "metadata": {},
     "output_type": "display_data"
    },
    {
     "data": {
      "image/png": "[encoded data removed]",
      "text/latex": [
       "$\\displaystyle \\left[\\begin{matrix}0 & 0 & 0\\\\0 & 0 & 0\\\\0 & 0 & -0.5\\end{matrix}\\right]$"
      ],
      "text/plain": [
       "⎡0  0   0  ⎤\n",
       "⎢          ⎥\n",
       "⎢0  0   0  ⎥\n",
       "⎢          ⎥\n",
       "⎣0  0  -0.5⎦"
      ]
     },
     "metadata": {},
     "output_type": "display_data"
    }
   ],
   "source": [
    "# Numerical application: director is horizontal (fabric vertical)\n",
    "nx    = -1;\n",
    "nz    = 0;\n",
    "a0    = 2*nx**2*nz**2\n",
    "a1    = nx*nz**3 - nx**3*nz\n",
    "c_ani = Matrix([[-a0, a0, -a1], [a0, -a0, a1], [-a1, a1, -1/2+a0]])\n",
    "D_iso = Matrix([[2*etan, 0, 0], [0, 2*etan, 0], [0, 0, etan]])\n",
    "D_ani = 2*(etan-etas)*c_ani\n",
    "D     = D_iso + D_ani\n",
    "# display(D[0,0].simplify())\n",
    "# display(D[1,1].simplify())\n",
    "# display(D[2,2].simplify())\n",
    "display(D)\n",
    "display(c_ani)"
   ]
  },
  {
   "cell_type": "code",
   "execution_count": 67,
   "metadata": {},
   "outputs": [
    {
     "data": {
      "image/png": "[encoded data removed]",
      "text/latex": [
       "$\\displaystyle \\left[\\begin{matrix}2 etan & 0 & 0\\\\0 & 2 etan & 0\\\\0 & 0 & 1.0 etas\\end{matrix}\\right]$"
      ],
      "text/plain": [
       "⎡2⋅etan    0        0    ⎤\n",
       "⎢                        ⎥\n",
       "⎢  0     2⋅etan     0    ⎥\n",
       "⎢                        ⎥\n",
       "⎣  0       0     1.0⋅etas⎦"
      ]
     },
     "metadata": {},
     "output_type": "display_data"
    },
    {
     "data": {
      "image/png": "[encoded data removed]",
      "text/latex": [
       "$\\displaystyle \\left[\\begin{matrix}0 & 0 & 0\\\\0 & 0 & 0\\\\0 & 0 & -0.5\\end{matrix}\\right]$"
      ],
      "text/plain": [
       "⎡0  0   0  ⎤\n",
       "⎢          ⎥\n",
       "⎢0  0   0  ⎥\n",
       "⎢          ⎥\n",
       "⎣0  0  -0.5⎦"
      ]
     },
     "metadata": {},
     "output_type": "display_data"
    },
    {
     "data": {
      "image/png": "[encoded data removed]",
      "text/latex": [
       "$\\displaystyle \\left[\\begin{matrix}2 etan exx\\\\2 etan eyy\\\\1.0 etas gxy\\end{matrix}\\right]$"
      ],
      "text/plain": [
       "⎡ 2⋅etan⋅exx ⎤\n",
       "⎢            ⎥\n",
       "⎢ 2⋅etan⋅eyy ⎥\n",
       "⎢            ⎥\n",
       "⎣1.0⋅etas⋅gxy⎦"
      ]
     },
     "metadata": {},
     "output_type": "display_data"
    }
   ],
   "source": [
    "# Numerical application: director is vertical (fabric horizontal)\n",
    "nx    = 0#symbols('nx');\n",
    "nz    = 1#symbols('nz');\n",
    "a0    = 2*nx**2*nz**2\n",
    "a1    = nx*nz**3 - nx**3*nz\n",
    "c_ani = Matrix([[-a0, a0, -a1], [a0, -a0, a1], [-a1, a1, -1/2+a0]])\n",
    "D_iso = Matrix([[2*etan, 0, 0], [0, 2*etan, 0], [0, 0, etan]])\n",
    "D_ani = 2*(etan-etas)*c_ani\n",
    "D     = D_iso + D_ani\n",
    "T     = D*Ev\n",
    "# display(D[0,0].simplify())\n",
    "# display(D[1,1].simplify())\n",
    "# display(D[2,2].simplify())\n",
    "display(D)\n",
    "display(c_ani)\n",
    "display(T)"
   ]
  },
  {
   "cell_type": "code",
   "execution_count": 68,
   "metadata": {},
   "outputs": [
    {
     "data": {
      "image/png": "[encoded data removed]",
      "text/latex": [
       "$\\displaystyle 9.0$"
      ],
      "text/plain": [
       "9.0"
      ]
     },
     "metadata": {},
     "output_type": "display_data"
    },
    {
     "data": {
      "image/png": "[encoded data removed]",
      "text/latex": [
       "$\\displaystyle \\left[\\begin{matrix}20 & 0 & 0\\\\0 & 20 & 0\\\\0 & 0 & 1.0\\end{matrix}\\right]$"
      ],
      "text/plain": [
       "⎡20  0    0 ⎤\n",
       "⎢           ⎥\n",
       "⎢0   20   0 ⎥\n",
       "⎢           ⎥\n",
       "⎣0   0   1.0⎦"
      ]
     },
     "metadata": {},
     "output_type": "display_data"
    },
    {
     "data": {
      "image/png": "[encoded data removed]",
      "text/latex": [
       "$\\displaystyle \\left[\\begin{matrix}0 & 0 & 0\\\\0 & 0 & 0\\\\0 & 0 & -0.5\\end{matrix}\\right]$"
      ],
      "text/plain": [
       "⎡0  0   0  ⎤\n",
       "⎢          ⎥\n",
       "⎢0  0   0  ⎥\n",
       "⎢          ⎥\n",
       "⎣0  0  -0.5⎦"
      ]
     },
     "metadata": {},
     "output_type": "display_data"
    },
    {
     "data": {
      "image/png": "[encoded data removed]",
      "text/latex": [
       "$\\displaystyle \\left[\\begin{matrix}0\\\\0\\\\1.0\\end{matrix}\\right]$"
      ],
      "text/plain": [
       "⎡ 0 ⎤\n",
       "⎢   ⎥\n",
       "⎢ 0 ⎥\n",
       "⎢   ⎥\n",
       "⎣1.0⎦"
      ]
     },
     "metadata": {},
     "output_type": "display_data"
    }
   ],
   "source": [
    "# Numerical application: director is oblique -  viscosity is 10 and anisotropy factor is 10 \n",
    "nx    = 1 #symbols('nx');\n",
    "nz    = 0 #symbols('nz');\n",
    "exx   = 0\n",
    "eyy   = 0\n",
    "gxy   = 1\n",
    "etan  = 10;\n",
    "etas  = etan / 10\n",
    "Ev = Matrix([[exx], [eyy], [gxy]] );\n",
    "norm  = sqrt(nx*nx + nz*nz);\n",
    "nx    = nx/norm\n",
    "nz    = nz/norm\n",
    "a0    = 2*nx**2*nz**2\n",
    "a1    = nx*nz**3 - nx**3*nz\n",
    "c_ani = Matrix([[-a0, a0, -a1], [a0, -a0, a1], [-a1, a1, -1/2+a0]])\n",
    "D_iso = Matrix([[2*etan, 0, 0], [0, 2*etan, 0], [0, 0, etan]])\n",
    "D_ani = 2*(etan-etas)*c_ani\n",
    "D     = D_iso + D_ani\n",
    "# display(D[0,0].simplify())\n",
    "# display(D[1,1].simplify())\n",
    "# display(D[2,2].simplify())\n",
    "T     = D*Ev\n",
    "display(etan-etas)\n",
    "display(D)\n",
    "#display(c_ani)\n",
    "display(T)"
   ]
  },
  {
   "cell_type": "code",
   "execution_count": null,
   "metadata": {},
   "outputs": [],
   "source": []
  }
 ],
 "metadata": {
  "kernelspec": {
   "display_name": "Python 3",
   "language": "python",
   "name": "python3"
  },
  "language_info": {
   "codemirror_mode": {
    "name": "ipython",
    "version": 3
   },
   "file_extension": ".py",
   "mimetype": "text/x-python",
   "name": "python",
   "nbconvert_exporter": "python",
   "pygments_lexer": "ipython3",
   "version": "3.7.3"
  }
 },
 "nbformat": 4,
 "nbformat_minor": 2
}
