{
 "cells": [
  {
   "cell_type": "code",
   "execution_count": 1,
   "metadata": {},
   "outputs": [],
   "source": [
    "%reset\n",
    "from sympy import *\n",
    "import numpy as np"
   ]
  },
  {
   "cell_type": "code",
   "execution_count": 12,
   "metadata": {},
   "outputs": [
    {
     "data": {
      "text/latex": [
       "$\\displaystyle \\left[\\begin{matrix}Exx \\eta_{ve}\\\\Eyy \\eta_{ve}\\\\Ezz \\eta_{ve}\\\\\\frac{Exy \\eta_{ve}}{a_{ve}^{2}}\\\\\\frac{Eyx \\eta_{ve}}{a_{ve}^{2}}\\end{matrix}\\right]$"
      ],
      "text/plain": [
       "Matrix([\n",
       "[        Exx*eta_ve],\n",
       "[        Eyy*eta_ve],\n",
       "[        Ezz*eta_ve],\n",
       "[Exy*eta_ve/a_ve**2],\n",
       "[Eyx*eta_ve/a_ve**2]])"
      ]
     },
     "metadata": {},
     "output_type": "display_data"
    },
    {
     "data": {
      "text/latex": [
       "$\\displaystyle - Coh - P am \\sin{\\left(fric \\right)} + \\frac{\\left(Txx a_{1} + Tyy a_{2} + Tzz a_{3}\\right) \\sin{\\left(fric \\right)}}{3} + \\sqrt{\\frac{Txx^{2}}{2} + \\frac{Txy^{2} a_{p}^{2}}{2} + \\frac{Tyx^{2} a_{p}^{2}}{2} + \\frac{Tyy^{2}}{2} + \\frac{Tzz^{2}}{2}}$"
      ],
      "text/plain": [
       "-Coh - P*am*sin(fric) + (Txx*a1 + Tyy*a2 + Tzz*a3)*sin(fric)/3 + sqrt(Txx**2/2 + Txy**2*a_p**2/2 + Tyx**2*a_p**2/2 + Tyy**2/2 + Tzz**2/2)"
      ]
     },
     "metadata": {},
     "output_type": "display_data"
    }
   ],
   "source": [
    "# 1) Define plasticity model\n",
    "a_p, a_ve, am = symbols('a_p, a_ve, am')\n",
    "\n",
    "Diso = Matrix([[1, 0, 0, 0, 0], [0, 1, 0, 0, 0], [0, 0, 1, 0, 0], [0, 0, 0, a_ve**-2, 0], [0, 0, 0, 0, a_ve**-2]])\n",
    "iDpl = Matrix([[1, 0, 0, 0, 0], [0, 1, 0, 0, 0], [0, 0, 1, 0, 0], [0, 0, 0, a_p**2,   0], [0, 0, 0, 0, a_p**2  ]])  # error 1\n",
    "eta_ve, eta_vp, gdot, P, phi, Coh, half = symbols('eta_ve, eta_vp, gdot, P, fric, Coh, half')\n",
    "a1, a2, a3 = symbols('a1, a2, a3')\n",
    "Exx, Eyy, Ezz, Exy, Eyx = symbols('Exx, Eyy, Ezz, Exy, Eyx')\n",
    "Eps = Matrix([[Exx], [Eyy], [Ezz], [Exy], [Eyx]])\n",
    "Tau = eta_ve*Diso*Eps\n",
    "display(Tau)\n",
    "Txx, Tyy, Tzz, Txy, Tyx = symbols('Txx, Tyy, Tzz, Txy, Tyx')\n",
    "Tau = Matrix([[Txx], [Tyy], [Tzz], [Txy], [Tyx]])\n",
    "J2  =  Rational(1,2)*(Tau.transpose() * iDpl * Tau)[0]\n",
    "Ty  = Coh + P*sin(phi)*am -  sin(phi)*( a1*Txx + a2*Tyy + a3*Tzz)*Rational(1,3)\n",
    "# Ty  = Coh + P*sin(phi)*am\n",
    "F   = sqrt( J2 ) - Ty \n",
    "display( F )"
   ]
  },
  {
   "cell_type": "code",
   "execution_count": 13,
   "metadata": {},
   "outputs": [
    {
     "data": {
      "text/latex": [
       "$\\displaystyle \\left[\\begin{matrix}\\dot{g} \\left(\\frac{a_{1} \\sin{\\left(fric \\right)}}{3} + \\frac{Txx}{2 \\sqrt{J_{2}}}\\right)\\\\\\dot{g} \\left(\\frac{a_{2} \\sin{\\left(fric \\right)}}{3} + \\frac{Tyy}{2 \\sqrt{J_{2}}}\\right)\\\\\\dot{g} \\left(\\frac{a_{3} \\sin{\\left(fric \\right)}}{3} + \\frac{Tzz}{2 \\sqrt{J_{2}}}\\right)\\\\\\frac{Txy a_{p}^{2} \\dot{g}}{2 \\sqrt{J_{2}}}\\\\\\frac{Tyx a_{p}^{2} \\dot{g}}{2 \\sqrt{J_{2}}}\\end{matrix}\\right]$"
      ],
      "text/plain": [
       "Matrix([\n",
       "[gdot*(a1*sin(fric)/3 + Txx/(2*sqrt(J2)))],\n",
       "[gdot*(a2*sin(fric)/3 + Tyy/(2*sqrt(J2)))],\n",
       "[gdot*(a3*sin(fric)/3 + Tzz/(2*sqrt(J2)))],\n",
       "[            Txy*a_p**2*gdot/(2*sqrt(J2))],\n",
       "[            Tyx*a_p**2*gdot/(2*sqrt(J2))]])"
      ]
     },
     "metadata": {},
     "output_type": "display_data"
    },
    {
     "data": {
      "text/latex": [
       "$\\displaystyle \\frac{Txy^{2} a_{p}^{2} \\left(1 - \\frac{a_{p}^{2} \\eta_{ve} \\dot{g}}{\\sqrt{J_{2}} a_{ve}^{2}}\\right)^{2}}{2} + \\frac{Tyx^{2} a_{p}^{2} \\left(1 - \\frac{a_{p}^{2} \\eta_{ve} \\dot{g}}{\\sqrt{J_{2}} a_{ve}^{2}}\\right)^{2}}{2} + \\frac{\\left(Txx - 2 \\eta_{ve} \\dot{g} \\left(\\frac{a_{1} \\sin{\\left(fric \\right)}}{3} + \\frac{Txx}{2 \\sqrt{J_{2}}}\\right)\\right)^{2}}{2} + \\frac{\\left(Tyy - 2 \\eta_{ve} \\dot{g} \\left(\\frac{a_{2} \\sin{\\left(fric \\right)}}{3} + \\frac{Tyy}{2 \\sqrt{J_{2}}}\\right)\\right)^{2}}{2} + \\frac{\\left(Tzz - 2 \\eta_{ve} \\dot{g} \\left(\\frac{a_{3} \\sin{\\left(fric \\right)}}{3} + \\frac{Tzz}{2 \\sqrt{J_{2}}}\\right)\\right)^{2}}{2}$"
      ],
      "text/plain": [
       "Txy**2*a_p**2*(1 - a_p**2*eta_ve*gdot/(sqrt(J2)*a_ve**2))**2/2 + Tyx**2*a_p**2*(1 - a_p**2*eta_ve*gdot/(sqrt(J2)*a_ve**2))**2/2 + (Txx - 2*eta_ve*gdot*(a1*sin(fric)/3 + Txx/(2*sqrt(J2))))**2/2 + (Tyy - 2*eta_ve*gdot*(a2*sin(fric)/3 + Tyy/(2*sqrt(J2))))**2/2 + (Tzz - 2*eta_ve*gdot*(a3*sin(fric)/3 + Tzz/(2*sqrt(J2))))**2/2"
      ]
     },
     "metadata": {},
     "output_type": "display_data"
    },
    {
     "data": {
      "text/plain": [
       "'Txy .^ 2 .* a_p .^ 2 .* (1 - a_p .^ 2 .* eta_ve .* gdot ./ (sqrt(J2) .* a_ve .^ 2)) .^ 2 / 2 + Tyx .^ 2 .* a_p .^ 2 .* (1 - a_p .^ 2 .* eta_ve .* gdot ./ (sqrt(J2) .* a_ve .^ 2)) .^ 2 / 2 + (Txx - 2 * eta_ve .* gdot .* (a1 .* sin(fric) / 3 + Txx ./ (2 * sqrt(J2)))) .^ 2 / 2 + (Tyy - 2 * eta_ve .* gdot .* (a2 .* sin(fric) / 3 + Tyy ./ (2 * sqrt(J2)))) .^ 2 / 2 + (Tzz - 2 * eta_ve .* gdot .* (a3 .* sin(fric) / 3 + Tzz ./ (2 * sqrt(J2)))) .^ 2 / 2'"
      ]
     },
     "execution_count": 13,
     "metadata": {},
     "output_type": "execute_result"
    }
   ],
   "source": [
    "# 2) express corrected stress invariant\n",
    "Eps_p =  gdot * Matrix([[F.diff(Txx)], [F.diff(Tyy)], [F.diff(Tzz)], [F.diff(Txy)], [F.diff(Tyx)] ])\n",
    "# dFdTxx, dFdTyy, dFdTzz, dFdTxy, dFdTyx = symbols('dFdTxx, dFdTyy, dFdTzz, dFdTxy, dFdTyx')\n",
    "# Eps_p =  gdot * Matrix([dFdTxx, dFdTyy, dFdTzz, dFdTxy, dFdTyx ])\n",
    "display(Eps_p.subs(J2, 'J2') )\n",
    "# Corrected stress\n",
    "Tau_corr = Tau - 2*eta_ve*Diso*(Eps_p) # Tau = 2*eta_ve*Diso*(Eps - Eps_p)\n",
    "# Simplify: factor out dev. stress components \n",
    "for i in range(5):\n",
    "    Tau_corr[i] = collect(Tau_corr[i], Tau[i])\n",
    "# Invariant\n",
    "J2_corr  = Rational(1,2)*(Tau_corr.transpose() * iDpl * Tau_corr)[0]\n",
    "# Simplify: collect out common factor\n",
    "a = (1-(2*eta_ve*gdot)/sqrt(J2))**2 \n",
    "J2_corr1 = collect(J2_corr, a).subs(J2, 'J2') \n",
    "display(J2_corr1)\n",
    "julia_code(J2_corr1)"
   ]
  },
  {
   "cell_type": "code",
   "execution_count": 4,
   "metadata": {},
   "outputs": [
    {
     "data": {
      "text/latex": [
       "$\\displaystyle \\frac{\\left(Txx a_{1} \\left(- \\frac{\\eta_{ve} \\dot{g}}{\\sqrt{\\frac{Txx^{2}}{2} + \\frac{Txy^{2} a_{p}^{2}}{2} + \\frac{Tyx^{2} a_{p}^{2}}{2} + \\frac{Tyy^{2}}{2} + \\frac{Tzz^{2}}{2}}} + 1\\right) + Tyy a_{2} \\left(- \\frac{\\eta_{ve} \\dot{g}}{\\sqrt{\\frac{Txx^{2}}{2} + \\frac{Txy^{2} a_{p}^{2}}{2} + \\frac{Tyx^{2} a_{p}^{2}}{2} + \\frac{Tyy^{2}}{2} + \\frac{Tzz^{2}}{2}}} + 1\\right) + Tzz a_{3} \\left(- \\frac{\\eta_{ve} \\dot{g}}{\\sqrt{\\frac{Txx^{2}}{2} + \\frac{Txy^{2} a_{p}^{2}}{2} + \\frac{Tyx^{2} a_{p}^{2}}{2} + \\frac{Tyy^{2}}{2} + \\frac{Tzz^{2}}{2}}} + 1\\right)\\right) \\sin{\\left(fric \\right)}}{3}$"
      ],
      "text/plain": [
       "(Txx*a1*(-eta_ve*gdot/sqrt(Txx**2/2 + Txy**2*a_p**2/2 + Tyx**2*a_p**2/2 + Tyy**2/2 + Tzz**2/2) + 1) + Tyy*a2*(-eta_ve*gdot/sqrt(Txx**2/2 + Txy**2*a_p**2/2 + Tyx**2*a_p**2/2 + Tyy**2/2 + Tzz**2/2) + 1) + Tzz*a3*(-eta_ve*gdot/sqrt(Txx**2/2 + Txy**2*a_p**2/2 + Tyx**2*a_p**2/2 + Tyy**2/2 + Tzz**2/2) + 1))*sin(fric)/3"
      ]
     },
     "metadata": {},
     "output_type": "display_data"
    },
    {
     "data": {
      "text/plain": [
       "'(Txx .* a1 .* (-eta_ve .* gdot ./ sqrt(Txx .^ 2 / 2 + Txy .^ 2 .* a_p .^ 2 / 2 + Tyx .^ 2 .* a_p .^ 2 / 2 + Tyy .^ 2 / 2 + Tzz .^ 2 / 2) + 1) + Tyy .* a2 .* (-eta_ve .* gdot ./ sqrt(Txx .^ 2 / 2 + Txy .^ 2 .* a_p .^ 2 / 2 + Tyx .^ 2 .* a_p .^ 2 / 2 + Tyy .^ 2 / 2 + Tzz .^ 2 / 2) + 1) + Tzz .* a3 .* (-eta_ve .* gdot ./ sqrt(Txx .^ 2 / 2 + Txy .^ 2 .* a_p .^ 2 / 2 + Tyx .^ 2 .* a_p .^ 2 / 2 + Tyy .^ 2 / 2 + Tzz .^ 2 / 2) + 1)) .* sin(fric) / 3'"
      ]
     },
     "execution_count": 4,
     "metadata": {},
     "output_type": "execute_result"
    }
   ],
   "source": [
    "J1  = sin(phi)/3*( a1*Txx + a2*Tyy + a3*Tzz)\n",
    "J1c = sin(phi)/3*( a1*Tau_corr[0] + a2*Tau_corr[1] + a3*Tau_corr[2] )\n",
    "display(J1c)\n",
    "julia_code(J1c)"
   ]
  },
  {
   "cell_type": "code",
   "execution_count": 5,
   "metadata": {},
   "outputs": [
    {
     "data": {
      "text/latex": [
       "$\\displaystyle - \\frac{\\eta_{ve}}{\\sqrt{Jii}}$"
      ],
      "text/plain": [
       "-eta_ve/sqrt(Jii)"
      ]
     },
     "metadata": {},
     "output_type": "display_data"
    },
    {
     "data": {
      "text/latex": [
       "$\\displaystyle - \\frac{a_{p}^{2} \\eta_{ve}}{\\sqrt{Jii} a_{ve}^{2}}$"
      ],
      "text/plain": [
       "-a_p**2*eta_ve/(sqrt(Jii)*a_ve**2)"
      ]
     },
     "metadata": {},
     "output_type": "display_data"
    },
    {
     "data": {
      "text/latex": [
       "$\\displaystyle Ji \\frac{d}{d \\dot{g}} \\operatorname{ap}_{n}{\\left(\\dot{g} \\right)} - K am^{2} dt \\sin{\\left(dil \\right)} \\sin{\\left(fric \\right)} - \\eta_{vp} + \\frac{\\frac{a_{p}^{2} \\left(Txy^{2} + Tyx^{2}\\right) \\operatorname{ap}_{s}{\\left(\\dot{g} \\right)} \\frac{d}{d \\dot{g}} \\operatorname{ap}_{s}{\\left(\\dot{g} \\right)}}{2} + \\frac{\\left(Txx^{2} + Tyy^{2} + Tzz^{2}\\right) \\operatorname{ap}_{n}{\\left(\\dot{g} \\right)} \\frac{d}{d \\dot{g}} \\operatorname{ap}_{n}{\\left(\\dot{g} \\right)}}{2}}{\\sqrt{J_{2 corr}}}$"
      ],
      "text/plain": [
       "Ji*Derivative(ap_n(gdot), gdot) - K*am**2*dt*sin(dil)*sin(fric) - eta_vp + (a_p**2*(Txy**2 + Tyx**2)*ap_s(gdot)*Derivative(ap_s(gdot), gdot)/2 + (Txx**2 + Tyy**2 + Tzz**2)*ap_n(gdot)*Derivative(ap_n(gdot), gdot)/2)/sqrt(J2_corr)"
      ]
     },
     "execution_count": 5,
     "metadata": {},
     "output_type": "execute_result"
    }
   ],
   "source": [
    "Ji, Jii, P, fric, K, dt, dil      = symbols('Ji, Jii, P, fric, K, dt, dil')\n",
    "am      = symbols('am')\n",
    "Pc      = P + K*dt*gdot*sin(dil)*am\n",
    "ap_n1   = 1 -          eta_ve * gdot / sqrt(Jii)\n",
    "ap_s1   = 1 - a_p**2 * eta_ve * gdot / (sqrt(Jii)*a_ve**2)\n",
    "# am      =  Rational(1,3) * (a1+a2+a3)\n",
    "\n",
    "display(ap_n1.diff(gdot))\n",
    "display(ap_s1.diff(gdot))\n",
    "dapndgdot = ap_n1.diff(gdot)\n",
    "dapsdgdot = dapndgdot*a_p**2/a_ve**2\n",
    "# apres massage\n",
    "ap_n    = Function('ap_n')(gdot)\n",
    "ap_s    = Function('ap_s')(gdot)\n",
    "J2_corr = Rational(1,2)*( (Txx**2 + Tyy**2 + Tzz**2)*ap_n**2 + a_p**2*(Txy**2 + Tyx**2)*ap_s**2)\n",
    "J1_corr = ap_n*Ji\n",
    "F       = sqrt(J2_corr) - eta_vp*gdot - Pc * am * sin(fric) + J1_corr\n",
    "F.diff(gdot).subs(J2_corr,'J2_corr')\n"
   ]
  },
  {
   "cell_type": "code",
   "execution_count": 6,
   "metadata": {},
   "outputs": [
    {
     "data": {
      "text/latex": [
       "$\\displaystyle \\sqrt{\\frac{a_{p}^{2} \\left(1 - \\frac{a_{p}^{2} \\eta_{ve} \\dot{g}}{\\sqrt{Jii} a_{ve}^{2}}\\right)^{2} \\left(Txy^{2} + Tyx^{2}\\right)}{2} + \\frac{\\left(1 - \\frac{\\eta_{ve} \\dot{g}}{\\sqrt{Jii}}\\right)^{2} \\left(Txx^{2} + Tyy^{2} + Tzz^{2}\\right)}{2}}$"
      ],
      "text/plain": [
       "sqrt(a_p**2*(1 - a_p**2*eta_ve*gdot/(sqrt(Jii)*a_ve**2))**2*(Txy**2 + Tyx**2)/2 + (1 - eta_ve*gdot/sqrt(Jii))**2*(Txx**2 + Tyy**2 + Tzz**2)/2)"
      ]
     },
     "metadata": {},
     "output_type": "display_data"
    }
   ],
   "source": [
    "# try to find analytical solution\n",
    "J2_corr = Rational(1,2)*( (Txx**2 + Tyy**2 + Tzz**2)*ap_n1**2 + a_p**2*(Txy**2 + Tyx**2)*ap_s1**2)\n",
    "F       = sqrt(J2_corr) - 0*eta_vp*gdot - 0*Pc * am * sin(fric) + 0*J1_corr\n",
    "display(F)\n",
    "sol = solve(F,gdot)"
   ]
  },
  {
   "cell_type": "code",
   "execution_count": 7,
   "metadata": {},
   "outputs": [
    {
     "data": {
      "text/plain": [
       "'a_ve .^ 2 .* (Jii .^ (5 // 2) .* (Txx .^ 2 .* a_ve .^ 2 + Txy .^ 2 .* a_p .^ 4 + Tyx .^ 2 .* a_p .^ 4 + Tyy .^ 2 .* a_ve .^ 2 + Tzz .^ 2 .* a_ve .^ 2) + sqrt(-Jii .^ 5 .* a_p .^ 2 .* (Txx .^ 2 .* Txy .^ 2 .* a_p .^ 4 - 2 * Txx .^ 2 .* Txy .^ 2 .* a_p .^ 2 .* a_ve .^ 2 + Txx .^ 2 .* Txy .^ 2 .* a_ve .^ 4 + Txx .^ 2 .* Tyx .^ 2 .* a_p .^ 4 - 2 * Txx .^ 2 .* Tyx .^ 2 .* a_p .^ 2 .* a_ve .^ 2 + Txx .^ 2 .* Tyx .^ 2 .* a_ve .^ 4 + Txy .^ 2 .* Tyy .^ 2 .* a_p .^ 4 - 2 * Txy .^ 2 .* Tyy .^ 2 .* a_p .^ 2 .* a_ve .^ 2 + Txy .^ 2 .* Tyy .^ 2 .* a_ve .^ 4 + Txy .^ 2 .* Tzz .^ 2 .* a_p .^ 4 - 2 * Txy .^ 2 .* Tzz .^ 2 .* a_p .^ 2 .* a_ve .^ 2 + Txy .^ 2 .* Tzz .^ 2 .* a_ve .^ 4 + Tyx .^ 2 .* Tyy .^ 2 .* a_p .^ 4 - 2 * Tyx .^ 2 .* Tyy .^ 2 .* a_p .^ 2 .* a_ve .^ 2 + Tyx .^ 2 .* Tyy .^ 2 .* a_ve .^ 4 + Tyx .^ 2 .* Tzz .^ 2 .* a_p .^ 4 - 2 * Tyx .^ 2 .* Tzz .^ 2 .* a_p .^ 2 .* a_ve .^ 2 + Tyx .^ 2 .* Tzz .^ 2 .* a_ve .^ 4))) ./ (Jii .^ 2 .* eta_ve .* (Txx .^ 2 .* a_ve .^ 4 + Txy .^ 2 .* a_p .^ 6 + Tyx .^ 2 .* a_p .^ 6 + Tyy .^ 2 .* a_ve .^ 4 + Tzz .^ 2 .* a_ve .^ 4))'"
      ]
     },
     "execution_count": 7,
     "metadata": {},
     "output_type": "execute_result"
    }
   ],
   "source": [
    "julia_code(sol[1])"
   ]
  },
  {
   "cell_type": "code",
   "execution_count": null,
   "metadata": {},
   "outputs": [],
   "source": []
  }
 ],
 "metadata": {
  "kernelspec": {
   "display_name": "base",
   "language": "python",
   "name": "python3"
  },
  "language_info": {
   "codemirror_mode": {
    "name": "ipython",
    "version": 3
   },
   "file_extension": ".py",
   "mimetype": "text/x-python",
   "name": "python",
   "nbconvert_exporter": "python",
   "pygments_lexer": "ipython3",
   "version": "3.9.5"
  },
  "orig_nbformat": 4,
  "vscode": {
   "interpreter": {
    "hash": "309baa410e37084482bcba9b39a5b9e635e78b91cd7553c4b48a2d89780d0f88"
   }
  }
 },
 "nbformat": 4,
 "nbformat_minor": 2
}
