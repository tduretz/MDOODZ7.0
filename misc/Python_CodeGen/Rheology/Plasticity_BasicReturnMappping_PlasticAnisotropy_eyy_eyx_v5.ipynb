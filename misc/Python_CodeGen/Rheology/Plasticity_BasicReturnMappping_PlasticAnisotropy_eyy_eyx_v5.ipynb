{
 "cells": [
  {
   "cell_type": "code",
   "execution_count": 26,
   "metadata": {},
   "outputs": [],
   "source": [
    "from sympy import *\n",
    "import numpy as np"
   ]
  },
  {
   "cell_type": "markdown",
   "metadata": {},
   "source": [
    "### Anisotropic Drucker-Prager incompressible with nice simplification + out of plane!"
   ]
  },
  {
   "cell_type": "code",
   "execution_count": 27,
   "metadata": {},
   "outputs": [
    {
     "data": {
      "text/latex": [
       "$\\displaystyle - Coh + \\sqrt{J_{2}} - \\frac{P \\left(a_{1} + a_{2} + a_{3}\\right) \\sin{\\left(fric \\right)}}{3} + \\frac{\\left(Txx a_{1} + Tyy a_{2} + Tzz a_{3}\\right) \\sin{\\left(fric \\right)}}{3}$"
      ],
      "text/plain": [
       "-Coh + sqrt(J2) - P*(a1 + a2 + a3)*sin(fric)/3 + (Txx*a1 + Tyy*a2 + Tzz*a3)*sin(fric)/3"
      ]
     },
     "metadata": {},
     "output_type": "display_data"
    },
    {
     "data": {
      "text/latex": [
       "$\\displaystyle \\frac{Txx^{2}}{2} + \\frac{Txy^{2} a_{p}^{2}}{2} + \\frac{Tyx^{2} a_{p}^{2}}{2} + \\frac{Tyy^{2}}{2} + \\frac{Tzz^{2}}{2}$"
      ],
      "text/plain": [
       "Txx**2/2 + Txy**2*a_p**2/2 + Tyx**2*a_p**2/2 + Tyy**2/2 + Tzz**2/2"
      ]
     },
     "metadata": {},
     "output_type": "display_data"
    }
   ],
   "source": [
    "# 1) Define plasticity model\n",
    "a_p, a_ve = symbols('a_p, a_ve')\n",
    "\n",
    "Diso = Matrix([[1, 0, 0, 0, 0], [0, 1, 0, 0, 0], [0, 0, 1, 0, 0], [0, 0, 0, a_ve**-2, 0], [0, 0, 0, 0, a_ve**-2]])\n",
    "iDpl = Matrix([[1, 0, 0, 0, 0], [0, 1, 0, 0, 0], [0, 0, 1, 0, 0], [0, 0, 0, a_p**2,   0], [0, 0, 0, 0, a_p**2  ]])  # error 1\n",
    "eta_ve, gdot, P, phi, Coh, half = symbols('eta_ve, gdot, P, fric, Coh, half')\n",
    "a1, a2, a3 = symbols('a1, a2, a3')\n",
    "Exx, Eyy, Ezz, Exy, Eyx = symbols('Exx, Eyy, Ezz, Exy, Eyx')\n",
    "Eps = Matrix([[Exx], [Eyy], [Ezz], [Exy], [Eyx]])\n",
    "Tau = eta_ve*Diso*Eps\n",
    "Txx, Tyy, Tzz, Txy, Tyx = symbols('Txx, Tyy, Tzz, Txy, Tyx')\n",
    "Tau = Matrix([[Txx], [Tyy], [Tzz], [Txy], [Tyx]])\n",
    "J2  =  Rational(1,2)*(Tau.transpose() * iDpl * Tau)[0]\n",
    "Ty  = Coh + P*sin(phi)/3*(a1+a2+a3) -  sin(phi)/3*( a1*Txx + a2*Tyy + a3*Tzz)\n",
    "F   = sqrt( J2 ) - Ty \n",
    "display(F.subs(J2, 'J2'))\n",
    "display(J2)"
   ]
  },
  {
   "cell_type": "code",
   "execution_count": 28,
   "metadata": {},
   "outputs": [
    {
     "data": {
      "text/latex": [
       "$\\displaystyle \\frac{Txx}{2 \\sqrt{\\frac{Txx^{2}}{2} + \\frac{Txy^{2} a_{p}^{2}}{2} + \\frac{Tyx^{2} a_{p}^{2}}{2} + \\frac{Tyy^{2}}{2} + \\frac{Tzz^{2}}{2}}} + \\frac{a_{1} \\sin{\\left(fric \\right)}}{3}$"
      ],
      "text/plain": [
       "Txx/(2*sqrt(Txx**2/2 + Txy**2*a_p**2/2 + Tyx**2*a_p**2/2 + Tyy**2/2 + Tzz**2/2)) + a1*sin(fric)/3"
      ]
     },
     "execution_count": 28,
     "metadata": {},
     "output_type": "execute_result"
    }
   ],
   "source": [
    "F.diff(Txx)"
   ]
  },
  {
   "cell_type": "code",
   "execution_count": 37,
   "metadata": {},
   "outputs": [
    {
     "data": {
      "text/latex": [
       "$\\displaystyle \\left[\\begin{matrix}\\dot{g} \\left(\\frac{Txx}{2 \\sqrt{\\frac{Txx^{2}}{2} + \\frac{Txy^{2} a_{p}^{2}}{2} + \\frac{Tyx^{2} a_{p}^{2}}{2} + \\frac{Tyy^{2}}{2} + \\frac{Tzz^{2}}{2}}} + \\frac{a_{1} \\sin{\\left(fric \\right)}}{3}\\right)\\\\\\dot{g} \\left(\\frac{Tyy}{2 \\sqrt{\\frac{Txx^{2}}{2} + \\frac{Txy^{2} a_{p}^{2}}{2} + \\frac{Tyx^{2} a_{p}^{2}}{2} + \\frac{Tyy^{2}}{2} + \\frac{Tzz^{2}}{2}}} + \\frac{a_{2} \\sin{\\left(fric \\right)}}{3}\\right)\\\\\\dot{g} \\left(\\frac{Tzz}{2 \\sqrt{\\frac{Txx^{2}}{2} + \\frac{Txy^{2} a_{p}^{2}}{2} + \\frac{Tyx^{2} a_{p}^{2}}{2} + \\frac{Tyy^{2}}{2} + \\frac{Tzz^{2}}{2}}} + \\frac{a_{3} \\sin{\\left(fric \\right)}}{3}\\right)\\\\\\frac{Txy a_{p}^{2} \\dot{g}}{2 \\sqrt{\\frac{Txx^{2}}{2} + \\frac{Txy^{2} a_{p}^{2}}{2} + \\frac{Tyx^{2} a_{p}^{2}}{2} + \\frac{Tyy^{2}}{2} + \\frac{Tzz^{2}}{2}}}\\\\\\frac{Tyx a_{p}^{2} \\dot{g}}{2 \\sqrt{\\frac{Txx^{2}}{2} + \\frac{Txy^{2} a_{p}^{2}}{2} + \\frac{Tyx^{2} a_{p}^{2}}{2} + \\frac{Tyy^{2}}{2} + \\frac{Tzz^{2}}{2}}}\\end{matrix}\\right]$"
      ],
      "text/plain": [
       "Matrix([\n",
       "[gdot*(Txx/(2*sqrt(Txx**2/2 + Txy**2*a_p**2/2 + Tyx**2*a_p**2/2 + Tyy**2/2 + Tzz**2/2)) + a1*sin(fric)/3)],\n",
       "[gdot*(Tyy/(2*sqrt(Txx**2/2 + Txy**2*a_p**2/2 + Tyx**2*a_p**2/2 + Tyy**2/2 + Tzz**2/2)) + a2*sin(fric)/3)],\n",
       "[gdot*(Tzz/(2*sqrt(Txx**2/2 + Txy**2*a_p**2/2 + Tyx**2*a_p**2/2 + Tyy**2/2 + Tzz**2/2)) + a3*sin(fric)/3)],\n",
       "[            Txy*a_p**2*gdot/(2*sqrt(Txx**2/2 + Txy**2*a_p**2/2 + Tyx**2*a_p**2/2 + Tyy**2/2 + Tzz**2/2))],\n",
       "[            Tyx*a_p**2*gdot/(2*sqrt(Txx**2/2 + Txy**2*a_p**2/2 + Tyx**2*a_p**2/2 + Tyy**2/2 + Tzz**2/2))]])"
      ]
     },
     "metadata": {},
     "output_type": "display_data"
    },
    {
     "data": {
      "text/latex": [
       "$\\displaystyle \\frac{Txy^{2} a_{p}^{2} \\left(- \\frac{a_{p}^{2} \\eta_{ve} \\dot{g}}{a_{ve}^{2} \\sqrt{\\frac{Txx^{2}}{2} + \\frac{Txy^{2} a_{p}^{2}}{2} + \\frac{Tyx^{2} a_{p}^{2}}{2} + \\frac{Tyy^{2}}{2} + \\frac{Tzz^{2}}{2}}} + 1\\right)^{2}}{2} + \\frac{Tyx^{2} a_{p}^{2} \\left(- \\frac{a_{p}^{2} \\eta_{ve} \\dot{g}}{a_{ve}^{2} \\sqrt{\\frac{Txx^{2}}{2} + \\frac{Txy^{2} a_{p}^{2}}{2} + \\frac{Tyx^{2} a_{p}^{2}}{2} + \\frac{Tyy^{2}}{2} + \\frac{Tzz^{2}}{2}}} + 1\\right)^{2}}{2} + \\frac{\\left(Txx - 2 \\eta_{ve} \\dot{g} \\left(\\frac{Txx}{2 \\sqrt{\\frac{Txx^{2}}{2} + \\frac{Txy^{2} a_{p}^{2}}{2} + \\frac{Tyx^{2} a_{p}^{2}}{2} + \\frac{Tyy^{2}}{2} + \\frac{Tzz^{2}}{2}}} + \\frac{a_{1} \\sin{\\left(fric \\right)}}{3}\\right)\\right)^{2}}{2} + \\frac{\\left(Tyy - 2 \\eta_{ve} \\dot{g} \\left(\\frac{Tyy}{2 \\sqrt{\\frac{Txx^{2}}{2} + \\frac{Txy^{2} a_{p}^{2}}{2} + \\frac{Tyx^{2} a_{p}^{2}}{2} + \\frac{Tyy^{2}}{2} + \\frac{Tzz^{2}}{2}}} + \\frac{a_{2} \\sin{\\left(fric \\right)}}{3}\\right)\\right)^{2}}{2} + \\frac{\\left(Tzz - 2 \\eta_{ve} \\dot{g} \\left(\\frac{Tzz}{2 \\sqrt{\\frac{Txx^{2}}{2} + \\frac{Txy^{2} a_{p}^{2}}{2} + \\frac{Tyx^{2} a_{p}^{2}}{2} + \\frac{Tyy^{2}}{2} + \\frac{Tzz^{2}}{2}}} + \\frac{a_{3} \\sin{\\left(fric \\right)}}{3}\\right)\\right)^{2}}{2}$"
      ],
      "text/plain": [
       "Txy**2*a_p**2*(-a_p**2*eta_ve*gdot/(a_ve**2*sqrt(Txx**2/2 + Txy**2*a_p**2/2 + Tyx**2*a_p**2/2 + Tyy**2/2 + Tzz**2/2)) + 1)**2/2 + Tyx**2*a_p**2*(-a_p**2*eta_ve*gdot/(a_ve**2*sqrt(Txx**2/2 + Txy**2*a_p**2/2 + Tyx**2*a_p**2/2 + Tyy**2/2 + Tzz**2/2)) + 1)**2/2 + (Txx - 2*eta_ve*gdot*(Txx/(2*sqrt(Txx**2/2 + Txy**2*a_p**2/2 + Tyx**2*a_p**2/2 + Tyy**2/2 + Tzz**2/2)) + a1*sin(fric)/3))**2/2 + (Tyy - 2*eta_ve*gdot*(Tyy/(2*sqrt(Txx**2/2 + Txy**2*a_p**2/2 + Tyx**2*a_p**2/2 + Tyy**2/2 + Tzz**2/2)) + a2*sin(fric)/3))**2/2 + (Tzz - 2*eta_ve*gdot*(Tzz/(2*sqrt(Txx**2/2 + Txy**2*a_p**2/2 + Tyx**2*a_p**2/2 + Tyy**2/2 + Tzz**2/2)) + a3*sin(fric)/3))**2/2"
      ]
     },
     "metadata": {},
     "output_type": "display_data"
    },
    {
     "data": {
      "text/plain": [
       "'Txy .^ 2 .* a_p .^ 2 .* (-a_p .^ 2 .* eta_ve .* gdot ./ (a_ve .^ 2 .* sqrt(Txx .^ 2 / 2 + Txy .^ 2 .* a_p .^ 2 / 2 + Tyx .^ 2 .* a_p .^ 2 / 2 + Tyy .^ 2 / 2 + Tzz .^ 2 / 2)) + 1) .^ 2 / 2 + Tyx .^ 2 .* a_p .^ 2 .* (-a_p .^ 2 .* eta_ve .* gdot ./ (a_ve .^ 2 .* sqrt(Txx .^ 2 / 2 + Txy .^ 2 .* a_p .^ 2 / 2 + Tyx .^ 2 .* a_p .^ 2 / 2 + Tyy .^ 2 / 2 + Tzz .^ 2 / 2)) + 1) .^ 2 / 2 + (Txx - 2 * eta_ve .* gdot .* (Txx ./ (2 * sqrt(Txx .^ 2 / 2 + Txy .^ 2 .* a_p .^ 2 / 2 + Tyx .^ 2 .* a_p .^ 2 / 2 + Tyy .^ 2 / 2 + Tzz .^ 2 / 2)) + a1 .* sin(fric) / 3)) .^ 2 / 2 + (Tyy - 2 * eta_ve .* gdot .* (Tyy ./ (2 * sqrt(Txx .^ 2 / 2 + Txy .^ 2 .* a_p .^ 2 / 2 + Tyx .^ 2 .* a_p .^ 2 / 2 + Tyy .^ 2 / 2 + Tzz .^ 2 / 2)) + a2 .* sin(fric) / 3)) .^ 2 / 2 + (Tzz - 2 * eta_ve .* gdot .* (Tzz ./ (2 * sqrt(Txx .^ 2 / 2 + Txy .^ 2 .* a_p .^ 2 / 2 + Tyx .^ 2 .* a_p .^ 2 / 2 + Tyy .^ 2 / 2 + Tzz .^ 2 / 2)) + a3 .* sin(fric) / 3)) .^ 2 / 2'"
      ]
     },
     "execution_count": 37,
     "metadata": {},
     "output_type": "execute_result"
    }
   ],
   "source": [
    "# 2) express corrected stress invariant\n",
    "Eps_p =  gdot * Matrix([[F.diff(Txx)], [F.diff(Tyy)], [F.diff(Tzz)], [F.diff(Txy)], [F.diff(Tyx)] ])\n",
    "# dFdTxx, dFdTyy, dFdTzz, dFdTxy, dFdTyx = symbols('dFdTxx, dFdTyy, dFdTzz, dFdTxy, dFdTyx')\n",
    "# Eps_p =  gdot * Matrix([dFdTxx, dFdTyy, dFdTzz, dFdTxy, dFdTyx ])\n",
    "display(Eps_p)\n",
    "# Corrected stress\n",
    "Tau_corr = Tau - 2*eta_ve*Diso*(Eps_p) # Tau      = eta_ve*Diso*(Eps - Eps_p)\n",
    "# Simplify: factor out dev. stress components \n",
    "for i in range(5):\n",
    "    Tau_corr[i] = collect(Tau_corr[i], Tau[i])\n",
    "# Invariant\n",
    "J2_corr  = Rational(1,2)*(Tau_corr.transpose() * iDpl * Tau_corr)[0]\n",
    "# Simplify: collect out common factor\n",
    "a = ( (1-(2*eta_ve*gdot)/sqrt(J2))**2 )\n",
    "J2_corr1 = collect(J2_corr, a)\n",
    "display(J2_corr1)\n",
    "julia_code(J2_corr1)\n"
   ]
  },
  {
   "cell_type": "code",
   "execution_count": 30,
   "metadata": {},
   "outputs": [
    {
     "name": "stdout",
     "output_type": "stream",
     "text": [
      "Txy**2*a_p**2*ap_s**2/2 + Tyx**2*a_p**2*ap_s**2/2 + (Txx - 2*eta_ve*gdot*(a1*sin(fric)/3 + Txx/(2*sqrt(Jii))))**2/2 + (Tyy - 2*eta_ve*gdot*(a2*sin(fric)/3 + Tyy/(2*sqrt(Jii))))**2/2 + (Tzz - 2*eta_ve*gdot*(a3*sin(fric)/3 + Tzz/(2*sqrt(Jii))))**2/2\n"
     ]
    }
   ],
   "source": [
    "Jii, Ji  = symbols('Jii, Ji')\n",
    "g    = J2_corr1.subs(J2, Jii)\n",
    "ap_n = (1 - eta_ve*gdot/sqrt(Jii))\n",
    "ap_s = (1 - a_p**2*eta_ve*gdot/(sqrt(Jii)*a_ve**2))\n",
    "print(g.subs(ap_n, 'ap_n' ).subs(ap_s, 'ap_s' ))"
   ]
  },
  {
   "cell_type": "code",
   "execution_count": 31,
   "metadata": {},
   "outputs": [],
   "source": [
    "J1      = a1*Txx + a2*Tyy + a3*Tzz\n",
    "Txxc    = Tau_corr[0]\n",
    "Tyyc    = Tau_corr[1]\n",
    "Tzzc    = -Txxc-Tyyc\n",
    "J1_corr = a1*Txxc + a2*Tyyc + a3*Tzzc\n"
   ]
  },
  {
   "cell_type": "code",
   "execution_count": 32,
   "metadata": {},
   "outputs": [
    {
     "name": "stdout",
     "output_type": "stream",
     "text": [
      "#----------- JULIA VERSIONS -----------#\n",
      "ap_n = 1 - eta_ve .* gdot ./ sqrt(Jii);\n",
      "\n",
      "ap_s = 1 - a_p .^ 2 .* eta_ve .* gdot ./ (sqrt(Jii) .* a_ve .^ 2);\n",
      "\n",
      "J1_corr = a1 .* (Txx - 2 * eta_ve .* gdot .* (a1 .* sin(fric) / 3 + Txx ./ (2 * sqrt(Jii)))) + a2 .* (Tyy - 2 * eta_ve .* gdot .* (a2 .* sin(fric) / 3 + Tyy ./ (2 * sqrt(Jii)))) + a3 .* (-Txx - Tyy + 2 * eta_ve .* gdot .* (a1 .* sin(fric) / 3 + Txx ./ (2 * sqrt(Jii))) + 2 * eta_ve .* gdot .* (a2 .* sin(fric) / 3 + Tyy ./ (2 * sqrt(Jii))));\n",
      "\n",
      "J2_corr = Txy .^ 2 .* a_p .^ 2 .* ap_s .^ 2 / 2 + Tyx .^ 2 .* a_p .^ 2 .* ap_s .^ 2 / 2 + (Txx - 2 * eta_ve .* gdot .* (a1 .* sin(fric) / 3 + Txx ./ (2 * sqrt(Jii)))) .^ 2 / 2 + (Tyy - 2 * eta_ve .* gdot .* (a2 .* sin(fric) / 3 + Tyy ./ (2 * sqrt(Jii)))) .^ 2 / 2 + (Tzz - 2 * eta_ve .* gdot .* (a3 .* sin(fric) / 3 + Tzz ./ (2 * sqrt(Jii)))) .^ 2 / 2;\n",
      "\n",
      "Fc = -Coh + J1_corr .* sin(fric) / 3 + sqrt(J2_corr) - Pc .* (a1 + a2 + a3) .* sin(fric) / 3 - eta_vp .* gdot;\n",
      "\n",
      "dFdgdot = -K .* dt .* (a1 + a2 + a3) .^ 2 .* sin(dil) .* sin(fric) / 9 - eta_vp + (-2 * a1 .* eta_ve .* (a1 .* sin(fric) / 3 + Txx ./ (2 * sqrt(Jii))) - 2 * a2 .* eta_ve .* (a2 .* sin(fric) / 3 + Tyy ./ (2 * sqrt(Jii))) + a3 .* (2 * eta_ve .* (a1 .* sin(fric) / 3 + Txx ./ (2 * sqrt(Jii))) + 2 * eta_ve .* (a2 .* sin(fric) / 3 + Tyy ./ (2 * sqrt(Jii))))) .* sin(fric) / 3 + (-eta_ve .* (Txx - 2 * eta_ve .* gdot .* (a1 .* sin(fric) / 3 + Txx ./ (2 * sqrt(Jii)))) .* (a1 .* sin(fric) / 3 + Txx ./ (2 * sqrt(Jii))) - eta_ve .* (Tyy - 2 * eta_ve .* gdot .* (a2 .* sin(fric) / 3 + Tyy ./ (2 * sqrt(Jii)))) .* (a2 .* sin(fric) / 3 + Tyy ./ (2 * sqrt(Jii))) - eta_ve .* (Tzz - 2 * eta_ve .* gdot .* (a3 .* sin(fric) / 3 + Tzz ./ (2 * sqrt(Jii)))) .* (a3 .* sin(fric) / 3 + Tzz ./ (2 * sqrt(Jii))) - Txy .^ 2 .* a_p .^ 4 .* ap_s .* eta_ve ./ (2 * sqrt(Jii) .* a_ve .^ 2) - Tyx .^ 2 .* a_p .^ 4 .* ap_s .* eta_ve ./ (2 * sqrt(Jii) .* a_ve .^ 2)) ./ sqrt(J2_corr);\n"
     ]
    }
   ],
   "source": [
    "K, dt, psi, eta_vp = symbols('K, dt, dil, eta_vp')\n",
    "dQdP    = -sin(psi)*Rational(1,3)*(a1+a2+a3)\n",
    "Pc      = P - K*dt*gdot*dQdP\n",
    "Ty      = Coh + Pc*sin(phi)*Rational(1,3)*(a1+a2+a3)  -  sin(phi)*Rational(1,3)*J1_corr + eta_vp*gdot\n",
    "F_corr  = sqrt(J2_corr1) - Ty\n",
    "dFdgdot = F_corr.diff(gdot)\n",
    "print('#----------- JULIA VERSIONS -----------#')\n",
    "print('ap_n = ' + julia_code(ap_n) + ';')\n",
    "print()\n",
    "print('ap_s = ' + julia_code(ap_s) + ';')\n",
    "print()\n",
    "print('J1_corr = ' + julia_code(J1_corr.subs(J2, Jii).subs(J1, Ji).subs(ap_n, 'ap_n' ).subs(ap_s, 'ap_s' )) + ';')\n",
    "print()\n",
    "print('J2_corr = ' + julia_code(J2_corr1.subs(J2, Jii).subs(ap_n, 'ap_n' ).subs(ap_s, 'ap_s' )) + ';')\n",
    "print()\n",
    "print('Fc = ' + julia_code(F_corr.subs(J2_corr, 'J2_corr').subs(J1_corr, 'J1_corr').subs(J1, 'J1').subs(Pc,'Pc')) + ';')\n",
    "print()\n",
    "J2_corr_subs = J2_corr1.subs(J2, Jii).subs(ap_n, 'ap_n' ).subs(ap_s, 'ap_s' )\n",
    "print('dFdgdot = ' + julia_code(dFdgdot.subs(J2, Jii).subs(ap_n, 'ap_n' ).subs(ap_s, 'ap_s' ).subs(J2_corr_subs,'J2_corr').subs(J1_corr, 'J1_corr').subs(J1, 'J1')) + ';')\n",
    "\n",
    "\n",
    "\n"
   ]
  },
  {
   "cell_type": "code",
   "execution_count": null,
   "metadata": {},
   "outputs": [],
   "source": []
  },
  {
   "cell_type": "code",
   "execution_count": 33,
   "metadata": {},
   "outputs": [
    {
     "data": {
      "text/latex": [
       "$\\displaystyle - \\frac{K dt \\left(a_{1} + a_{2} + a_{3}\\right)^{2} \\sin{\\left(dil \\right)} \\sin{\\left(fric \\right)}}{9} - \\eta_{vp} + \\frac{\\left(- 2 a_{1} \\eta_{ve} \\left(\\frac{a_{1} \\sin{\\left(fric \\right)}}{3} + \\frac{Txx}{2 \\sqrt{Jii}}\\right) - 2 a_{2} \\eta_{ve} \\left(\\frac{a_{2} \\sin{\\left(fric \\right)}}{3} + \\frac{Tyy}{2 \\sqrt{Jii}}\\right) + a_{3} \\cdot \\left(2 \\eta_{ve} \\left(\\frac{a_{1} \\sin{\\left(fric \\right)}}{3} + \\frac{Txx}{2 \\sqrt{Jii}}\\right) + 2 \\eta_{ve} \\left(\\frac{a_{2} \\sin{\\left(fric \\right)}}{3} + \\frac{Tyy}{2 \\sqrt{Jii}}\\right)\\right)\\right) \\sin{\\left(fric \\right)}}{3} + \\frac{- \\eta_{ve} \\left(Txx - 2 \\eta_{ve} \\dot{g} \\left(\\frac{a_{1} \\sin{\\left(fric \\right)}}{3} + \\frac{Txx}{2 \\sqrt{Jii}}\\right)\\right) \\left(\\frac{a_{1} \\sin{\\left(fric \\right)}}{3} + \\frac{Txx}{2 \\sqrt{Jii}}\\right) - \\eta_{ve} \\left(Tyy - 2 \\eta_{ve} \\dot{g} \\left(\\frac{a_{2} \\sin{\\left(fric \\right)}}{3} + \\frac{Tyy}{2 \\sqrt{Jii}}\\right)\\right) \\left(\\frac{a_{2} \\sin{\\left(fric \\right)}}{3} + \\frac{Tyy}{2 \\sqrt{Jii}}\\right) - \\eta_{ve} \\left(Tzz - 2 \\eta_{ve} \\dot{g} \\left(\\frac{a_{3} \\sin{\\left(fric \\right)}}{3} + \\frac{Tzz}{2 \\sqrt{Jii}}\\right)\\right) \\left(\\frac{a_{3} \\sin{\\left(fric \\right)}}{3} + \\frac{Tzz}{2 \\sqrt{Jii}}\\right) - \\frac{Txy^{2} a_{p}^{4} ap_{s} \\eta_{ve}}{2 \\sqrt{Jii} a_{ve}^{2}} - \\frac{Tyx^{2} a_{p}^{4} ap_{s} \\eta_{ve}}{2 \\sqrt{Jii} a_{ve}^{2}}}{\\sqrt{J_{2 corr}}}$"
      ],
      "text/plain": [
       "-K*dt*(a1 + a2 + a3)**2*sin(dil)*sin(fric)/9 - eta_vp + (-2*a1*eta_ve*(a1*sin(fric)/3 + Txx/(2*sqrt(Jii))) - 2*a2*eta_ve*(a2*sin(fric)/3 + Tyy/(2*sqrt(Jii))) + a3*(2*eta_ve*(a1*sin(fric)/3 + Txx/(2*sqrt(Jii))) + 2*eta_ve*(a2*sin(fric)/3 + Tyy/(2*sqrt(Jii)))))*sin(fric)/3 + (-eta_ve*(Txx - 2*eta_ve*gdot*(a1*sin(fric)/3 + Txx/(2*sqrt(Jii))))*(a1*sin(fric)/3 + Txx/(2*sqrt(Jii))) - eta_ve*(Tyy - 2*eta_ve*gdot*(a2*sin(fric)/3 + Tyy/(2*sqrt(Jii))))*(a2*sin(fric)/3 + Tyy/(2*sqrt(Jii))) - eta_ve*(Tzz - 2*eta_ve*gdot*(a3*sin(fric)/3 + Tzz/(2*sqrt(Jii))))*(a3*sin(fric)/3 + Tzz/(2*sqrt(Jii))) - Txy**2*a_p**4*ap_s*eta_ve/(2*sqrt(Jii)*a_ve**2) - Tyx**2*a_p**4*ap_s*eta_ve/(2*sqrt(Jii)*a_ve**2))/sqrt(J2_corr)"
      ]
     },
     "metadata": {},
     "output_type": "display_data"
    }
   ],
   "source": [
    "display(dFdgdot.subs(J2, Jii).subs(ap_n, 'ap_n' ).subs(ap_s, 'ap_s' ).subs(J2_corr_subs,'J2_corr').subs(J1_corr, 'J1_corr').subs(J1, 'J1'))"
   ]
  },
  {
   "cell_type": "code",
   "execution_count": 34,
   "metadata": {},
   "outputs": [
    {
     "name": "stdout",
     "output_type": "stream",
     "text": [
      "//----------- C VERSIONS -----------\n",
      "ap_n = 1 - eta_ve*gdot/sqrt(Y2_p);\n",
      "\n",
      "ap_s = 1 - pow(a_p, 2)*eta_ve*gdot/(sqrt(Y2_p)*pow(a_ve, 2));\n",
      "\n",
      "Y1_p_c = a1*(-2*eta_ve*gdot*((1.0/3.0)*a1*sin(fric) + (1.0/2.0)*txx/sqrt(Jii)) + txx) + a2*(-2*eta_ve*gdot*((1.0/3.0)*a2*sin(fric) + (1.0/2.0)*tzz/sqrt(Jii)) + tzz) + a3*(2*eta_ve*gdot*((1.0/3.0)*a1*sin(fric) + (1.0/2.0)*txx/sqrt(Jii)) + 2*eta_ve*gdot*((1.0/3.0)*a2*sin(fric) + (1.0/2.0)*tzz/sqrt(Jii)) - txx - tzz);\n",
      "\n",
      "Y2_p_c = pow(a_p, 2)*pow(ap_s, 2)*pow(txz, 2) + (1.0/2.0)*pow(-2*eta_ve*gdot*((1.0/3.0)*a1*sin(fric) + (1.0/2.0)*txx/sqrt(Jii)) + txx, 2) + (1.0/2.0)*pow(-2*eta_ve*gdot*((1.0/3.0)*a2*sin(fric) + (1.0/2.0)*tzz/sqrt(Jii)) + tzz, 2) + (1.0/2.0)*pow(-2*eta_ve*gdot*((1.0/3.0)*a3*sin(fric) + (1.0/2.0)*tyy/sqrt(Jii)) + tyy, 2);\n",
      "\n",
      "Fc = -Coh - 1.0/3.0*Pc*(a1 + a2 + a3)*sin(fric) + (1.0/3.0)*Y1_p_c*sin(fric) + sqrt(Y2_p_c) - eta_vp*gdot;\n",
      "\n",
      "dFdgdot = -1.0/9.0*K*dt*pow(a1 + a2 + a3, 2)*sin(dil)*sin(fric) - eta_vp + (1.0/3.0)*(-2*a1*eta_ve*((1.0/3.0)*a1*sin(fric) + (1.0/2.0)*txx/sqrt(Y2_p)) - 2*a2*eta_ve*((1.0/3.0)*a2*sin(fric) + (1.0/2.0)*tzz/sqrt(Y2_p)) + a3*(2*eta_ve*((1.0/3.0)*a1*sin(fric) + (1.0/2.0)*txx/sqrt(Y2_p)) + 2*eta_ve*((1.0/3.0)*a2*sin(fric) + (1.0/2.0)*tzz/sqrt(Y2_p))))*sin(fric) + (-eta_ve*((1.0/3.0)*a1*sin(fric) + (1.0/2.0)*txx/sqrt(Y2_p))*(-2*eta_ve*gdot*((1.0/3.0)*a1*sin(fric) + (1.0/2.0)*txx/sqrt(Y2_p)) + txx) - eta_ve*((1.0/3.0)*a2*sin(fric) + (1.0/2.0)*tzz/sqrt(Y2_p))*(-2*eta_ve*gdot*((1.0/3.0)*a2*sin(fric) + (1.0/2.0)*tzz/sqrt(Y2_p)) + tzz) - eta_ve*((1.0/3.0)*a3*sin(fric) + (1.0/2.0)*tyy/sqrt(Y2_p))*(-2*eta_ve*gdot*((1.0/3.0)*a3*sin(fric) + (1.0/2.0)*tyy/sqrt(Y2_p)) + tyy) - pow(a_p, 4)*ap_s*eta_ve*pow(txz, 2)/(sqrt(Y2_p)*pow(a_ve, 2)))/sqrt(Y2_p_c);\n"
     ]
    }
   ],
   "source": [
    "print('//----------- C VERSIONS -----------')\n",
    "Y1_p, Y2_p = symbols('Y1_p,Y2_p')\n",
    "Y1_p_c = symbols('Y1_p_c')\n",
    "print('ap_n = ' + ccode(ap_n.subs(Jii,Y2_p)) + ';')\n",
    "print()\n",
    "print('ap_s = ' + ccode(ap_s.subs(Jii,Y2_p)) + ';')\n",
    "print()\n",
    "print('Y1_p_c = ' + ccode(J1_corr.subs(J2, Jii).subs(J1, Ji).subs(ap_n, 'ap_n' ).subs(ap_s, 'ap_s' ).subs(Txx,'txx').subs(Tyy,'tzz').subs(Tzz,'tyy').subs(Txy,'txz').subs(Tyx,'txz')) + ';')\n",
    "print()\n",
    "print('Y2_p_c = ' + ccode(J2_corr1.subs(J2, Jii).subs(ap_n, 'ap_n' ).subs(ap_s, 'ap_s' ).subs(Txx,'txx').subs(Tyy,'tzz').subs(Tzz,'tyy').subs(Txy,'txz').subs(Tyx,'txz')) + ';')\n",
    "print()\n",
    "print('Fc = ' + ccode(F_corr.subs(J2_corr, 'Y2_p_c').subs(J1_corr, 'Y1_p_c').subs(J1, 'J1').subs(Pc,'Pc')) + ';')\n",
    "print()\n",
    "J2_corr_subs = J2_corr1.subs(J2, Jii).subs(ap_n, 'ap_n' ).subs(ap_s, 'ap_s' )\n",
    "print('dFdgdot = ' + ccode(dFdgdot.subs(J2, Jii).subs(ap_n, 'ap_n' ).subs(ap_s, 'ap_s' ).subs(J2_corr_subs,'Y2_p_c').subs(J1_corr, 'J1_corr').subs(J1, 'J1').subs(J2_corr,'Y2_p_c').subs(Jii, 'Y2_p').subs(Txx,'txx').subs(Tyy,'tzz').subs(Tzz,'tyy').subs(Txy,'txz').subs(Tyx,'txz')) + ';')"
   ]
  },
  {
   "cell_type": "code",
   "execution_count": 35,
   "metadata": {},
   "outputs": [
    {
     "name": "stdout",
     "output_type": "stream",
     "text": [
      "//----------- J VERSIONS -----------\n",
      "ap_n = 1 - eta_ve .* gdot ./ sqrt(Y2_p);\n",
      "\n",
      "ap_s = 1 - a_p .^ 2 .* eta_ve .* gdot ./ (sqrt(Y2_p) .* a_ve .^ 2);\n",
      "\n",
      "Y1_p_c = a1 .* (Txx - 2 * eta_ve .* gdot .* (a1 .* sin(fric) / 3 + Txx ./ (2 * sqrt(Jii)))) + a2 .* (Tyy - 2 * eta_ve .* gdot .* (a2 .* sin(fric) / 3 + Tyy ./ (2 * sqrt(Jii)))) + a3 .* (-Txx - Tyy + 2 * eta_ve .* gdot .* (a1 .* sin(fric) / 3 + Txx ./ (2 * sqrt(Jii))) + 2 * eta_ve .* gdot .* (a2 .* sin(fric) / 3 + Tyy ./ (2 * sqrt(Jii))));\n",
      "\n",
      "Y2_p_c = Txy .^ 2 .* a_p .^ 2 .* ap_s .^ 2 + (Txx - 2 * eta_ve .* gdot .* (a1 .* sin(fric) / 3 + Txx ./ (2 * sqrt(Jii)))) .^ 2 / 2 + (Tyy - 2 * eta_ve .* gdot .* (a2 .* sin(fric) / 3 + Tyy ./ (2 * sqrt(Jii)))) .^ 2 / 2 + (Tzz - 2 * eta_ve .* gdot .* (a3 .* sin(fric) / 3 + Tzz ./ (2 * sqrt(Jii)))) .^ 2 / 2;\n",
      "\n",
      "Fc = -Coh - Pc .* (a1 + a2 + a3) .* sin(fric) / 3 + Y1_p_c .* sin(fric) / 3 + sqrt(Y2_p_c) - eta_vp .* gdot;\n",
      "\n",
      "dFdgdot = -K .* dt .* (a1 + a2 + a3) .^ 2 .* sin(dil) .* sin(fric) / 9 - eta_vp + (-2 * a1 .* eta_ve .* (a1 .* sin(fric) / 3 + txx ./ (2 * sqrt(Y2_p))) - 2 * a2 .* eta_ve .* (a2 .* sin(fric) / 3 + tzz ./ (2 * sqrt(Y2_p))) + a3 .* (2 * eta_ve .* (a1 .* sin(fric) / 3 + txx ./ (2 * sqrt(Y2_p))) + 2 * eta_ve .* (a2 .* sin(fric) / 3 + tzz ./ (2 * sqrt(Y2_p))))) .* sin(fric) / 3 + (-eta_ve .* (a1 .* sin(fric) / 3 + txx ./ (2 * sqrt(Y2_p))) .* (-2 * eta_ve .* gdot .* (a1 .* sin(fric) / 3 + txx ./ (2 * sqrt(Y2_p))) + txx) - eta_ve .* (a2 .* sin(fric) / 3 + tzz ./ (2 * sqrt(Y2_p))) .* (-2 * eta_ve .* gdot .* (a2 .* sin(fric) / 3 + tzz ./ (2 * sqrt(Y2_p))) + tzz) - eta_ve .* (a3 .* sin(fric) / 3 + tyy ./ (2 * sqrt(Y2_p))) .* (-2 * eta_ve .* gdot .* (a3 .* sin(fric) / 3 + tyy ./ (2 * sqrt(Y2_p))) + tyy) - a_p .^ 4 .* ap_s .* eta_ve .* txz .^ 2 ./ (sqrt(Y2_p) .* a_ve .^ 2)) ./ sqrt(Y2_p_c);\n"
     ]
    }
   ],
   "source": [
    "print('//----------- J VERSIONS -----------')\n",
    "Y1_p, Y2_p = symbols('Y1_p,Y2_p')\n",
    "Y1_p_c = symbols('Y1_p_c')\n",
    "print('ap_n = ' + julia_code(ap_n.subs(Jii,Y2_p)) + ';')\n",
    "print()\n",
    "print('ap_s = ' + julia_code(ap_s.subs(Jii,Y2_p)) + ';')\n",
    "print()\n",
    "print('Y1_p_c = ' + julia_code(J1_corr.subs(J2, Jii).subs(J1, Ji).subs(ap_n, 'ap_n' ).subs(ap_s, 'ap_s' ).subs(Txx,'Txx').subs(Tyy,'Tyy').subs(Tzz,'Tzz').subs(Txy,'Txy').subs(Tyx,'Txy')) + ';')\n",
    "print()\n",
    "print('Y2_p_c = ' + julia_code(J2_corr1.subs(J2, Jii).subs(ap_n, 'ap_n' ).subs(ap_s, 'ap_s' ).subs(Txx,'Txx').subs(Tyy,'Tyy').subs(Tzz,'Tzz').subs(Txy,'Txy').subs(Tyx,'Txy')) + ';')\n",
    "print()\n",
    "print('Fc = ' + julia_code(F_corr.subs(J2_corr, 'Y2_p_c').subs(J1_corr, 'Y1_p_c').subs(J1, 'J1').subs(Pc,'Pc')) + ';')\n",
    "print()\n",
    "J2_corr_subs = J2_corr1.subs(J2, Jii).subs(ap_n, 'ap_n' ).subs(ap_s, 'ap_s' )\n",
    "print('dFdgdot = ' + julia_code(dFdgdot.subs(J2, Jii).subs(ap_n, 'ap_n' ).subs(ap_s, 'ap_s' ).subs(J2_corr_subs,'Y2_p_c').subs(J1_corr, 'J1_corr').subs(J1, 'J1').subs(J2_corr,'Y2_p_c').subs(Jii, 'Y2_p').subs(Txx,'txx').subs(Tyy,'tzz').subs(Tzz,'tyy').subs(Txy,'txz').subs(Tyx,'txz')) + ';')"
   ]
  },
  {
   "cell_type": "code",
   "execution_count": 36,
   "metadata": {},
   "outputs": [],
   "source": [
    "# try Picard"
   ]
  }
 ],
 "metadata": {
  "kernelspec": {
   "display_name": "Python 3.9.5 ('base')",
   "language": "python",
   "name": "python3"
  },
  "language_info": {
   "codemirror_mode": {
    "name": "ipython",
    "version": 3
   },
   "file_extension": ".py",
   "mimetype": "text/x-python",
   "name": "python",
   "nbconvert_exporter": "python",
   "pygments_lexer": "ipython3",
   "version": "3.9.5"
  },
  "orig_nbformat": 4,
  "vscode": {
   "interpreter": {
    "hash": "309baa410e37084482bcba9b39a5b9e635e78b91cd7553c4b48a2d89780d0f88"
   }
  }
 },
 "nbformat": 4,
 "nbformat_minor": 2
}
