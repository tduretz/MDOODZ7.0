{
 "cells": [
  {
   "cell_type": "code",
   "execution_count": 888,
   "metadata": {},
   "outputs": [],
   "source": [
    "from sympy import symbols, sqrt, exp, log, ccode, solve, Function\n",
    "elastic, eta_el, f_ani     = symbols('elastic, eta_el, f_ani')\n",
    "Ag, lam, gam, cg, Tii, pg  = symbols('Ag, lambda, gamma, c, Tii, p')\n",
    "Eii_pwl, Eii_exp, Eii_gbs, Eii_pl, Eii = symbols('Eii_pwl, Eii_exp, Eii_gbs, Eii_pl, Eii')\n",
    "C_lin, n_lin, m_lin, C_pwl, n_pwl = symbols('C_lin, n_lin, m_lin, C_pwl, n_pwl')\n",
    "d1, eta_ve = symbols('d1, eta_ve')\n",
    "Bg    = symbols('Bg')"
   ]
  },
  {
   "cell_type": "code",
   "execution_count": 889,
   "metadata": {},
   "outputs": [
    {
     "data": {
      "text/latex": [
       "$\\displaystyle 0$"
      ],
      "text/plain": [
       "0"
      ]
     },
     "execution_count": 889,
     "metadata": {},
     "output_type": "execute_result"
    }
   ],
   "source": [
    "# Dissipation\n",
    "Exx, Eyy, Exy  = symbols('Exx, Eyy, Exy')\n",
    "Txx  = 2*eta_ve*Exx\n",
    "Tyy  = 2*eta_ve*Eyy\n",
    "Txy  = 2*eta_ve*Exy\n",
    "W    = Txx*Exx + Tyy*Eyy + 2*Txy*Exy\n",
    "Eii2 = 1/2*(Exx**2 + Eyy**2) + Exy**2\n",
    "Tii2 = 1/2*(Txx**2 + Tyy**2) + Txy**2\n",
    "(W - (4*eta_ve*Eii2)).simplify()  "
   ]
  },
  {
   "cell_type": "code",
   "execution_count": 890,
   "metadata": {},
   "outputs": [
    {
     "data": {
      "text/latex": [
       "$\\displaystyle 0$"
      ],
      "text/plain": [
       "0"
      ]
     },
     "metadata": {},
     "output_type": "display_data"
    },
    {
     "data": {
      "text/latex": [
       "$\\displaystyle 0$"
      ],
      "text/plain": [
       "0"
      ]
     },
     "metadata": {},
     "output_type": "display_data"
    }
   ],
   "source": [
    "# Dissipation\n",
    "Exx, Eyy, Exy  = symbols('Exx, Eyy, Exy')\n",
    "Exx_pwl, Eyy_pwl, Exy_pwl  = symbols('Exx_pwl, Eyy_pwl, Exy_pwl')\n",
    "Txx  = 2*eta_ve*Exx\n",
    "Tyy  = 2*eta_ve*Eyy\n",
    "Txy  = 2*eta_ve*Exy\n",
    "W    = Txx*Exx_pwl + Tyy*Eyy_pwl + 2*Txy*Exy_pwl\n",
    "W1   = 4*eta_ve*(1/2*(Exx*Exx_pwl + Eyy*Eyy_pwl) + Exy*Exy_pwl)\n",
    "display((W - W1).simplify()) \n",
    "# Using normality rule\n",
    "Exx_pwl = Txx*Eii_pwl/Tii\n",
    "Eyy_pwl = Tyy*Eii_pwl/Tii\n",
    "Exy_pwl = Txy*Eii_pwl/Tii\n",
    "W       = Txx*Exx_pwl + Tyy*Eyy_pwl + 2*Txy*Exy_pwl\n",
    "W1      = 2*Eii_pwl*Tii2/Tii\n",
    "# W1   = 2*Eii_pwl*Tii <----------------\n",
    "display((W - W1).simplify())  #.subs(Tii, sqrt(Tii2))"
   ]
  },
  {
   "cell_type": "code",
   "execution_count": 891,
   "metadata": {},
   "outputs": [
    {
     "data": {
      "text/latex": [
       "$\\displaystyle 4 \\eta_{ve}^{2} \\cdot \\left(0.5 Exx^{2} + Exy^{2} + 0.5 Eyy^{2}\\right)$"
      ],
      "text/plain": [
       "4*eta_ve**2*(0.5*Exx**2 + Exy**2 + 0.5*Eyy**2)"
      ]
     },
     "metadata": {},
     "output_type": "display_data"
    },
    {
     "data": {
      "text/latex": [
       "$\\displaystyle 2.0 Exx^{2} \\eta_{ve}^{2} + 4 Exy^{2} \\eta_{ve}^{2} + 2.0 Eyy^{2} \\eta_{ve}^{2}$"
      ],
      "text/plain": [
       "2.0*Exx**2*eta_ve**2 + 4*Exy**2*eta_ve**2 + 2.0*Eyy**2*eta_ve**2"
      ]
     },
     "metadata": {},
     "output_type": "display_data"
    },
    {
     "data": {
      "text/latex": [
       "$\\displaystyle 0$"
      ],
      "text/plain": [
       "0"
      ]
     },
     "metadata": {},
     "output_type": "display_data"
    }
   ],
   "source": [
    "display(4*eta_ve**2*Eii2)\n",
    "display(Tii2)\n",
    "display((4*eta_ve**2*Eii2- Tii2).simplify())"
   ]
  },
  {
   "cell_type": "code",
   "execution_count": 892,
   "metadata": {},
   "outputs": [
    {
     "name": "stdout",
     "output_type": "stream",
     "text": [
      "(4*Bg*Eii_pwl**2*eta_ve*p/Ag)**(-1/(p + 1))\n"
     ]
    },
    {
     "data": {
      "text/latex": [
       "$\\displaystyle \\left(\\frac{4 Bg Eii_{pwl}^{2} \\eta_{ve} p}{Ag}\\right)^{- \\frac{1}{p + 1}}$"
      ],
      "text/plain": [
       "(4*Bg*Eii_pwl**2*eta_ve*p/Ag)**(-1/(p + 1))"
      ]
     },
     "metadata": {},
     "output_type": "display_data"
    }
   ],
   "source": [
    "# Solve for steady state grain size\n",
    "Tii   = 2*eta_ve*Eii\n",
    "W_pwl = Tii * Eii_pwl \n",
    "W_pwl = 4 * eta_ve * Eii_pwl**2\n",
    "dddt  = 0\n",
    "beta  = 1\n",
    "Bg    = symbols('Bg')\n",
    "# Bg   = beta*lam/cg/gam\n",
    "d     = symbols('d')  \n",
    "F     = dddt - (Bg * W_pwl *d**2) + Ag/pg*d**(1-pg)\n",
    "d2    = solve(F,d)[0]\n",
    "print(d2)\n",
    "display(d2)"
   ]
  },
  {
   "cell_type": "code",
   "execution_count": 893,
   "metadata": {},
   "outputs": [
    {
     "name": "stdout",
     "output_type": "stream",
     "text": [
      "dddeta      = -1.0/4.0*Ag*d*pow(2*Eii*eta_ve, -2*n_pwl)*(8*Bg*pow(C_pwl, 2)*n_pwl*p*pow(2*Eii*eta_ve, 2*n_pwl)/Ag + 4*Bg*pow(C_pwl, 2)*p*pow(2*Eii*eta_ve, 2*n_pwl)/Ag)/(Bg*pow(C_pwl, 2)*eta_ve*p*(p + 1));\n",
      "dr_eta_deta = -1.0*Eii*elastic/eta_el - Eii_lin*n_lin/eta_ve + Eii_lin*dddeta*m_lin/d - Eii_pwl*n_pwl/eta_ve;\n"
     ]
    },
    {
     "data": {
      "text/latex": [
       "$\\displaystyle - \\frac{Ag d \\left(2 Eii \\eta_{ve}\\right)^{- 2 n_{pwl}} \\left(\\frac{8 Bg C_{pwl}^{2} n_{pwl} p \\left(2 Eii \\eta_{ve}\\right)^{2 n_{pwl}}}{Ag} + \\frac{4 Bg C_{pwl}^{2} p \\left(2 Eii \\eta_{ve}\\right)^{2 n_{pwl}}}{Ag}\\right)}{4 Bg C_{pwl}^{2} \\eta_{ve} p \\left(p + 1\\right)}$"
      ],
      "text/plain": [
       "-Ag*d*(8*Bg*C_pwl**2*n_pwl*p*(2*Eii*eta_ve)**(2*n_pwl)/Ag + 4*Bg*C_pwl**2*p*(2*Eii*eta_ve)**(2*n_pwl)/Ag)/(4*Bg*C_pwl**2*eta_ve*p*(2*Eii*eta_ve)**(2*n_pwl)*(p + 1))"
      ]
     },
     "metadata": {},
     "output_type": "display_data"
    },
    {
     "data": {
      "text/latex": [
       "$\\displaystyle - \\frac{1.0 Eii elastic}{\\eta_{el}} + \\frac{Eii_{lin} m_{lin} \\frac{d}{d \\eta_{ve}} d{\\left(\\eta_{ve} \\right)}}{d{\\left(\\eta_{ve} \\right)}} - \\frac{Eii_{lin} n_{lin}}{\\eta_{ve}} - \\frac{Eii_{pwl} n_{pwl}}{\\eta_{ve}}$"
      ],
      "text/plain": [
       "-1.0*Eii*elastic/eta_el + Eii_lin*m_lin*Derivative(d(eta_ve), eta_ve)/d(eta_ve) - Eii_lin*n_lin/eta_ve - Eii_pwl*n_pwl/eta_ve"
      ]
     },
     "metadata": {},
     "output_type": "display_data"
    }
   ],
   "source": [
    "# Single residual version\n",
    "d3          = d2.subs(Eii_pwl, C_pwl * pow(Tii, n_pwl))\n",
    "d4          = Function('d')(eta_ve)\n",
    "Eii_pwl     = C_pwl * pow(Tii, n_pwl    )\n",
    "Eii_lin     = C_lin * pow(Tii, n_lin) * pow(d4,-m_lin)\n",
    "Eii_vis     = Eii_pwl + Eii_lin + Eii_exp + Eii_gbs\n",
    "r_eta_ve    = Eii - elastic*Tii/(2.0*eta_el) - Eii_vis\n",
    "dr_deta     = r_eta_ve.diff(eta_ve) \n",
    "print('dddeta      = ' + ccode(d3.diff(eta_ve).subs(d3, 'd')) + ';')\n",
    "print('dr_eta_deta = ' + ccode(dr_deta.subs(Eii_lin,'Eii_lin').subs(Eii_pwl,'Eii_pwl').subs(d4.diff(eta_ve), 'dddeta').subs(d4,'d')) + ';' )\n",
    "\n",
    "display(d3.diff(eta_ve).subs(d3, 'd'))\n",
    "display(dr_deta.subs(Eii_lin,'Eii_lin').subs(Eii_pwl,'Eii_pwl').subs(d3.diff(eta_ve), 'dddeta'))\n"
   ]
  },
  {
   "cell_type": "code",
   "execution_count": 894,
   "metadata": {},
   "outputs": [],
   "source": [
    "# Define the two residuals\n",
    "Tii      = 2*eta_ve*Eii\n",
    "Eii_pwl  = C_pwl * pow(Tii, n_pwl    )\n",
    "Eii_lin  = C_lin * pow(Tii, n_lin) * pow(d1,-m_lin)\n",
    "d_it     = exp(log( Ag *gam/(lam*(1.0/cg)* Tii * Eii_pwl*pg))/(1.0+pg))\n",
    "Eii_vis  = Eii_pwl + Eii_lin + Eii_exp + Eii_gbs\n",
    "r_eta_ve = Eii - elastic*Tii/(2.0*eta_el) - Eii_vis\n",
    "r_d      = d1 - d_it"
   ]
  },
  {
   "cell_type": "code",
   "execution_count": 895,
   "metadata": {},
   "outputs": [
    {
     "name": "stdout",
     "output_type": "stream",
     "text": [
      "dr_eta_deta = -1.0*Eii*elastic/eta_el - Eii_lin*n_lin/eta_ve - Eii_pwl*n_pwl/eta_ve;\n",
      "dr_eta_dd   = Eii_lin*m_lin/d1;\n",
      "dr_d_deta   = -2.0*Eii*Eii_pwl*d_it*eta_ve*lambda*p*(-0.5*Ag*c*gamma*n_pwl/(Eii*Eii_pwl*pow(eta_ve, 2)*lambda*p) - 0.5*Ag*c*gamma/(Eii*Eii_pwl*pow(eta_ve, 2)*lambda*p))/(Ag*c*gamma*(p + 1.0));\n",
      "dr_d_dd     = 1;\n"
     ]
    }
   ],
   "source": [
    "# Jacobian\n",
    "dr_eta_deta = r_eta_ve.diff(eta_ve) \n",
    "dr_eta_dd   = r_eta_ve.diff(d1) \n",
    "dr_d_deta   = r_d.diff(eta_ve) \n",
    "dr_d_dd     = r_d.diff(d1)\n",
    "print('dr_eta_deta = ' +  ccode(dr_eta_deta.subs(Eii_lin,'Eii_lin').subs(Eii_pwl,'Eii_pwl')) + ';' )\n",
    "print('dr_eta_dd   = ' +  ccode(dr_eta_dd.subs(Eii_lin,'Eii_lin')) + ';' )\n",
    "print('dr_d_deta   = ' +  ccode(dr_d_deta.subs(d_it,'d_it').subs(Eii_pwl,'Eii_pwl').subs(Eii_lin,'Eii_lin')) + ';' )\n",
    "print('dr_d_dd     = ' +  ccode(dr_d_dd.subs(Eii_lin,'Eii_lin')) + ';' )"
   ]
  },
  {
   "cell_type": "code",
   "execution_count": null,
   "metadata": {},
   "outputs": [],
   "source": []
  }
 ],
 "metadata": {
  "interpreter": {
   "hash": "c8364b0fb7479dc94b0c24ab2a5292d01c2912f237aa8319c6d135d5547fe183"
  },
  "kernelspec": {
   "display_name": "Julia 1.7.2",
   "language": "python",
   "name": "python3"
  },
  "language_info": {
   "codemirror_mode": {
    "name": "ipython",
    "version": 3
   },
   "file_extension": ".py",
   "mimetype": "text/x-python",
   "name": "python",
   "nbconvert_exporter": "python",
   "pygments_lexer": "ipython3",
   "version": "3.9.6"
  },
  "orig_nbformat": 4
 },
 "nbformat": 4,
 "nbformat_minor": 2
}
