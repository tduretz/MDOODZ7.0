{
 "cells": [
  {
   "cell_type": "code",
   "execution_count": 45,
   "metadata": {},
   "outputs": [],
   "source": [
    "from sympy import symbols, exp, log, ccode\n",
    "elastic, eta_el, f_ani     = symbols('elastic, eta_el, f_ani')\n",
    "Ag, lam, gam, cg, Tii, pg  = symbols('Ag, lam, gam, cg, Tii, pg')\n",
    "Eii_pwl, Eii_exp, Eii_gbs, Eii_pl, Eii = symbols('Eii_pwl, Eii_exp, Eii_gbs, Eii_pl, Eii')\n",
    "C_lin, n_lin, m_lin, C_pwl, n_pwl = symbols('C_lin, n_lin, m_lin, C_pwl, n_pwl')\n",
    "d1, eta_ve = symbols('d1, eta_ve')"
   ]
  },
  {
   "cell_type": "code",
   "execution_count": 46,
   "metadata": {},
   "outputs": [],
   "source": [
    "# Define the two residuals\n",
    "Tii      = 2*f_ani*eta_ve*Eii\n",
    "Eii_pwl  = C_pwl * pow(Tii, n_pwl    )\n",
    "Eii_lin  = C_lin * pow(Tii, n_lin) * pow(d1,-m_lin)\n",
    "d_it     = exp(log( Ag *gam/(lam*(1.0/cg)* Tii *(Eii_pwl)*pg))/(1.0+pg))\n",
    "Eii_vis  = Eii_pwl + Eii_lin + Eii_exp + Eii_gbs\n",
    "r_eta_ve = Eii - elastic*Tii/f_ani/(2.0*eta_el) - Eii_vis\n",
    "r_d      = d1 - d_it"
   ]
  },
  {
   "cell_type": "code",
   "execution_count": 47,
   "metadata": {},
   "outputs": [
    {
     "name": "stdout",
     "output_type": "stream",
     "text": [
      "dr_eta_deta = -1.0*Eii*elastic/eta_el - Eii_lin*n_lin/eta_ve - Eii_pwl*n_pwl/eta_ve;\n",
      "dr_eta_dd   = Eii_lin*m_lin/d1;\n",
      "dr_d_deta   = -2.0*Eii*Eii_pwl*d_it*eta_ve*f_ani*lam*pg*(-0.5*Ag*cg*gam*n_pwl/(Eii*Eii_pwl*pow(eta_ve, 2)*f_ani*lam*pg) - 0.5*Ag*cg*gam/(Eii*Eii_pwl*pow(eta_ve, 2)*f_ani*lam*pg))/(Ag*cg*gam*(pg + 1.0));\n",
      "dr_d_dd     = 1;\n"
     ]
    }
   ],
   "source": [
    "# Jacobian\n",
    "dr_eta_deta = r_eta_ve.diff(eta_ve) \n",
    "dr_eta_dd   = r_eta_ve.diff(d1) \n",
    "dr_d_deta   = r_d.diff(eta_ve) \n",
    "dr_d_dd     = r_d.diff(d1)\n",
    "print('dr_eta_deta = ' +  ccode(dr_eta_deta.subs(Eii_lin,'Eii_lin').subs(Eii_pwl,'Eii_pwl')) + ';' )\n",
    "print('dr_eta_dd   = ' +  ccode(dr_eta_dd.subs(Eii_lin,'Eii_lin')) + ';' )\n",
    "print('dr_d_deta   = ' +  ccode(dr_d_deta.subs(d_it,'d_it').subs(Eii_pwl,'Eii_pwl').subs(Eii_lin,'Eii_lin')) + ';' )\n",
    "print('dr_d_dd     = ' +  ccode(dr_d_dd.subs(Eii_lin,'Eii_lin')) + ';' )"
   ]
  },
  {
   "cell_type": "code",
   "execution_count": null,
   "metadata": {},
   "outputs": [],
   "source": []
  }
 ],
 "metadata": {
  "interpreter": {
   "hash": "c8364b0fb7479dc94b0c24ab2a5292d01c2912f237aa8319c6d135d5547fe183"
  },
  "kernelspec": {
   "display_name": "Julia 1.7.2",
   "language": "python",
   "name": "python3"
  },
  "language_info": {
   "codemirror_mode": {
    "name": "ipython",
    "version": 3
   },
   "file_extension": ".py",
   "mimetype": "text/x-python",
   "name": "python",
   "nbconvert_exporter": "python",
   "pygments_lexer": "ipython3",
   "version": "3.7.4"
  },
  "orig_nbformat": 4
 },
 "nbformat": 4,
 "nbformat_minor": 2
}
