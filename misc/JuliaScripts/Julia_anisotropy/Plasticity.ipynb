{
 "cells": [
  {
   "cell_type": "code",
   "execution_count": 144,
   "metadata": {},
   "outputs": [],
   "source": [
    "from sympy import *\n",
    "tii, Coh, fric, dil, P = symbols('tau_ii, Coh, fric, dil, P')\n",
    "a1, a2, a3, am = symbols('a1, a2, a3, am')\n",
    "txx, tyy, tzz, txy = symbols('txx, tyy, tzz, txy ')\n",
    "eta_ve, K, dt, gdot = symbols('eta_ve, K, dt, gdot')"
   ]
  },
  {
   "cell_type": "code",
   "execution_count": 145,
   "metadata": {},
   "outputs": [],
   "source": [
    "Ft = tii - Coh - P*sin(fric)*am +  sin(fric)*( a1*txx + a2*tyy + a3*tzz)/3\n",
    "Gt = tii - Coh - P*sin(dil) *am +  sin(dil) *( a1*txx + a2*tyy + a3*tzz)/3"
   ]
  },
  {
   "cell_type": "code",
   "execution_count": 146,
   "metadata": {},
   "outputs": [
    {
     "data": {
      "text/latex": [
       "$\\displaystyle \\frac{a_{1} \\sin{\\left(dil \\right)}}{3}$"
      ],
      "text/plain": [
       "a1*sin(dil)/3"
      ]
     },
     "execution_count": 146,
     "metadata": {},
     "output_type": "execute_result"
    }
   ],
   "source": [
    "tii1 = sqrt(1/2**2 + 1/2*tyy**2 + 1/2*tzz**2 + txy**2)\n",
    "Gt1 = tii1 - Coh - P*sin(dil) *am +  sin(dil) *( a1*txx + a2*tyy + a3*tzz)/3\n",
    "Gt1.diff(txx)"
   ]
  },
  {
   "cell_type": "code",
   "execution_count": 147,
   "metadata": {},
   "outputs": [
    {
     "data": {
      "text/latex": [
       "$\\displaystyle \\frac{3 \\tau_{ii} \\left(- 3 Coh \\cos{\\left(fric \\right)} - 3 P am \\sin{\\left(fric \\right)} + a_{1} txx \\sin{\\left(fric \\right)} + a_{2} tyy \\sin{\\left(fric \\right)} - a_{3} txx \\sin{\\left(fric \\right)} - a_{3} tyy \\sin{\\left(fric \\right)} + 3 \\tau_{ii}\\right)}{9 K am dt \\tau_{ii} \\sin{\\left(dil \\right)} \\sin{\\left(fric \\right)} + 2 a_{1}^{2} \\eta_{ve} \\tau_{ii} \\sin{\\left(dil \\right)} \\sin{\\left(fric \\right)} - 2 a_{1} a_{3} \\eta_{ve} \\tau_{ii} \\sin{\\left(dil \\right)} \\sin{\\left(fric \\right)} + 3 a_{1} \\eta_{ve} txx \\sin{\\left(fric \\right)} + 2 a_{2}^{2} \\eta_{ve} \\tau_{ii} \\sin{\\left(dil \\right)} \\sin{\\left(fric \\right)} - 2 a_{2} a_{3} \\eta_{ve} \\tau_{ii} \\sin{\\left(dil \\right)} \\sin{\\left(fric \\right)} + 3 a_{2} \\eta_{ve} tyy \\sin{\\left(fric \\right)} - 3 a_{3} \\eta_{ve} txx \\sin{\\left(fric \\right)} - 3 a_{3} \\eta_{ve} tyy \\sin{\\left(fric \\right)} + 9 \\eta_{ve} \\tau_{ii}}$"
      ],
      "text/plain": [
       "3*tau_ii*(-3*Coh*cos(fric) - 3*P*am*sin(fric) + a1*txx*sin(fric) + a2*tyy*sin(fric) - a3*txx*sin(fric) - a3*tyy*sin(fric) + 3*tau_ii)/(9*K*am*dt*tau_ii*sin(dil)*sin(fric) + 2*a1**2*eta_ve*tau_ii*sin(dil)*sin(fric) - 2*a1*a3*eta_ve*tau_ii*sin(dil)*sin(fric) + 3*a1*eta_ve*txx*sin(fric) + 2*a2**2*eta_ve*tau_ii*sin(dil)*sin(fric) - 2*a2*a3*eta_ve*tau_ii*sin(dil)*sin(fric) + 3*a2*eta_ve*tyy*sin(fric) - 3*a3*eta_ve*txx*sin(fric) - 3*a3*eta_ve*tyy*sin(fric) + 9*eta_ve*tau_ii)"
      ]
     },
     "execution_count": 147,
     "metadata": {},
     "output_type": "execute_result"
    }
   ],
   "source": [
    "tiic = tii - gdot*eta_ve\n",
    "Pc   = P + gdot*K*dt*sin(dil)\n",
    "txxc = txx - 2*eta_ve*gdot*(txx/tii/2 + a1*sin(dil)/3) \n",
    "tyyc = tyy - 2*eta_ve*gdot*(tyy/tii/2 + a2*sin(dil)/3)\n",
    "tzzc = -txxc-tyyc\n",
    "Fc   = tiic - Coh*cos(fric) - Pc*sin(fric)*am + sin(fric)*(a1*txxc + a2*tyyc + a3*tzzc)/3\n",
    "(solve(Fc, gdot)[0]).simplify()"
   ]
  },
  {
   "cell_type": "code",
   "execution_count": 148,
   "metadata": {},
   "outputs": [
    {
     "data": {
      "text/latex": [
       "$\\displaystyle a_{1} \\left(- 2 \\eta_{ve} \\dot{g} \\left(\\frac{a_{1} \\sin{\\left(dil \\right)}}{3} + \\frac{txx}{2 \\tau_{ii}}\\right) + txx\\right) + a_{2} \\left(- 2 \\eta_{ve} \\dot{g} \\left(\\frac{a_{2} \\sin{\\left(dil \\right)}}{3} + \\frac{tyy}{2 \\tau_{ii}}\\right) + tyy\\right) + a_{3} \\cdot \\left(2 \\eta_{ve} \\dot{g} \\left(\\frac{a_{1} \\sin{\\left(dil \\right)}}{3} + \\frac{txx}{2 \\tau_{ii}}\\right) + 2 \\eta_{ve} \\dot{g} \\left(\\frac{a_{2} \\sin{\\left(dil \\right)}}{3} + \\frac{tyy}{2 \\tau_{ii}}\\right) - txx - tyy\\right)$"
      ],
      "text/plain": [
       "a1*(-2*eta_ve*gdot*(a1*sin(dil)/3 + txx/(2*tau_ii)) + txx) + a2*(-2*eta_ve*gdot*(a2*sin(dil)/3 + tyy/(2*tau_ii)) + tyy) + a3*(2*eta_ve*gdot*(a1*sin(dil)/3 + txx/(2*tau_ii)) + 2*eta_ve*gdot*(a2*sin(dil)/3 + tyy/(2*tau_ii)) - txx - tyy)"
      ]
     },
     "metadata": {},
     "output_type": "display_data"
    },
    {
     "data": {
      "text/latex": [
       "$\\displaystyle \\frac{\\eta_{ve} \\dot{g} \\left(- 2 a_{1}^{2} \\tau_{ii} \\sin{\\left(dil \\right)} + 2 a_{1} a_{3} \\tau_{ii} \\sin{\\left(dil \\right)} - 3 a_{1} txx - 2 a_{2}^{2} \\tau_{ii} \\sin{\\left(dil \\right)} + 2 a_{2} a_{3} \\tau_{ii} \\sin{\\left(dil \\right)} - 3 a_{2} tyy + 3 a_{3} txx + 3 a_{3} tyy\\right)}{3 \\tau_{ii}}$"
      ],
      "text/plain": [
       "eta_ve*gdot*(-2*a1**2*tau_ii*sin(dil) + 2*a1*a3*tau_ii*sin(dil) - 3*a1*txx - 2*a2**2*tau_ii*sin(dil) + 2*a2*a3*tau_ii*sin(dil) - 3*a2*tyy + 3*a3*txx + 3*a3*tyy)/(3*tau_ii)"
      ]
     },
     "metadata": {},
     "output_type": "display_data"
    }
   ],
   "source": [
    "tzz = -txx - tyy\n",
    "Tit = a1*txx + a2*tyy + a3*tzz\n",
    "Ti  = a1*txxc + a2*tyyc + a3*tzzc\n",
    "display(Ti)\n",
    "display((Ti-Tit).simplify())"
   ]
  },
  {
   "cell_type": "code",
   "execution_count": 149,
   "metadata": {},
   "outputs": [],
   "source": [
    "Tic = Tit - a1"
   ]
  },
  {
   "cell_type": "code",
   "execution_count": 150,
   "metadata": {},
   "outputs": [
    {
     "data": {
      "text/latex": [
       "$\\displaystyle a_{1} \\left(- 2 \\eta_{ve} \\dot{g} \\left(\\frac{a_{1} \\sin{\\left(dil \\right)}}{3} + \\frac{txx}{2 \\tau_{ii}}\\right) + txx\\right) + a_{2} \\left(- 2 \\eta_{ve} \\dot{g} \\left(\\frac{a_{2} \\sin{\\left(dil \\right)}}{3} + \\frac{tyy}{2 \\tau_{ii}}\\right) + tyy\\right) + a_{3} \\cdot \\left(2 \\eta_{ve} \\dot{g} \\left(\\frac{a_{1} \\sin{\\left(dil \\right)}}{3} + \\frac{txx}{2 \\tau_{ii}}\\right) + 2 \\eta_{ve} \\dot{g} \\left(\\frac{a_{2} \\sin{\\left(dil \\right)}}{3} + \\frac{tyy}{2 \\tau_{ii}}\\right) - txx - tyy\\right)$"
      ],
      "text/plain": [
       "a1*(-2*eta_ve*gdot*(a1*sin(dil)/3 + txx/(2*tau_ii)) + txx) + a2*(-2*eta_ve*gdot*(a2*sin(dil)/3 + tyy/(2*tau_ii)) + tyy) + a3*(2*eta_ve*gdot*(a1*sin(dil)/3 + txx/(2*tau_ii)) + 2*eta_ve*gdot*(a2*sin(dil)/3 + tyy/(2*tau_ii)) - txx - tyy)"
      ]
     },
     "metadata": {},
     "output_type": "display_data"
    }
   ],
   "source": [
    "txxc = txx - 2*eta_ve*gdot*(txx/tii/2 + a1*sin(dil)/3)\n",
    "tyyc = tyy - 2*eta_ve*gdot*(tyy/tii/2 + a2*sin(dil)/3)\n",
    "tzzc = -txxc - tyyc\n",
    "Tic1 = a1*txxc + a2*tyyc + a3*tzzc\n",
    "display(Tic1)"
   ]
  },
  {
   "cell_type": "code",
   "execution_count": 151,
   "metadata": {},
   "outputs": [
    {
     "data": {
      "text/latex": [
       "$\\displaystyle 0$"
      ],
      "text/plain": [
       "0"
      ]
     },
     "execution_count": 151,
     "metadata": {},
     "output_type": "execute_result"
    }
   ],
   "source": [
    "(Tic1 - Ti).simplify()"
   ]
  },
  {
   "cell_type": "code",
   "execution_count": 156,
   "metadata": {},
   "outputs": [
    {
     "data": {
      "text/latex": [
       "$\\displaystyle \\frac{0.0555555555555556 \\cdot \\left(4 a_{1}^{2} \\eta_{ve}^{2} \\dot{g}^{2} \\tau_{ii}^{2} \\sin^{2}{\\left(dil \\right)} + 4 a_{2}^{2} \\eta_{ve}^{2} \\dot{g}^{2} \\tau_{ii}^{2} \\sin^{2}{\\left(dil \\right)} + 12 a_{2} \\eta_{ve}^{2} \\dot{g}^{2} \\tau_{ii} tyy \\sin{\\left(dil \\right)} - 12 a_{2} \\eta_{ve} \\dot{g} \\tau_{ii}^{2} tyy \\sin{\\left(dil \\right)} + 9 \\eta_{ve}^{2} \\dot{g}^{2} tyy^{2} - 18 \\eta_{ve} \\dot{g} \\tau_{ii} tyy^{2} + 9 \\tau_{ii}^{2} tyy^{2} + txx^{2} \\cdot \\left(9 \\eta_{ve}^{2} \\dot{g}^{2} - 18 \\eta_{ve} \\dot{g} \\tau_{ii} + 9 \\tau_{ii}^{2}\\right) + txx \\left(12 a_{1} \\eta_{ve}^{2} \\dot{g}^{2} \\tau_{ii} \\sin{\\left(dil \\right)} - 12 a_{1} \\eta_{ve} \\dot{g} \\tau_{ii}^{2} \\sin{\\left(dil \\right)}\\right)\\right)}{\\tau_{ii}^{2}}$"
      ],
      "text/plain": [
       "0.0555555555555556*(4*a1**2*eta_ve**2*gdot**2*tau_ii**2*sin(dil)**2 + 4*a2**2*eta_ve**2*gdot**2*tau_ii**2*sin(dil)**2 + 12*a2*eta_ve**2*gdot**2*tau_ii*tyy*sin(dil) - 12*a2*eta_ve*gdot*tau_ii**2*tyy*sin(dil) + 9*eta_ve**2*gdot**2*tyy**2 - 18*eta_ve*gdot*tau_ii*tyy**2 + 9*tau_ii**2*tyy**2 + txx**2*(9*eta_ve**2*gdot**2 - 18*eta_ve*gdot*tau_ii + 9*tau_ii**2) + txx*(12*a1*eta_ve**2*gdot**2*tau_ii*sin(dil) - 12*a1*eta_ve*gdot*tau_ii**2*sin(dil)))/tau_ii**2"
      ]
     },
     "execution_count": 156,
     "metadata": {},
     "output_type": "execute_result"
    }
   ],
   "source": [
    "txxc = txx - 2*eta_ve*gdot*(txx/tii/2 + a1*sin(dil)/3) \n",
    "tyyc = tyy - 2*eta_ve*gdot*(tyy/tii/2 + a2*sin(dil)/3)\n",
    "tzzc = -txxc-tyyc\n",
    "J2 = 1/2*(txxc**2 + tyyc**2)\n",
    "J2.factor(txx)"
   ]
  },
  {
   "cell_type": "code",
   "execution_count": null,
   "metadata": {},
   "outputs": [],
   "source": []
  },
  {
   "cell_type": "code",
   "execution_count": null,
   "metadata": {},
   "outputs": [],
   "source": []
  },
  {
   "cell_type": "code",
   "execution_count": null,
   "metadata": {},
   "outputs": [],
   "source": []
  },
  {
   "cell_type": "code",
   "execution_count": null,
   "metadata": {},
   "outputs": [],
   "source": []
  },
  {
   "cell_type": "code",
   "execution_count": null,
   "metadata": {},
   "outputs": [],
   "source": []
  },
  {
   "cell_type": "code",
   "execution_count": null,
   "metadata": {},
   "outputs": [],
   "source": []
  },
  {
   "cell_type": "code",
   "execution_count": null,
   "metadata": {},
   "outputs": [],
   "source": []
  },
  {
   "cell_type": "code",
   "execution_count": null,
   "metadata": {},
   "outputs": [],
   "source": []
  },
  {
   "cell_type": "code",
   "execution_count": null,
   "metadata": {},
   "outputs": [],
   "source": []
  },
  {
   "cell_type": "code",
   "execution_count": null,
   "metadata": {},
   "outputs": [],
   "source": []
  },
  {
   "cell_type": "code",
   "execution_count": null,
   "metadata": {},
   "outputs": [],
   "source": []
  },
  {
   "cell_type": "code",
   "execution_count": null,
   "metadata": {},
   "outputs": [],
   "source": []
  },
  {
   "cell_type": "code",
   "execution_count": null,
   "metadata": {},
   "outputs": [],
   "source": []
  },
  {
   "cell_type": "code",
   "execution_count": null,
   "metadata": {},
   "outputs": [],
   "source": []
  },
  {
   "cell_type": "code",
   "execution_count": null,
   "metadata": {},
   "outputs": [],
   "source": []
  },
  {
   "cell_type": "code",
   "execution_count": null,
   "metadata": {},
   "outputs": [],
   "source": []
  },
  {
   "cell_type": "code",
   "execution_count": null,
   "metadata": {},
   "outputs": [],
   "source": []
  },
  {
   "cell_type": "code",
   "execution_count": null,
   "metadata": {},
   "outputs": [],
   "source": []
  },
  {
   "cell_type": "code",
   "execution_count": null,
   "metadata": {},
   "outputs": [],
   "source": []
  },
  {
   "cell_type": "code",
   "execution_count": null,
   "metadata": {},
   "outputs": [],
   "source": []
  },
  {
   "cell_type": "code",
   "execution_count": null,
   "metadata": {},
   "outputs": [],
   "source": []
  },
  {
   "cell_type": "code",
   "execution_count": null,
   "metadata": {},
   "outputs": [],
   "source": []
  },
  {
   "cell_type": "code",
   "execution_count": null,
   "metadata": {},
   "outputs": [],
   "source": []
  },
  {
   "cell_type": "code",
   "execution_count": null,
   "metadata": {},
   "outputs": [],
   "source": []
  },
  {
   "cell_type": "code",
   "execution_count": null,
   "metadata": {},
   "outputs": [],
   "source": []
  },
  {
   "cell_type": "code",
   "execution_count": null,
   "metadata": {},
   "outputs": [],
   "source": []
  },
  {
   "cell_type": "code",
   "execution_count": null,
   "metadata": {},
   "outputs": [],
   "source": []
  },
  {
   "cell_type": "code",
   "execution_count": null,
   "metadata": {},
   "outputs": [],
   "source": []
  },
  {
   "cell_type": "code",
   "execution_count": null,
   "metadata": {},
   "outputs": [],
   "source": []
  },
  {
   "cell_type": "code",
   "execution_count": null,
   "metadata": {},
   "outputs": [],
   "source": []
  }
 ],
 "metadata": {
  "kernelspec": {
   "display_name": "Python 3",
   "language": "python",
   "name": "python3"
  },
  "language_info": {
   "codemirror_mode": {
    "name": "ipython",
    "version": 3
   },
   "file_extension": ".py",
   "mimetype": "text/x-python",
   "name": "python",
   "nbconvert_exporter": "python",
   "pygments_lexer": "ipython3",
   "version": "3.9.6"
  },
  "orig_nbformat": 4,
  "vscode": {
   "interpreter": {
    "hash": "31f2aee4e71d21fbe5cf8b01ff0e069b9275f58929596ceb00d14d90e3e16cd6"
   }
  }
 },
 "nbformat": 4,
 "nbformat_minor": 2
}
