{
 "cells": [
  {
   "cell_type": "code",
   "execution_count": 1,
   "metadata": {},
   "outputs": [],
   "source": [
    "from sympy import *"
   ]
  },
  {
   "cell_type": "markdown",
   "metadata": {},
   "source": [
    "Transformation matrix"
   ]
  },
  {
   "cell_type": "code",
   "execution_count": 2,
   "metadata": {},
   "outputs": [],
   "source": [
    "theta = symbols('theta')\n",
    "Q = Matrix([[cos(theta), sin(theta)], [-sin(theta), cos(theta)]])"
   ]
  },
  {
   "cell_type": "markdown",
   "metadata": {},
   "source": [
    "Direction-dependent yield based on 2D Hill's model"
   ]
  },
  {
   "cell_type": "code",
   "execution_count": 3,
   "metadata": {},
   "outputs": [
    {
     "data": {
      "text/latex": [
       "$\\displaystyle \\frac{1.0 C \\sqrt{\\delta^{2} \\cos^{2}{\\left(\\theta \\right)} - \\cos^{2}{\\left(\\theta \\right)} + 1}}{\\delta}$"
      ],
      "text/plain": [
       "1.0*C*sqrt(delta**2*cos(theta)**2 - cos(theta)**2 + 1)/delta"
      ]
     },
     "execution_count": 3,
     "metadata": {},
     "output_type": "execute_result"
    }
   ],
   "source": [
    "# Calculate the yield function the Cartesian plane\n",
    "C, delta = symbols('C, delta', positive=True)\n",
    "\n",
    "# Upon yield the following stress is determined in the principal plane\n",
    "Txx_rot = C*cos(theta)\n",
    "Tyy_rot =-C*cos(theta)\n",
    "Txy_rot = C*sin(theta)/delta \n",
    "\n",
    "T_rot =  Matrix([[Txx_rot, Txy_rot], [Txy_rot, Tyy_rot]])\n",
    "\n",
    "J2 = 0.5*(T_rot[0,0]**2 + T_rot[1,1]**2) + T_rot[0,1]**2*delta**2\n",
    "\n",
    "# Let's rotate back\n",
    "T_plastic = Q.transpose()*T_rot*Q\n",
    "\n",
    "# Cartesian invariant\n",
    "J2 = 0.5*(T_plastic[0,0]**2 + T_plastic[1,1]**2) + T_plastic[0,1]**2\n",
    "\n",
    "T2 = sqrt(J2.expand().simplify())\n",
    "\n",
    "T2.simplify()"
   ]
  },
  {
   "cell_type": "code",
   "execution_count": 4,
   "metadata": {},
   "outputs": [],
   "source": [
    "# S1 angle\n",
    "Exx, Eyy, Exy, lam, P =  symbols('Exx, Eyy, Exy, lam, P')\n",
    "G, delta = symbols('G, delta', positive=True)\n",
    "\n",
    "# Eyy = - Exx\n",
    "\n",
    "# director angle\n",
    "n     =  pi/2 + theta \n",
    "# delta = 1\n",
    "\n",
    "ani   = 1.0 - 1.0 / delta\n",
    "nx    = cos(n)\n",
    "ny    = sin(n)\n",
    "d1    = 2*nx**2*ny**2\n",
    "d2    = nx*ny*(ny**2 - nx**2)\n",
    "\n",
    "D11  = 2.0 - 2.0*ani*d1\n",
    "D12  = 2.0*ani*d1\n",
    "D13  =-2.0*ani*d2\n",
    "D22  = 2.0 - 2.0*ani*d1\n",
    "D23  = 2.0*ani*d2\n",
    "D33  = 1.0  + 2.0*ani*(d1 - 0.5)\n",
    "D21 = D12\n",
    "D31 = D13\n",
    "D32 = D23\n",
    "\n",
    "Sxx = D11*Exx + D12*Eyy + D13*2*Exy - P\n",
    "Syy = D21*Exx + D22*Eyy + D23*2*Exy - P\n",
    "Sxy = D31*Exx + D32*Eyy + D33*2*Exy\n",
    "\n",
    "# Sxx = Exx  - P\n",
    "# Syy = Eyy  - P\n",
    "# Sxy = Exy\n",
    "\n",
    "A   = Matrix([[Sxx-lam, Sxy], [Sxy, Syy-lam]])  \n",
    "M   = Matrix([[Sxx, Sxy], [Sxy, Syy]])  "
   ]
  },
  {
   "cell_type": "code",
   "execution_count": 5,
   "metadata": {},
   "outputs": [],
   "source": [
    "lams = solve(det(A), lam)"
   ]
  },
  {
   "cell_type": "code",
   "execution_count": 6,
   "metadata": {},
   "outputs": [
    {
     "data": {
      "text/latex": [
       "$\\displaystyle \\frac{x_{2} \\left(Exx \\left(- \\delta \\sin{\\left(4.0 \\theta \\right)} + \\sin{\\left(4.0 \\theta \\right)}\\right) + Exy \\left(4.0 \\delta \\cos^{2}{\\left(2.0 \\theta \\right)} - 4.0 \\delta - 4.0 \\cos^{2}{\\left(2.0 \\theta \\right)}\\right) + Eyy \\delta \\sin{\\left(4.0 \\theta \\right)} - Eyy \\sin{\\left(4.0 \\theta \\right)}\\right)}{Exx \\left(\\delta \\cos{\\left(4.0 \\theta \\right)} + \\delta - \\cos{\\left(4.0 \\theta \\right)} + 1\\right) + Exy \\left(- 8.0 \\delta \\sin^{3}{\\left(\\theta \\right)} \\cos{\\left(\\theta \\right)} + 8.0 \\delta \\sin{\\left(\\theta \\right)} \\cos^{3}{\\left(\\theta \\right)} + 8.0 \\sin^{3}{\\left(\\theta \\right)} \\cos{\\left(\\theta \\right)} - 8.0 \\sin{\\left(\\theta \\right)} \\cos^{3}{\\left(\\theta \\right)}\\right) - Eyy \\delta \\cos{\\left(4.0 \\theta \\right)} - Eyy \\delta + Eyy \\cos{\\left(4.0 \\theta \\right)} - Eyy + 4.0 \\left(Exx^{2} \\cdot \\left(0.25 \\delta^{2} \\cos^{2}{\\left(2.0 \\theta \\right)} - 0.25 \\cos^{2}{\\left(2.0 \\theta \\right)} + 0.25\\right) + Exx \\left(Exy \\left(0.5 \\delta^{2} \\sin{\\left(4.0 \\theta \\right)} - 0.5 \\sin{\\left(4.0 \\theta \\right)}\\right) - 0.5 Eyy \\delta^{2} \\cos^{2}{\\left(2.0 \\theta \\right)} + 0.5 Eyy \\cos^{2}{\\left(2.0 \\theta \\right)} - 0.5 Eyy\\right) + Exy^{2} \\left(- \\delta^{2} \\cos^{2}{\\left(2.0 \\theta \\right)} + \\delta^{2} + \\cos^{2}{\\left(2.0 \\theta \\right)}\\right) + Exy \\left(- 0.5 Eyy \\delta^{2} \\sin{\\left(4.0 \\theta \\right)} + 0.5 Eyy \\sin{\\left(4.0 \\theta \\right)}\\right) + 0.25 Eyy^{2} \\delta^{2} \\cos^{2}{\\left(2.0 \\theta \\right)} - 0.25 Eyy^{2} \\cos^{2}{\\left(2.0 \\theta \\right)} + 0.25 Eyy^{2}\\right)^{0.5}}$"
      ],
      "text/plain": [
       "x2*(Exx*(-delta*sin(4.0*theta) + sin(4.0*theta)) + Exy*(4.0*delta*cos(2.0*theta)**2 - 4.0*delta - 4.0*cos(2.0*theta)**2) + Eyy*delta*sin(4.0*theta) - Eyy*sin(4.0*theta))/(Exx*(delta*cos(4.0*theta) + delta - cos(4.0*theta) + 1) + Exy*(-8.0*delta*sin(theta)**3*cos(theta) + 8.0*delta*sin(theta)*cos(theta)**3 + 8.0*sin(theta)**3*cos(theta) - 8.0*sin(theta)*cos(theta)**3) - Eyy*delta*cos(4.0*theta) - Eyy*delta + Eyy*cos(4.0*theta) - Eyy + 4.0*(Exx**2*(0.25*delta**2*cos(2.0*theta)**2 - 0.25*cos(2.0*theta)**2 + 0.25) + Exx*(Exy*(0.5*delta**2*sin(4.0*theta) - 0.5*sin(4.0*theta)) - 0.5*Eyy*delta**2*cos(2.0*theta)**2 + 0.5*Eyy*cos(2.0*theta)**2 - 0.5*Eyy) + Exy**2*(-delta**2*cos(2.0*theta)**2 + delta**2 + cos(2.0*theta)**2) + Exy*(-0.5*Eyy*delta**2*sin(4.0*theta) + 0.5*Eyy*sin(4.0*theta)) + 0.25*Eyy**2*delta**2*cos(2.0*theta)**2 - 0.25*Eyy**2*cos(2.0*theta)**2 + 0.25*Eyy**2)**0.5)"
      ]
     },
     "metadata": {},
     "output_type": "display_data"
    }
   ],
   "source": [
    "x1, x2 = symbols('x1,x2')\n",
    "x = Matrix([[x1],[x2]])\n",
    "F = M*x - lams[0]*x\n",
    "# s = solve(F,[x1,x2])\n",
    "# julia_code(s[x1])\n",
    "# julia_code(s[x2])\n",
    "s = solve(F[0],[x1])\n",
    "# julia_code(s[0])\n",
    "display(s[0].collect(Exx).collect(Exy))"
   ]
  },
  {
   "cell_type": "code",
   "execution_count": 7,
   "metadata": {},
   "outputs": [
    {
     "data": {
      "text/latex": [
       "$\\displaystyle - \\left(-2.0 + \\frac{2.0}{\\delta}\\right) \\left(- \\sin^{2}{\\left(\\theta \\right)} + \\cos^{2}{\\left(\\theta \\right)}\\right) \\sin{\\left(\\theta \\right)} \\cos{\\left(\\theta \\right)}$"
      ],
      "text/plain": [
       "-(-2.0 + 2.0/delta)*(-sin(theta)**2 + cos(theta)**2)*sin(theta)*cos(theta)"
      ]
     },
     "execution_count": 7,
     "metadata": {},
     "output_type": "execute_result"
    }
   ],
   "source": [
    "D13"
   ]
  },
  {
   "cell_type": "code",
   "execution_count": null,
   "metadata": {},
   "outputs": [],
   "source": []
  }
 ],
 "metadata": {
  "kernelspec": {
   "display_name": "Python 3",
   "language": "python",
   "name": "python3"
  },
  "language_info": {
   "codemirror_mode": {
    "name": "ipython",
    "version": 3
   },
   "file_extension": ".py",
   "mimetype": "text/x-python",
   "name": "python",
   "nbconvert_exporter": "python",
   "pygments_lexer": "ipython3",
   "version": "3.9.6"
  }
 },
 "nbformat": 4,
 "nbformat_minor": 2
}
