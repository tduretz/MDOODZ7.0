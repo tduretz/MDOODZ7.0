{
 "cells": [
  {
   "cell_type": "code",
   "execution_count": 2,
   "metadata": {},
   "outputs": [],
   "source": [
    "from sympy import *"
   ]
  },
  {
   "cell_type": "markdown",
   "metadata": {},
   "source": [
    "Direction-dependent yield based on 2D Hill's model"
   ]
  },
  {
   "cell_type": "code",
   "execution_count": null,
   "metadata": {},
   "outputs": [
    {
     "ename": "NameError",
     "evalue": "name 'theta' is not defined",
     "output_type": "error",
     "traceback": [
      "\u001b[0;31m---------------------------------------------------------------------------\u001b[0m",
      "\u001b[0;31mNameError\u001b[0m                                 Traceback (most recent call last)",
      "Cell \u001b[0;32mIn[3], line 5\u001b[0m\n\u001b[1;32m      2\u001b[0m C, delta\u001b[38;5;241m=\u001b[39m symbols(\u001b[38;5;124m'\u001b[39m\u001b[38;5;124mC, delta\u001b[39m\u001b[38;5;124m'\u001b[39m, positive\u001b[38;5;241m=\u001b[39m\u001b[38;5;28;01mTrue\u001b[39;00m)\n\u001b[1;32m      4\u001b[0m \u001b[38;5;66;03m# Upon yield the following stress is determined in the principal plane\u001b[39;00m\n\u001b[0;32m----> 5\u001b[0m Txx_rot \u001b[38;5;241m=\u001b[39m C\u001b[38;5;241m*\u001b[39mcos(\u001b[43mtheta\u001b[49m)\n\u001b[1;32m      6\u001b[0m Tyy_rot \u001b[38;5;241m=\u001b[39m\u001b[38;5;241m-\u001b[39mC\u001b[38;5;241m*\u001b[39mcos(theta)\n\u001b[1;32m      7\u001b[0m Txy_rot \u001b[38;5;241m=\u001b[39m C\u001b[38;5;241m*\u001b[39msin(theta)\u001b[38;5;241m/\u001b[39mdelta \n",
      "\u001b[0;31mNameError\u001b[0m: name 'theta' is not defined"
     ]
    }
   ],
   "source": [
    "# Try to calculate the yield function the Cartesian plane\n",
    "theta = symbols('theta')\n",
    "C, delta = symbols('C, delta', positive=True)\n",
    "\n",
    "# Upon yield the following stress is determined in the principal plane\n",
    "Txx_rot = C*cos(theta)\n",
    "Tyy_rot =-C*cos(theta)\n",
    "Txy_rot = C*sin(theta)/delta \n",
    "\n",
    "T_rot =  Matrix([[Txx_rot, Txy_rot], [Txy_rot, Tyy_rot]])\n",
    "\n",
    "J2 = 0.5*(T_rot[0,0]**2 + T_rot[1,1]**2) + T_rot[0,1]**2*delta**2\n",
    "\n",
    "# Let's rotate back\n",
    "T_plastic = Q.transpose()*T_rot*Q\n",
    "\n",
    "# Cartesian invariant\n",
    "J2 = 0.5*(T_plastic[0,0]**2 + T_plastic[1,1]**2) + T_plastic[0,1]**2\n",
    "\n",
    "T2 = sqrt(J2.expand().simplify())\n",
    "\n",
    "T2.simplify()"
   ]
  },
  {
   "cell_type": "code",
   "execution_count": null,
   "metadata": {},
   "outputs": [],
   "source": []
  }
 ],
 "metadata": {
  "kernelspec": {
   "display_name": "Python 3",
   "language": "python",
   "name": "python3"
  },
  "language_info": {
   "codemirror_mode": {
    "name": "ipython",
    "version": 3
   },
   "file_extension": ".py",
   "mimetype": "text/x-python",
   "name": "python",
   "nbconvert_exporter": "python",
   "pygments_lexer": "ipython3",
   "version": "3.9.6"
  }
 },
 "nbformat": 4,
 "nbformat_minor": 2
}
